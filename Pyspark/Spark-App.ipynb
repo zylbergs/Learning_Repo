{
 "cells": [
  {
   "cell_type": "code",
   "execution_count": 13,
   "id": "233cf12c-6cdf-4d15-bad6-22d1690e970b",
   "metadata": {},
   "outputs": [],
   "source": [
    "%config Completer.use_jedi = False"
   ]
  },
  {
   "cell_type": "markdown",
   "id": "63e03662-d5b3-4237-8c1d-c817ffa2a640",
   "metadata": {},
   "source": [
    "# Spark In Conda Installation !!!"
   ]
  },
  {
   "cell_type": "markdown",
   "id": "3886922f-c3f4-48a2-8ff1-b4be64f254fe",
   "metadata": {},
   "source": [
    "`Make sure this step is done correctly`  \n",
    "\n",
    "`prerequisites`\n",
    "- anaconda apps\n",
    "- jupyter/lab\n",
    "- conda environment variables in the system\n",
    "\n",
    "`Steps`\n",
    "1. download spark at https://spark.apache.org/downloads.html\n",
    "\n",
    "    - make sure you pick correct version of Spark and compatible with following entities: Pyspark, Hadoop, Winutils & Hadoop.dll, Java, Python\n",
    "\n",
    "\n",
    "2. add conda env. variables in system path\n",
    "\n",
    "    - which point at C:\\bla\\cla\\Anaconda3\\Scripts\n",
    "\n",
    "\n",
    "3. Setup conda Python interpreter exe directory in Path environment variables\n",
    "\n",
    "    - which point at C:\\bla\\cla\\Anaconda3\n",
    "\n",
    "\n",
    "4. add SPARK_HOME environment variables\n",
    "\n",
    "    - which point at C:\\bla\\Spark\\spark-3.1.2-bin-hadoop3.2\n",
    "\n",
    "\n",
    "5. add HADOOP_HOME environment variables which point at\n",
    "\n",
    "    - C:\\bla\\Hadoop\n",
    "    - NOTE : spark need some of hadoop properties like winutils.exe and hadoop.dll, download at https://github.com/steveloughran/winutils\n",
    "\n",
    "\n",
    "6. add JAVA_HOME environment variables which point at\n",
    "\n",
    "    - C:\\Program Files\\Java\\jdk1.8.0_301\n",
    "    - NOTE : USE JAVA JDK not JRE\n",
    "\n",
    "\n",
    "7. Add to Path environment variables the \\bin directory of (Hadoop,Spark,Java,Python)  \n",
    "8. add PYTHONPATH environment varibales which point to spark pyhton py4j\n",
    "9. add PYSPARK_DRIVER_PYTHON_OPTS and set the value to 'notebook'\n",
    "10. add PYSPARK_DRIVER_PYTHON and set the value to jupyter\n",
    "11. copy hadoop.dll to C:\\Windows\\System32\n",
    "\n",
    "                            -- checkpoint --\n",
    "NOTE : At this point, spark can run properly in CMD/spark shell\n",
    "\n",
    "12. install pyspark using pip\n",
    "\n",
    "    - pip install pyspark\n",
    "    - NOTE : you may encounter some failure due to required other dependencies, install them to meet pyspark requirements dependencies\n",
    "\n",
    "13. install findspark using pip\n",
    "    - pip install findspark\n",
    "    - call the mehtod in production code\n",
    "\n",
    "\n",
    "14. DONE ! Spark can run at standalone mode"
   ]
  },
  {
   "cell_type": "markdown",
   "id": "13fd002d",
   "metadata": {
    "tags": []
   },
   "source": [
    "# Spark Journey"
   ]
  },
  {
   "cell_type": "markdown",
   "id": "53997e8c",
   "metadata": {
    "tags": []
   },
   "source": [
    "\n",
    "## import necessary dependencies"
   ]
  },
  {
   "cell_type": "code",
   "execution_count": 1,
   "id": "5a2a0883-0aa7-472a-8db6-05db3b866e7c",
   "metadata": {},
   "outputs": [
    {
     "name": "stderr",
     "output_type": "stream",
     "text": [
      "WARNING:root:'PYARROW_IGNORE_TIMEZONE' environment variable was not set. It is required to set this environment variable to '1' in both driver and executor sides if you use pyarrow>=2.0.0. Koalas will set it for you but it does not work if there is a Spark context already launched.\n"
     ]
    }
   ],
   "source": [
    "import findspark\n",
    "\n",
    "findspark.init()\n",
    "findspark.find()\n",
    "import pyspark\n",
    "import numpy as np\n",
    "import pandas as pd\n",
    "import json\n",
    "import time\n",
    "import psycopg2\n",
    "#koalas module: pandas like interface to integrate with spark dataframe\n",
    "import databricks.koalas as ks\n",
    "\n",
    "#function for aggregation\n",
    "from pyspark.sql import functions as F\n",
    "from pyspark.sql.functions import sum,min,max,avg,count\n",
    "\n",
    "#spark configuration \n",
    "from pyspark import SparkConf\n",
    "\n",
    "#spark streaming dependencies\n",
    "from pyspark.sql.types import StructField,StructType,StringType,IntegerType,DoubleType,DateType\n",
    "from pyspark.streaming import StreamingContext\n",
    "from pyspark import SparkContext\n",
    "from pyspark.sql.streaming import DataStreamReader"
   ]
  },
  {
   "cell_type": "markdown",
   "id": "384c4a73",
   "metadata": {
    "tags": []
   },
   "source": [
    "## Data Sources"
   ]
  },
  {
   "cell_type": "code",
   "execution_count": 2,
   "id": "ddf32afe-e5f1-405c-b18f-f7901814e345",
   "metadata": {},
   "outputs": [],
   "source": [
    "data = r\"D:\\Data Engineer\\Project\\portofolio dashboard\\brazil chainstore\\Sales Report.csv\""
   ]
  },
  {
   "cell_type": "markdown",
   "id": "f0303aea",
   "metadata": {
    "tags": []
   },
   "source": [
    "## Spark Configuration"
   ]
  },
  {
   "cell_type": "code",
   "execution_count": 3,
   "id": "33a45b1a-b109-4320-9172-f5b46e9415b9",
   "metadata": {},
   "outputs": [],
   "source": [
    "conf = SparkConf().setAll([\n",
    "    (\"spark.driver.memory\",\"4g\"),\n",
    "    (\"spark.executor.memory\",\"6g\"),\n",
    "    (\"spark.executor.memoryOverhead\",\"1g\"),\n",
    "    (\"spark.master\",\"local[*]\"),\n",
    "    (\"spark.executor.cores\",4),\n",
    "    (\"spark.executor.instances\",4),\n",
    "    (\"spark.default.parallelism\",16),\n",
    "    (\"spark.task.cpus\",2)\n",
    "])\n",
    "#spark.conf.set(\"spark.executor.instances\", 4)\n",
    "#spark.conf.set(\"spark.executor.cores\", 4)\n",
    "#avaiable properties at : https://spark.apache.org/docs/latest/configuration.html"
   ]
  },
  {
   "cell_type": "markdown",
   "id": "1d214781",
   "metadata": {
    "tags": []
   },
   "source": [
    "## Spark Initialization"
   ]
  },
  {
   "cell_type": "code",
   "execution_count": 4,
   "id": "444a2f9f-ae8d-4f8a-8334-b9b39b5c7b56",
   "metadata": {},
   "outputs": [],
   "source": [
    "spark = pyspark.sql.SparkSession.builder.config(conf=conf).appName(\"learnspark\").getOrCreate()\n",
    "#initialize session"
   ]
  },
  {
   "cell_type": "code",
   "execution_count": 5,
   "id": "37655d1b",
   "metadata": {},
   "outputs": [
    {
     "data": {
      "text/html": [
       "\n",
       "            <div>\n",
       "                <p><b>SparkSession - in-memory</b></p>\n",
       "                \n",
       "        <div>\n",
       "            <p><b>SparkContext</b></p>\n",
       "\n",
       "            <p><a href=\"http://kevin.mshome.net:4040\">Spark UI</a></p>\n",
       "\n",
       "            <dl>\n",
       "              <dt>Version</dt>\n",
       "                <dd><code>v3.1.2</code></dd>\n",
       "              <dt>Master</dt>\n",
       "                <dd><code>local[*]</code></dd>\n",
       "              <dt>AppName</dt>\n",
       "                <dd><code>learnspark</code></dd>\n",
       "            </dl>\n",
       "        </div>\n",
       "        \n",
       "            </div>\n",
       "        "
      ],
      "text/plain": [
       "<pyspark.sql.session.SparkSession at 0x2987fcf0710>"
      ]
     },
     "execution_count": 5,
     "metadata": {},
     "output_type": "execute_result"
    }
   ],
   "source": [
    "spark\n",
    "#spark.stop()\n",
    "#spark sesion"
   ]
  },
  {
   "cell_type": "markdown",
   "id": "7b261052",
   "metadata": {
    "tags": []
   },
   "source": [
    "## Spark Playground"
   ]
  },
  {
   "cell_type": "markdown",
   "id": "f078f829",
   "metadata": {
    "jp-MarkdownHeadingCollapsed": true,
    "tags": []
   },
   "source": [
    "### Read Data"
   ]
  },
  {
   "cell_type": "code",
   "execution_count": 6,
   "id": "4bacb8da-a2e6-4466-9cbf-c7cc7c1161ab",
   "metadata": {},
   "outputs": [],
   "source": [
    "sdf = spark.read.csv(data,header=True,sep=';',inferSchema=True)\n",
    "#infer schema = read column values data type if none/false will be string default"
   ]
  },
  {
   "cell_type": "markdown",
   "id": "44cfd9a0",
   "metadata": {
    "tags": []
   },
   "source": [
    "### Data Inspection"
   ]
  },
  {
   "cell_type": "code",
   "execution_count": 7,
   "id": "8e9758f1-9279-4a7d-b11d-62831e21fe47",
   "metadata": {},
   "outputs": [
    {
     "name": "stdout",
     "output_type": "stream",
     "text": [
      "+------------+------------+---------------+-----------------+----------------+--------------------+-----------+-------------------+------------+---------------+-------+------+---------------+\n",
      "|Company Code|Order Number|       Employee|          Product|Product Category|              Client|Client City|     Sale Date Time|Product Cost|Discount Amount| Amount| Total|Form of payment|\n",
      "+------------+------------+---------------+-----------------+----------------+--------------------+-----------+-------------------+------------+---------------+-------+------+---------------+\n",
      "|       39000|          12|      Stacy Day| Special Gasoline|            Fuel|Customer not info...|    No City|2017-03-31 04:10:00|        3.05|            0.0|  5.642| 20.02|          Money|\n",
      "|       39000|          21|Olive Stevenson|   Special Diesel|            Fuel|Customer not info...|    No City|2017-03-31 04:13:00|        2.51|            0.0|125.045| 350.0|     Debit Card|\n",
      "|       39000|          38|      Stacy Day|   Special Diesel|            Fuel|Customer not info...|    No City|2017-03-31 04:25:00|        2.51|            0.0| 35.699| 99.92|          Money|\n",
      "|       39000|          39|Olive Stevenson|   Lubricant 1108|       Lubricant|Customer not info...|    No City|2017-03-31 04:26:00|       7.409|            0.0|    1.0|  13.0|          Money|\n",
      "|       39000|          39|Olive Stevenson|Diesel Auto Clean|            Fuel|Customer not info...|    No City|2017-03-31 04:26:00|        2.56|            0.0| 42.162|120.96|          Money|\n",
      "+------------+------------+---------------+-----------------+----------------+--------------------+-----------+-------------------+------------+---------------+-------+------+---------------+\n",
      "only showing top 5 rows\n",
      "\n"
     ]
    }
   ],
   "source": [
    "sdf.show(5)\n",
    "#sdf.take(5)\n",
    "#sdf.collect()\n",
    "#sdf.head()"
   ]
  },
  {
   "cell_type": "code",
   "execution_count": 9,
   "id": "446d0028-d6d9-468c-82ec-0d7c5d131c8d",
   "metadata": {},
   "outputs": [
    {
     "data": {
      "text/html": [
       "<div>\n",
       "<style scoped>\n",
       "    .dataframe tbody tr th:only-of-type {\n",
       "        vertical-align: middle;\n",
       "    }\n",
       "\n",
       "    .dataframe tbody tr th {\n",
       "        vertical-align: top;\n",
       "    }\n",
       "\n",
       "    .dataframe thead th {\n",
       "        text-align: right;\n",
       "    }\n",
       "</style>\n",
       "<table border=\"1\" class=\"dataframe\">\n",
       "  <thead>\n",
       "    <tr style=\"text-align: right;\">\n",
       "      <th></th>\n",
       "      <th>Company Code</th>\n",
       "      <th>Order Number</th>\n",
       "      <th>Employee</th>\n",
       "      <th>Product</th>\n",
       "      <th>Product Category</th>\n",
       "      <th>Client</th>\n",
       "      <th>Client City</th>\n",
       "      <th>Sale Date Time</th>\n",
       "      <th>Product Cost</th>\n",
       "      <th>Discount Amount</th>\n",
       "      <th>Amount</th>\n",
       "      <th>Total</th>\n",
       "      <th>Form of payment</th>\n",
       "    </tr>\n",
       "  </thead>\n",
       "  <tbody>\n",
       "    <tr>\n",
       "      <th>0</th>\n",
       "      <td>39000</td>\n",
       "      <td>12</td>\n",
       "      <td>Stacy Day</td>\n",
       "      <td>Special Gasoline</td>\n",
       "      <td>Fuel</td>\n",
       "      <td>Customer not informed</td>\n",
       "      <td>No City</td>\n",
       "      <td>2017-03-31 04:10:00</td>\n",
       "      <td>3.050</td>\n",
       "      <td>0.0</td>\n",
       "      <td>5.642</td>\n",
       "      <td>20.02</td>\n",
       "      <td>Money</td>\n",
       "    </tr>\n",
       "    <tr>\n",
       "      <th>1</th>\n",
       "      <td>39000</td>\n",
       "      <td>21</td>\n",
       "      <td>Olive Stevenson</td>\n",
       "      <td>Special Diesel</td>\n",
       "      <td>Fuel</td>\n",
       "      <td>Customer not informed</td>\n",
       "      <td>No City</td>\n",
       "      <td>2017-03-31 04:13:00</td>\n",
       "      <td>2.510</td>\n",
       "      <td>0.0</td>\n",
       "      <td>125.045</td>\n",
       "      <td>350.00</td>\n",
       "      <td>Debit Card</td>\n",
       "    </tr>\n",
       "    <tr>\n",
       "      <th>2</th>\n",
       "      <td>39000</td>\n",
       "      <td>38</td>\n",
       "      <td>Stacy Day</td>\n",
       "      <td>Special Diesel</td>\n",
       "      <td>Fuel</td>\n",
       "      <td>Customer not informed</td>\n",
       "      <td>No City</td>\n",
       "      <td>2017-03-31 04:25:00</td>\n",
       "      <td>2.510</td>\n",
       "      <td>0.0</td>\n",
       "      <td>35.699</td>\n",
       "      <td>99.92</td>\n",
       "      <td>Money</td>\n",
       "    </tr>\n",
       "    <tr>\n",
       "      <th>3</th>\n",
       "      <td>39000</td>\n",
       "      <td>39</td>\n",
       "      <td>Olive Stevenson</td>\n",
       "      <td>Lubricant 1108</td>\n",
       "      <td>Lubricant</td>\n",
       "      <td>Customer not informed</td>\n",
       "      <td>No City</td>\n",
       "      <td>2017-03-31 04:26:00</td>\n",
       "      <td>7.409</td>\n",
       "      <td>0.0</td>\n",
       "      <td>1.000</td>\n",
       "      <td>13.00</td>\n",
       "      <td>Money</td>\n",
       "    </tr>\n",
       "    <tr>\n",
       "      <th>4</th>\n",
       "      <td>39000</td>\n",
       "      <td>39</td>\n",
       "      <td>Olive Stevenson</td>\n",
       "      <td>Diesel Auto Clean</td>\n",
       "      <td>Fuel</td>\n",
       "      <td>Customer not informed</td>\n",
       "      <td>No City</td>\n",
       "      <td>2017-03-31 04:26:00</td>\n",
       "      <td>2.560</td>\n",
       "      <td>0.0</td>\n",
       "      <td>42.162</td>\n",
       "      <td>120.96</td>\n",
       "      <td>Money</td>\n",
       "    </tr>\n",
       "  </tbody>\n",
       "</table>\n",
       "</div>"
      ],
      "text/plain": [
       "   Company Code  Order Number         Employee            Product Product Category                 Client Client City       Sale Date Time  Product Cost  Discount Amount   Amount   Total Form of payment\n",
       "0         39000            12        Stacy Day   Special Gasoline             Fuel  Customer not informed     No City  2017-03-31 04:10:00         3.050              0.0    5.642   20.02           Money\n",
       "1         39000            21  Olive Stevenson     Special Diesel             Fuel  Customer not informed     No City  2017-03-31 04:13:00         2.510              0.0  125.045  350.00      Debit Card\n",
       "2         39000            38        Stacy Day     Special Diesel             Fuel  Customer not informed     No City  2017-03-31 04:25:00         2.510              0.0   35.699   99.92           Money\n",
       "3         39000            39  Olive Stevenson     Lubricant 1108        Lubricant  Customer not informed     No City  2017-03-31 04:26:00         7.409              0.0    1.000   13.00           Money\n",
       "4         39000            39  Olive Stevenson  Diesel Auto Clean             Fuel  Customer not informed     No City  2017-03-31 04:26:00         2.560              0.0   42.162  120.96           Money"
      ]
     },
     "execution_count": 9,
     "metadata": {},
     "output_type": "execute_result"
    }
   ],
   "source": [
    "#integrate to koalas (pandas like dataframe)\n",
    "spdf = sdf.to_koalas()\n",
    "spdf.head()"
   ]
  },
  {
   "cell_type": "code",
   "execution_count": 11,
   "id": "2a2d1631-ce7c-44ae-aed5-ef7b476fef86",
   "metadata": {
    "scrolled": true
   },
   "outputs": [
    {
     "data": {
      "text/plain": [
       "pyspark.sql.dataframe.DataFrame"
      ]
     },
     "execution_count": 11,
     "metadata": {},
     "output_type": "execute_result"
    }
   ],
   "source": [
    "type(sdf)"
   ]
  },
  {
   "cell_type": "code",
   "execution_count": 11,
   "id": "69634aa0-df66-4aed-952d-694d19cf6899",
   "metadata": {},
   "outputs": [
    {
     "data": {
      "text/plain": [
       "databricks.koalas.frame.DataFrame"
      ]
     },
     "execution_count": 11,
     "metadata": {},
     "output_type": "execute_result"
    }
   ],
   "source": [
    "type(spdf)"
   ]
  },
  {
   "cell_type": "code",
   "execution_count": 12,
   "id": "cc17f8e0-5bb5-4d55-87f6-6c5da65c2eaf",
   "metadata": {},
   "outputs": [
    {
     "name": "stdout",
     "output_type": "stream",
     "text": [
      "root\n",
      " |-- Company Code: integer (nullable = true)\n",
      " |-- Order Number: integer (nullable = true)\n",
      " |-- Employee: string (nullable = true)\n",
      " |-- Product: string (nullable = true)\n",
      " |-- Product Category: string (nullable = true)\n",
      " |-- Client: string (nullable = true)\n",
      " |-- Client City: string (nullable = true)\n",
      " |-- Sale Date Time: string (nullable = true)\n",
      " |-- Product Cost: double (nullable = true)\n",
      " |-- Discount Amount: double (nullable = true)\n",
      " |-- Amount: double (nullable = true)\n",
      " |-- Total: double (nullable = true)\n",
      " |-- Form of payment: string (nullable = true)\n",
      "\n"
     ]
    }
   ],
   "source": [
    "sdf.printSchema()\n",
    "#get info similiar to df.info"
   ]
  },
  {
   "cell_type": "code",
   "execution_count": 12,
   "id": "368a36a7",
   "metadata": {},
   "outputs": [
    {
     "data": {
      "text/plain": [
       "[('Company Code', 'int'),\n",
       " ('Order Number', 'int'),\n",
       " ('Employee', 'string'),\n",
       " ('Product', 'string'),\n",
       " ('Product Category', 'string'),\n",
       " ('Client', 'string'),\n",
       " ('Client City', 'string'),\n",
       " ('Sale Date Time', 'string'),\n",
       " ('Product Cost', 'double'),\n",
       " ('Discount Amount', 'double'),\n",
       " ('Amount', 'double'),\n",
       " ('Total', 'double'),\n",
       " ('Form of payment', 'string')]"
      ]
     },
     "execution_count": 12,
     "metadata": {},
     "output_type": "execute_result"
    }
   ],
   "source": [
    "sdf.dtypes"
   ]
  },
  {
   "cell_type": "code",
   "execution_count": 13,
   "id": "ab3028db-81c0-408b-8f54-438a0411320c",
   "metadata": {},
   "outputs": [
    {
     "data": {
      "text/html": [
       "<div>\n",
       "<style scoped>\n",
       "    .dataframe tbody tr th:only-of-type {\n",
       "        vertical-align: middle;\n",
       "    }\n",
       "\n",
       "    .dataframe tbody tr th {\n",
       "        vertical-align: top;\n",
       "    }\n",
       "\n",
       "    .dataframe thead th {\n",
       "        text-align: right;\n",
       "    }\n",
       "</style>\n",
       "<table border=\"1\" class=\"dataframe\">\n",
       "  <thead>\n",
       "    <tr style=\"text-align: right;\">\n",
       "      <th></th>\n",
       "      <th>summary</th>\n",
       "      <th>Company Code</th>\n",
       "      <th>Order Number</th>\n",
       "      <th>Employee</th>\n",
       "      <th>Product</th>\n",
       "      <th>Product Category</th>\n",
       "      <th>Client</th>\n",
       "      <th>Client City</th>\n",
       "      <th>Sale Date Time</th>\n",
       "      <th>Product Cost</th>\n",
       "      <th>Discount Amount</th>\n",
       "      <th>Amount</th>\n",
       "      <th>Total</th>\n",
       "      <th>Form of payment</th>\n",
       "    </tr>\n",
       "  </thead>\n",
       "  <tbody>\n",
       "    <tr>\n",
       "      <th>0</th>\n",
       "      <td>count</td>\n",
       "      <td>26951165</td>\n",
       "      <td>26951165</td>\n",
       "      <td>26951165</td>\n",
       "      <td>26951165</td>\n",
       "      <td>26951165</td>\n",
       "      <td>26951165</td>\n",
       "      <td>26951165</td>\n",
       "      <td>26951165</td>\n",
       "      <td>26951165</td>\n",
       "      <td>26951165</td>\n",
       "      <td>26951165</td>\n",
       "      <td>26951165</td>\n",
       "      <td>26951165</td>\n",
       "    </tr>\n",
       "    <tr>\n",
       "      <th>1</th>\n",
       "      <td>mean</td>\n",
       "      <td>4451263.587937664</td>\n",
       "      <td>1385973.6962759125</td>\n",
       "      <td>None</td>\n",
       "      <td>None</td>\n",
       "      <td>None</td>\n",
       "      <td>None</td>\n",
       "      <td>None</td>\n",
       "      <td>None</td>\n",
       "      <td>3.738021302157949</td>\n",
       "      <td>0.0032230688357998637</td>\n",
       "      <td>17.4196142442836</td>\n",
       "      <td>66.21832481241184</td>\n",
       "      <td>None</td>\n",
       "    </tr>\n",
       "    <tr>\n",
       "      <th>2</th>\n",
       "      <td>stddev</td>\n",
       "      <td>4284039.359860178</td>\n",
       "      <td>607761.4532924617</td>\n",
       "      <td>None</td>\n",
       "      <td>None</td>\n",
       "      <td>None</td>\n",
       "      <td>None</td>\n",
       "      <td>None</td>\n",
       "      <td>None</td>\n",
       "      <td>2.700789823747017</td>\n",
       "      <td>0.6349943262928652</td>\n",
       "      <td>28.354132062267638</td>\n",
       "      <td>93.98091956167045</td>\n",
       "      <td>None</td>\n",
       "    </tr>\n",
       "    <tr>\n",
       "      <th>3</th>\n",
       "      <td>min</td>\n",
       "      <td>39000</td>\n",
       "      <td>8</td>\n",
       "      <td>Aaron Wolfe</td>\n",
       "      <td>Accessories 10021</td>\n",
       "      <td>Accessories</td>\n",
       "      <td>Aaron Cruz</td>\n",
       "      <td>Abladwood</td>\n",
       "      <td>2017-03-31 04:10:00</td>\n",
       "      <td>-1.794</td>\n",
       "      <td>0.0</td>\n",
       "      <td>0.003</td>\n",
       "      <td>0.01</td>\n",
       "      <td>Check</td>\n",
       "    </tr>\n",
       "    <tr>\n",
       "      <th>4</th>\n",
       "      <td>max</td>\n",
       "      <td>14740000</td>\n",
       "      <td>2391978</td>\n",
       "      <td>Zachary Vaughn</td>\n",
       "      <td>Water 9993</td>\n",
       "      <td>Water</td>\n",
       "      <td>Zachary Underwood</td>\n",
       "      <td>Zumont</td>\n",
       "      <td>2020-04-02 23:58:00</td>\n",
       "      <td>409.0</td>\n",
       "      <td>803.4</td>\n",
       "      <td>3257.7990000000004</td>\n",
       "      <td>9999.0</td>\n",
       "      <td>Pre-paid check / Pre- date check</td>\n",
       "    </tr>\n",
       "  </tbody>\n",
       "</table>\n",
       "</div>"
      ],
      "text/plain": [
       "  summary       Company Code        Order Number        Employee            Product Product Category             Client Client City       Sale Date Time       Product Cost        Discount Amount              Amount              Total                   Form of payment\n",
       "0   count           26951165            26951165        26951165           26951165         26951165           26951165    26951165             26951165           26951165               26951165            26951165           26951165                          26951165\n",
       "1    mean  4451263.587937664  1385973.6962759125            None               None             None               None        None                 None  3.738021302157949  0.0032230688357998637    17.4196142442836  66.21832481241184                              None\n",
       "2  stddev  4284039.359860178   607761.4532924617            None               None             None               None        None                 None  2.700789823747017     0.6349943262928652  28.354132062267638  93.98091956167045                              None\n",
       "3     min              39000                   8     Aaron Wolfe  Accessories 10021      Accessories         Aaron Cruz   Abladwood  2017-03-31 04:10:00             -1.794                    0.0               0.003               0.01                             Check\n",
       "4     max           14740000             2391978  Zachary Vaughn         Water 9993            Water  Zachary Underwood      Zumont  2020-04-02 23:58:00              409.0                  803.4  3257.7990000000004             9999.0  Pre-paid check / Pre- date check"
      ]
     },
     "execution_count": 13,
     "metadata": {},
     "output_type": "execute_result"
    }
   ],
   "source": [
    "#similar to df.describe\n",
    "sdf.describe().to_koalas()"
   ]
  },
  {
   "cell_type": "code",
   "execution_count": 24,
   "id": "80332e4d-34e3-4fc0-a404-7ff1c123a8c4",
   "metadata": {},
   "outputs": [
    {
     "name": "stdout",
     "output_type": "stream",
     "text": [
      "+--------------------+\n",
      "|    Product Category|\n",
      "+--------------------+\n",
      "|          The Bakery|\n",
      "|               Water|\n",
      "|             Pickets|\n",
      "|        Extinguisher|\n",
      "|           Perfumery|\n",
      "|Cold Alcoholic Be...|\n",
      "|           Flavoring|\n",
      "|Dairy Products An...|\n",
      "|              Energy|\n",
      "| Derivatives Peanuts|\n",
      "|           Batteries|\n",
      "|Hot Alcoholic Bev...|\n",
      "|Popsicle And Ice ...|\n",
      "| Sweet Coconut James|\n",
      "|      Salted Biscuit|\n",
      "|             Cereals|\n",
      "|          Cigarettes|\n",
      "|              Condom|\n",
      "|               Chips|\n",
      "|Chewing Gum And C...|\n",
      "+--------------------+\n",
      "only showing top 20 rows\n",
      "\n"
     ]
    }
   ],
   "source": [
    "#show distinct values\n",
    "sdf.select(['Product Category']).distinct().show()"
   ]
  },
  {
   "cell_type": "code",
   "execution_count": 26,
   "id": "c8c51999-5eb7-4dae-8901-dcc12a0102dd",
   "metadata": {},
   "outputs": [
    {
     "data": {
      "text/plain": [
       "39"
      ]
     },
     "execution_count": 26,
     "metadata": {},
     "output_type": "execute_result"
    }
   ],
   "source": [
    "#count distinct\n",
    "sdf.select('Product Category').distinct().count()"
   ]
  },
  {
   "cell_type": "code",
   "execution_count": 34,
   "id": "1ff81e91-4aca-47fc-92a1-bf67066bbddb",
   "metadata": {},
   "outputs": [
    {
     "name": "stdout",
     "output_type": "stream",
     "text": [
      "+----------------+\n",
      "|Client          |\n",
      "+----------------+\n",
      "|Aaron Cruz      |\n",
      "|Aaron Hampton   |\n",
      "|Aaron Howell    |\n",
      "|Aaron Nguyen    |\n",
      "|Aaron Washington|\n",
      "|Abel Haynes     |\n",
      "|Abel Howard     |\n",
      "|Abel Ingram     |\n",
      "|Abel Jensen     |\n",
      "|Abel Montgomery |\n",
      "|Abel Snyder     |\n",
      "|Abel Stevenson  |\n",
      "|Abel Walton     |\n",
      "|Abraham Austin  |\n",
      "|Abraham Banks   |\n",
      "|Abraham Chavez  |\n",
      "|Abraham Dean    |\n",
      "|Abraham Dixon   |\n",
      "|Abraham Dunn    |\n",
      "|Abraham Gilbert |\n",
      "+----------------+\n",
      "only showing top 20 rows\n",
      "\n"
     ]
    }
   ],
   "source": [
    "sdf.select('Client').distinct().orderBy('Client').show(truncate = False)"
   ]
  },
  {
   "cell_type": "code",
   "execution_count": 27,
   "id": "0bbb299b-fc4e-4e08-82bf-4f724e1c65c6",
   "metadata": {},
   "outputs": [
    {
     "data": {
      "text/plain": [
       "26951165"
      ]
     },
     "execution_count": 27,
     "metadata": {},
     "output_type": "execute_result"
    }
   ],
   "source": [
    "#count\n",
    "sdf.select('Product').count()"
   ]
  },
  {
   "cell_type": "code",
   "execution_count": 83,
   "id": "4262e3ff-af05-4b95-9d9e-7283b1fcc8fb",
   "metadata": {},
   "outputs": [
    {
     "data": {
      "text/plain": [
       "Company Code        0\n",
       "Order Number        0\n",
       "Employee            0\n",
       "Product             0\n",
       "Product Category    0\n",
       "Client              0\n",
       "Client City         0\n",
       "Sale Date Time      0\n",
       "Product Cost        0\n",
       "Discount Amount     0\n",
       "Amount              0\n",
       "Total               0\n",
       "Form of payment     0\n",
       "dtype: int64"
      ]
     },
     "execution_count": 83,
     "metadata": {},
     "output_type": "execute_result"
    }
   ],
   "source": [
    "#inspect null values\n",
    "sdf.to_koalas().isnull().sum()"
   ]
  },
  {
   "cell_type": "code",
   "execution_count": 68,
   "id": "93f9235a-d077-4acb-9fa7-ea5ede2fda7e",
   "metadata": {},
   "outputs": [
    {
     "name": "stdout",
     "output_type": "stream",
     "text": [
      "+------------+------------+--------+-------+----------------+------+-----------+--------------+------------+---------------+------+-----+---------------+\n",
      "|Company Code|Order Number|Employee|Product|Product Category|Client|Client City|Sale Date Time|Product Cost|Discount Amount|Amount|Total|Form of payment|\n",
      "+------------+------------+--------+-------+----------------+------+-----------+--------------+------------+---------------+------+-----+---------------+\n",
      "+------------+------------+--------+-------+----------------+------+-----------+--------------+------------+---------------+------+-----+---------------+\n",
      "\n"
     ]
    }
   ],
   "source": [
    "#null value inspection can be done with either of these ways\n",
    "\n",
    "sdf.filter(\"Client IS NULL OR Employee IS NULL\").show()\n",
    "#sdf.filter(sdf.Product.isNull()).show()\n",
    "#sdf.filter(\"'Client City' IS NULL\").show()"
   ]
  },
  {
   "cell_type": "markdown",
   "id": "317c6ef9-8dae-438f-93ef-a0339e9e62a3",
   "metadata": {
    "tags": []
   },
   "source": [
    "### indexing and slicing spark"
   ]
  },
  {
   "cell_type": "code",
   "execution_count": 28,
   "id": "91a42741-a206-4f51-9ea3-1d676f1d6866",
   "metadata": {},
   "outputs": [
    {
     "name": "stdout",
     "output_type": "stream",
     "text": [
      "+-----------------+----------------+\n",
      "|          Product|New Product Cost|\n",
      "+-----------------+----------------+\n",
      "| Special Gasoline|           13.05|\n",
      "|   Special Diesel|           12.51|\n",
      "|   Special Diesel|           12.51|\n",
      "|   Lubricant 1108|          17.409|\n",
      "|Diesel Auto Clean|           12.56|\n",
      "+-----------------+----------------+\n",
      "only showing top 5 rows\n",
      "\n"
     ]
    }
   ],
   "source": [
    "# select clause\n",
    "employee = sdf.select(['Employee','Product'])\n",
    "#employee.show()\n",
    "\n",
    "#perform simple transformation on select\n",
    "sdf.select(sdf['Product'],(sdf['Product Cost'] + 10).alias('New Product Cost')).show(5)"
   ]
  },
  {
   "cell_type": "code",
   "execution_count": 50,
   "id": "da7fa98a",
   "metadata": {
    "scrolled": true
   },
   "outputs": [
    {
     "name": "stdout",
     "output_type": "stream",
     "text": [
      "+------------+------+---------------+\n",
      "|Order Number| Total|Form of payment|\n",
      "+------------+------+---------------+\n",
      "|          12| 20.02|          Money|\n",
      "|          38| 99.92|          Money|\n",
      "|          39|  13.0|          Money|\n",
      "|          39|120.96|          Money|\n",
      "|          40|  9.72|          Money|\n",
      "+------------+------+---------------+\n",
      "only showing top 5 rows\n",
      "\n"
     ]
    }
   ],
   "source": [
    "# where clause \n",
    "sdf.select('Order Number','Total','Form of payment').filter(sdf['Form of payment'] == 'Money').show(5)"
   ]
  },
  {
   "cell_type": "code",
   "execution_count": 66,
   "id": "56853121",
   "metadata": {},
   "outputs": [
    {
     "name": "stdout",
     "output_type": "stream",
     "text": [
      "+--------------------+--------------------+\n",
      "|     Form of payment|               Total|\n",
      "+--------------------+--------------------+\n",
      "|              Others|   97020.54999999999|\n",
      "|               Check|  3174994.0000000047|\n",
      "|Pre-paid check / ...|1.1391351160000129E7|\n",
      "|Extended payment ...|1.0545461156999865E8|\n",
      "|          Debit Card| 3.358544106939356E8|\n",
      "|         Credit Card| 3.911465130299236E8|\n",
      "|               Money| 9.375420970382955E8|\n",
      "+--------------------+--------------------+\n",
      "\n"
     ]
    }
   ],
   "source": [
    "# aggregation, column renaming, sort, koalas convertation\n",
    "sdf.groupBy('Form of payment').sum('Total').withColumnRenamed(\"sum(Total)\", \"Total\").orderBy('sum(Total)').show() #to_koalas()"
   ]
  },
  {
   "cell_type": "code",
   "execution_count": 31,
   "id": "be13a281",
   "metadata": {
    "scrolled": true
   },
   "outputs": [
    {
     "data": {
      "text/html": [
       "<div>\n",
       "<style scoped>\n",
       "    .dataframe tbody tr th:only-of-type {\n",
       "        vertical-align: middle;\n",
       "    }\n",
       "\n",
       "    .dataframe tbody tr th {\n",
       "        vertical-align: top;\n",
       "    }\n",
       "\n",
       "    .dataframe thead th {\n",
       "        text-align: right;\n",
       "    }\n",
       "</style>\n",
       "<table border=\"1\" class=\"dataframe\">\n",
       "  <thead>\n",
       "    <tr style=\"text-align: right;\">\n",
       "      <th></th>\n",
       "      <th>Form of payment</th>\n",
       "      <th>Total</th>\n",
       "    </tr>\n",
       "  </thead>\n",
       "  <tbody>\n",
       "    <tr>\n",
       "      <th>0</th>\n",
       "      <td>Money</td>\n",
       "      <td>9.375421e+08</td>\n",
       "    </tr>\n",
       "    <tr>\n",
       "      <th>1</th>\n",
       "      <td>Credit Card</td>\n",
       "      <td>3.911465e+08</td>\n",
       "    </tr>\n",
       "    <tr>\n",
       "      <th>2</th>\n",
       "      <td>Debit Card</td>\n",
       "      <td>3.358544e+08</td>\n",
       "    </tr>\n",
       "    <tr>\n",
       "      <th>3</th>\n",
       "      <td>Extended payment plan/ In installments</td>\n",
       "      <td>1.054546e+08</td>\n",
       "    </tr>\n",
       "    <tr>\n",
       "      <th>4</th>\n",
       "      <td>Pre-paid check / Pre- date check</td>\n",
       "      <td>1.139135e+07</td>\n",
       "    </tr>\n",
       "    <tr>\n",
       "      <th>5</th>\n",
       "      <td>Check</td>\n",
       "      <td>3.174994e+06</td>\n",
       "    </tr>\n",
       "    <tr>\n",
       "      <th>6</th>\n",
       "      <td>Others</td>\n",
       "      <td>9.702055e+04</td>\n",
       "    </tr>\n",
       "  </tbody>\n",
       "</table>\n",
       "</div>"
      ],
      "text/plain": [
       "                          Form of payment         Total\n",
       "0                                   Money  9.375421e+08\n",
       "1                             Credit Card  3.911465e+08\n",
       "2                              Debit Card  3.358544e+08\n",
       "3  Extended payment plan/ In installments  1.054546e+08\n",
       "4        Pre-paid check / Pre- date check  1.139135e+07\n",
       "5                                   Check  3.174994e+06\n",
       "6                                  Others  9.702055e+04"
      ]
     },
     "execution_count": 31,
     "metadata": {},
     "output_type": "execute_result"
    }
   ],
   "source": [
    "# aggregation, sorting, column renaming, converting to koalas\n",
    "sdf.groupBy('Form of payment').agg({'Total':'sum'}).withColumnRenamed(\"sum(Total)\", \"Total\").orderBy('Total',ascending=False).to_koalas()"
   ]
  },
  {
   "cell_type": "code",
   "execution_count": 32,
   "id": "614d5f1f",
   "metadata": {},
   "outputs": [
    {
     "data": {
      "text/html": [
       "<div>\n",
       "<style scoped>\n",
       "    .dataframe tbody tr th:only-of-type {\n",
       "        vertical-align: middle;\n",
       "    }\n",
       "\n",
       "    .dataframe tbody tr th {\n",
       "        vertical-align: top;\n",
       "    }\n",
       "\n",
       "    .dataframe thead th {\n",
       "        text-align: right;\n",
       "    }\n",
       "</style>\n",
       "<table border=\"1\" class=\"dataframe\">\n",
       "  <thead>\n",
       "    <tr style=\"text-align: right;\">\n",
       "      <th></th>\n",
       "      <th>Employee</th>\n",
       "      <th>Sales</th>\n",
       "      <th>Average Sales</th>\n",
       "    </tr>\n",
       "  </thead>\n",
       "  <tbody>\n",
       "    <tr>\n",
       "      <th>0</th>\n",
       "      <td>Maurice Bell</td>\n",
       "      <td>1916144.98</td>\n",
       "      <td>151.617739</td>\n",
       "    </tr>\n",
       "    <tr>\n",
       "      <th>1</th>\n",
       "      <td>Patrick Lloyd</td>\n",
       "      <td>3288773.61</td>\n",
       "      <td>144.269767</td>\n",
       "    </tr>\n",
       "    <tr>\n",
       "      <th>2</th>\n",
       "      <td>Lucy Cox</td>\n",
       "      <td>2640205.08</td>\n",
       "      <td>144.045233</td>\n",
       "    </tr>\n",
       "    <tr>\n",
       "      <th>3</th>\n",
       "      <td>Ernest Figueroa</td>\n",
       "      <td>2494723.32</td>\n",
       "      <td>139.877955</td>\n",
       "    </tr>\n",
       "    <tr>\n",
       "      <th>4</th>\n",
       "      <td>Lula Ford</td>\n",
       "      <td>1260200.04</td>\n",
       "      <td>136.414813</td>\n",
       "    </tr>\n",
       "  </tbody>\n",
       "</table>\n",
       "</div>"
      ],
      "text/plain": [
       "          Employee       Sales  Average Sales\n",
       "0     Maurice Bell  1916144.98     151.617739\n",
       "1    Patrick Lloyd  3288773.61     144.269767\n",
       "2         Lucy Cox  2640205.08     144.045233\n",
       "3  Ernest Figueroa  2494723.32     139.877955\n",
       "4        Lula Ford  1260200.04     136.414813"
      ]
     },
     "execution_count": 32,
     "metadata": {},
     "output_type": "execute_result"
    }
   ],
   "source": [
    "#aggregation, column renaming, sorting, koalas converting\n",
    "sdf.groupBy('Employee').agg(sum('Total').alias('Sales'),avg('Total').alias('Average Sales')).orderBy(\"Average Sales\",ascending=False).to_koalas().head()"
   ]
  },
  {
   "cell_type": "code",
   "execution_count": 30,
   "id": "c9baacee-bb2b-4e60-aaa9-c47d2c317d01",
   "metadata": {},
   "outputs": [
    {
     "name": "stdout",
     "output_type": "stream",
     "text": [
      "+------------+------------+---------------+-----------------+----------------+--------------------+-----------+-------------------+------------+---------------+-------+------+---------------+\n",
      "|Company Code|Order Number|       Employee|          Product|Product Category|              Client|Client City|     Sale Date Time|Product Cost|Discount Amount| Amount| Total|Form of payment|\n",
      "+------------+------------+---------------+-----------------+----------------+--------------------+-----------+-------------------+------------+---------------+-------+------+---------------+\n",
      "|       39000|          12|    Kevin Elfri| Special Gasoline|            Fuel|Customer not info...|    No City|2017-03-31 04:10:00|        3.05|            0.0|  5.642| 20.02|          Money|\n",
      "|       39000|          21|Olive Stevenson|   Special Diesel|            Fuel|Customer not info...|    No City|2017-03-31 04:13:00|        2.51|            0.0|125.045| 350.0|     Debit Card|\n",
      "|       39000|          38|    Kevin Elfri|   Special Diesel|            Fuel|Customer not info...|    No City|2017-03-31 04:25:00|        2.51|            0.0| 35.699| 99.92|          Money|\n",
      "|       39000|          39|Olive Stevenson|   Lubricant 1108|       Lubricant|Customer not info...|    No City|2017-03-31 04:26:00|       7.409|            0.0|    1.0|  13.0|          Money|\n",
      "|       39000|          39|Olive Stevenson|Diesel Auto Clean|            Fuel|Customer not info...|    No City|2017-03-31 04:26:00|        2.56|            0.0| 42.162|120.96|          Money|\n",
      "+------------+------------+---------------+-----------------+----------------+--------------------+-----------+-------------------+------------+---------------+-------+------+---------------+\n",
      "only showing top 5 rows\n",
      "\n"
     ]
    }
   ],
   "source": [
    "#replace value with value\n",
    "sdf.withColumn('Employee', \\\n",
    "               F.when(sdf['Employee'] == 'Stacy Day', 'Kevin Elfri') \\\n",
    "               .otherwise(sdf['Employee'])).show(5)"
   ]
  },
  {
   "cell_type": "code",
   "execution_count": 38,
   "id": "39ccda50-62b4-4647-bcf8-e2154efc2c77",
   "metadata": {},
   "outputs": [
    {
     "name": "stdout",
     "output_type": "stream",
     "text": [
      "+------------+------------+---------------+-----------------+----------------+------+-----------+-------------------+------------+---------------+-------+------+---------------+\n",
      "|Company Code|Order Number|       Employee|          Product|Product Category|Client|Client City|     Sale Date Time|Product Cost|Discount Amount| Amount| Total|Form of payment|\n",
      "+------------+------------+---------------+-----------------+----------------+------+-----------+-------------------+------------+---------------+-------+------+---------------+\n",
      "|       39000|          12|      Stacy Day| Special Gasoline|            Fuel|   NaN|    No City|2017-03-31 04:10:00|        3.05|            0.0|  5.642| 20.02|          Money|\n",
      "|       39000|          21|Olive Stevenson|   Special Diesel|            Fuel|   NaN|    No City|2017-03-31 04:13:00|        2.51|            0.0|125.045| 350.0|     Debit Card|\n",
      "|       39000|          38|      Stacy Day|   Special Diesel|            Fuel|   NaN|    No City|2017-03-31 04:25:00|        2.51|            0.0| 35.699| 99.92|          Money|\n",
      "|       39000|          39|Olive Stevenson|   Lubricant 1108|       Lubricant|   NaN|    No City|2017-03-31 04:26:00|       7.409|            0.0|    1.0|  13.0|          Money|\n",
      "|       39000|          39|Olive Stevenson|Diesel Auto Clean|            Fuel|   NaN|    No City|2017-03-31 04:26:00|        2.56|            0.0| 42.162|120.96|          Money|\n",
      "+------------+------------+---------------+-----------------+----------------+------+-----------+-------------------+------------+---------------+-------+------+---------------+\n",
      "only showing top 5 rows\n",
      "\n"
     ]
    }
   ],
   "source": [
    "# replace known null format to np.NaN\n",
    "sdf.withColumn('Client', F.when(sdf['Client'] == 'Customer not informed',np.NaN)).show(5)"
   ]
  },
  {
   "cell_type": "markdown",
   "id": "ddc6a10e-7ca1-46a0-8080-b0d517fc1475",
   "metadata": {
    "jp-MarkdownHeadingCollapsed": true,
    "tags": []
   },
   "source": [
    "### Drop Null"
   ]
  },
  {
   "cell_type": "code",
   "execution_count": 33,
   "id": "fe419f5c-7821-4607-ac96-430d7e55f9fc",
   "metadata": {},
   "outputs": [
    {
     "name": "stdout",
     "output_type": "stream",
     "text": [
      "+------------+------------+---------------+-----------------+----------------+--------------------+-----------+-------------------+------------+---------------+-------+------+---------------+\n",
      "|Company Code|Order Number|       Employee|          Product|Product Category|              Client|Client City|     Sale Date Time|Product Cost|Discount Amount| Amount| Total|Form of payment|\n",
      "+------------+------------+---------------+-----------------+----------------+--------------------+-----------+-------------------+------------+---------------+-------+------+---------------+\n",
      "|       39000|          12|      Stacy Day| Special Gasoline|            Fuel|Customer not info...|    No City|2017-03-31 04:10:00|        3.05|            0.0|  5.642| 20.02|          Money|\n",
      "|       39000|          21|Olive Stevenson|   Special Diesel|            Fuel|Customer not info...|    No City|2017-03-31 04:13:00|        2.51|            0.0|125.045| 350.0|     Debit Card|\n",
      "|       39000|          38|      Stacy Day|   Special Diesel|            Fuel|Customer not info...|    No City|2017-03-31 04:25:00|        2.51|            0.0| 35.699| 99.92|          Money|\n",
      "|       39000|          39|Olive Stevenson|   Lubricant 1108|       Lubricant|Customer not info...|    No City|2017-03-31 04:26:00|       7.409|            0.0|    1.0|  13.0|          Money|\n",
      "|       39000|          39|Olive Stevenson|Diesel Auto Clean|            Fuel|Customer not info...|    No City|2017-03-31 04:26:00|        2.56|            0.0| 42.162|120.96|          Money|\n",
      "+------------+------------+---------------+-----------------+----------------+--------------------+-----------+-------------------+------------+---------------+-------+------+---------------+\n",
      "only showing top 5 rows\n",
      "\n"
     ]
    }
   ],
   "source": [
    "sdf.na.drop().show(5)\n",
    "#specify column name in the drop argument"
   ]
  },
  {
   "cell_type": "markdown",
   "id": "90019b4f-24ff-4a3b-a7f4-e2ea50d7167b",
   "metadata": {
    "jp-MarkdownHeadingCollapsed": true,
    "tags": []
   },
   "source": [
    "### Filling Null Values"
   ]
  },
  {
   "cell_type": "code",
   "execution_count": 36,
   "id": "b75d3bc5-3497-4a1a-b23f-3b7ed987c717",
   "metadata": {},
   "outputs": [
    {
     "name": "stdout",
     "output_type": "stream",
     "text": [
      "+------------+------------+---------------+----------------+----------------+--------------------+-----------+-------------------+------------+---------------+-------+-----+---------------+\n",
      "|Company Code|Order Number|       Employee|         Product|Product Category|              Client|Client City|     Sale Date Time|Product Cost|Discount Amount| Amount|Total|Form of payment|\n",
      "+------------+------------+---------------+----------------+----------------+--------------------+-----------+-------------------+------------+---------------+-------+-----+---------------+\n",
      "|       39000|          12|      Stacy Day|Special Gasoline|            Fuel|Customer not info...|    No City|2017-03-31 04:10:00|        3.05|            0.0|  5.642|20.02|          Money|\n",
      "|       39000|          21|Olive Stevenson|  Special Diesel|            Fuel|Customer not info...|    No City|2017-03-31 04:13:00|        2.51|            0.0|125.045|350.0|     Debit Card|\n",
      "|       39000|          38|      Stacy Day|  Special Diesel|            Fuel|Customer not info...|    No City|2017-03-31 04:25:00|        2.51|            0.0| 35.699|99.92|          Money|\n",
      "+------------+------------+---------------+----------------+----------------+--------------------+-----------+-------------------+------------+---------------+-------+-----+---------------+\n",
      "only showing top 3 rows\n",
      "\n"
     ]
    }
   ],
   "source": [
    "#filling null values\n",
    "\n",
    "sdf.fillna('some value').show(3)\n",
    "#specify column by subset argument"
   ]
  },
  {
   "cell_type": "markdown",
   "id": "ac1bd2a0-03ad-4ccb-beee-efc0a89c4ffc",
   "metadata": {
    "jp-MarkdownHeadingCollapsed": true,
    "tags": []
   },
   "source": [
    "### Column Ops"
   ]
  },
  {
   "cell_type": "code",
   "execution_count": 37,
   "id": "a9cab2f7-8179-4971-a9d0-0dda9a276f60",
   "metadata": {},
   "outputs": [
    {
     "name": "stdout",
     "output_type": "stream",
     "text": [
      "+------------+------------+---------------+----------------+--------------------+-----------+-------------------+------------+---------------+-------+------+---------------+\n",
      "|Company Code|Order Number|       Employee|Product Category|              Client|Client City|     Sale Date Time|Product Cost|Discount Amount| Amount| Total|Form of payment|\n",
      "+------------+------------+---------------+----------------+--------------------+-----------+-------------------+------------+---------------+-------+------+---------------+\n",
      "|       39000|          12|      Stacy Day|            Fuel|Customer not info...|    No City|2017-03-31 04:10:00|        3.05|            0.0|  5.642| 20.02|          Money|\n",
      "|       39000|          21|Olive Stevenson|            Fuel|Customer not info...|    No City|2017-03-31 04:13:00|        2.51|            0.0|125.045| 350.0|     Debit Card|\n",
      "|       39000|          38|      Stacy Day|            Fuel|Customer not info...|    No City|2017-03-31 04:25:00|        2.51|            0.0| 35.699| 99.92|          Money|\n",
      "|       39000|          39|Olive Stevenson|       Lubricant|Customer not info...|    No City|2017-03-31 04:26:00|       7.409|            0.0|    1.0|  13.0|          Money|\n",
      "|       39000|          39|Olive Stevenson|            Fuel|Customer not info...|    No City|2017-03-31 04:26:00|        2.56|            0.0| 42.162|120.96|          Money|\n",
      "+------------+------------+---------------+----------------+--------------------+-----------+-------------------+------------+---------------+-------+------+---------------+\n",
      "only showing top 5 rows\n",
      "\n"
     ]
    }
   ],
   "source": [
    "#drop column\n",
    "sdf.drop(\"Product\").show(5)"
   ]
  },
  {
   "cell_type": "code",
   "execution_count": 38,
   "id": "bd594e19-1799-4a6f-ad56-8903e032bf7f",
   "metadata": {},
   "outputs": [
    {
     "name": "stdout",
     "output_type": "stream",
     "text": [
      "+------------+------------+------------------+----------------+----------------+--------------------+-----------+-------------------+------------------+---------------+------------------+-----+---------------+\n",
      "|Company Code|Order Number|          Employee|         Product|Product Category|              Client|Client City|     Sale Date Time|      Product Cost|Discount Amount|            Amount|Total|Form of payment|\n",
      "+------------+------------+------------------+----------------+----------------+--------------------+-----------+-------------------+------------------+---------------+------------------+-----+---------------+\n",
      "|       39000|         418|     Rosie Mullins|Special Gasoline|            Fuel|Customer not info...|    No City|2017-03-31 10:04:00|              3.05|            0.0|             5.636| 20.0|          Money|\n",
      "|       39000|        1445|        Guy Rivera|Special Gasoline|            Fuel|Customer not info...|    No City|2017-03-31 12:36:00|              3.05|            0.0|3.3819999999999997| 12.0|          Money|\n",
      "|       39000|        2631|        Lance West|Special Gasoline|            Fuel|Customer not info...|    No City|2017-03-31 15:29:00|              3.05|            0.0|             8.454| 30.0|          Money|\n",
      "|       39000|        2989|Salvador Mccormick|        Gasoline|            Fuel|Customer not info...|    No City|2017-03-31 18:17:00|3.0239999999999996|            0.0|            28.177|100.0|    Credit Card|\n",
      "|      882000|        2856|     Maurice Wolfe|        Gasoline|            Fuel|Customer not info...|    No City|2017-03-31 18:52:00|             3.043|            0.0|13.892999999999999| 50.0|          Money|\n",
      "+------------+------------+------------------+----------------+----------------+--------------------+-----------+-------------------+------------------+---------------+------------------+-----+---------------+\n",
      "only showing top 5 rows\n",
      "\n"
     ]
    }
   ],
   "source": [
    "sdf.dropDuplicates().show(5)\n",
    "#specify the column for drop if the specified column has duplicate in common"
   ]
  },
  {
   "cell_type": "code",
   "execution_count": 16,
   "id": "0fcc986e-e2dc-4bbd-820f-4d032859f592",
   "metadata": {},
   "outputs": [
    {
     "name": "stdout",
     "output_type": "stream",
     "text": [
      "+------------+------------+---------------+-----------------+----------------+--------------------+-----------+-------------------+------------+---------------+-------+------+---------------+------+\n",
      "|Company Code|Order Number|       Employee|          Product|Product Category|              Client|Client City|     Sale Date Time|Product Cost|Discount Amount| Amount| Total|Form of payment|author|\n",
      "+------------+------------+---------------+-----------------+----------------+--------------------+-----------+-------------------+------------+---------------+-------+------+---------------+------+\n",
      "|       39000|          12|      Stacy Day| Special Gasoline|            Fuel|Customer not info...|    No City|2017-03-31 04:10:00|        3.05|            0.0|  5.642| 20.02|          Money| Kevin|\n",
      "|       39000|          21|Olive Stevenson|   Special Diesel|            Fuel|Customer not info...|    No City|2017-03-31 04:13:00|        2.51|            0.0|125.045| 350.0|     Debit Card| Kevin|\n",
      "|       39000|          38|      Stacy Day|   Special Diesel|            Fuel|Customer not info...|    No City|2017-03-31 04:25:00|        2.51|            0.0| 35.699| 99.92|          Money| Kevin|\n",
      "|       39000|          39|Olive Stevenson|   Lubricant 1108|       Lubricant|Customer not info...|    No City|2017-03-31 04:26:00|       7.409|            0.0|    1.0|  13.0|          Money| Kevin|\n",
      "|       39000|          39|Olive Stevenson|Diesel Auto Clean|            Fuel|Customer not info...|    No City|2017-03-31 04:26:00|        2.56|            0.0| 42.162|120.96|          Money| Kevin|\n",
      "+------------+------------+---------------+-----------------+----------------+--------------------+-----------+-------------------+------------+---------------+-------+------+---------------+------+\n",
      "only showing top 5 rows\n",
      "\n"
     ]
    }
   ],
   "source": [
    "# adding new column with constant value\n",
    "sdf.withColumn('author',F.lit('Kevin')).show(5)"
   ]
  },
  {
   "cell_type": "code",
   "execution_count": 39,
   "id": "9135dacc-3c99-40b9-b3ee-f179dc7d014e",
   "metadata": {},
   "outputs": [
    {
     "name": "stdout",
     "output_type": "stream",
     "text": [
      "+------------+------------+---------------+-----------------+----------------+--------------------+-----------+-------------------+------------+---------------+-------+------+---------------+------------------+\n",
      "|Company Code|Order Number|       Employee|          Product|Product Category|              Client|Client City|     Sale Date Time|Product Cost|Discount Amount| Amount| Total|Form of payment|            5% Tax|\n",
      "+------------+------------+---------------+-----------------+----------------+--------------------+-----------+-------------------+------------+---------------+-------+------+---------------+------------------+\n",
      "|       39000|          12|      Stacy Day| Special Gasoline|            Fuel|Customer not info...|    No City|2017-03-31 04:10:00|        3.05|            0.0|  5.642| 20.02|          Money|1.0010000000000001|\n",
      "|       39000|          21|Olive Stevenson|   Special Diesel|            Fuel|Customer not info...|    No City|2017-03-31 04:13:00|        2.51|            0.0|125.045| 350.0|     Debit Card|              17.5|\n",
      "|       39000|          38|      Stacy Day|   Special Diesel|            Fuel|Customer not info...|    No City|2017-03-31 04:25:00|        2.51|            0.0| 35.699| 99.92|          Money|             4.996|\n",
      "|       39000|          39|Olive Stevenson|   Lubricant 1108|       Lubricant|Customer not info...|    No City|2017-03-31 04:26:00|       7.409|            0.0|    1.0|  13.0|          Money|              0.65|\n",
      "|       39000|          39|Olive Stevenson|Diesel Auto Clean|            Fuel|Customer not info...|    No City|2017-03-31 04:26:00|        2.56|            0.0| 42.162|120.96|          Money|             6.048|\n",
      "+------------+------------+---------------+-----------------+----------------+--------------------+-----------+-------------------+------------+---------------+-------+------+---------------+------------------+\n",
      "only showing top 5 rows\n",
      "\n"
     ]
    }
   ],
   "source": [
    "#adding column from existing column\n",
    "sdf.withColumn(\"5% Tax\",sdf['Total']*0.05).show(5)"
   ]
  },
  {
   "cell_type": "code",
   "execution_count": 17,
   "id": "2f604a09-8f7b-415a-acc2-cd86c902e9f4",
   "metadata": {},
   "outputs": [
    {
     "name": "stdout",
     "output_type": "stream",
     "text": [
      "+------------+------------+---------------+-----------------+----------------+--------------------+-----------+-------------------+------------+---------------+-------+------+---------------+--------------------+\n",
      "|Company Code|Order Number|       Employee|          Product|Product Category|              Client|Client City|     Sale Date Time|Product Cost|Discount Amount| Amount| Total|Form of payment|    complete product|\n",
      "+------------+------------+---------------+-----------------+----------------+--------------------+-----------+-------------------+------------+---------------+-------+------+---------------+--------------------+\n",
      "|       39000|          12|      Stacy Day| Special Gasoline|            Fuel|Customer not info...|    No City|2017-03-31 04:10:00|        3.05|            0.0|  5.642| 20.02|          Money|Special Gasoline,...|\n",
      "|       39000|          21|Olive Stevenson|   Special Diesel|            Fuel|Customer not info...|    No City|2017-03-31 04:13:00|        2.51|            0.0|125.045| 350.0|     Debit Card| Special Diesel,Fuel|\n",
      "|       39000|          38|      Stacy Day|   Special Diesel|            Fuel|Customer not info...|    No City|2017-03-31 04:25:00|        2.51|            0.0| 35.699| 99.92|          Money| Special Diesel,Fuel|\n",
      "|       39000|          39|Olive Stevenson|   Lubricant 1108|       Lubricant|Customer not info...|    No City|2017-03-31 04:26:00|       7.409|            0.0|    1.0|  13.0|          Money|Lubricant 1108,Lu...|\n",
      "|       39000|          39|Olive Stevenson|Diesel Auto Clean|            Fuel|Customer not info...|    No City|2017-03-31 04:26:00|        2.56|            0.0| 42.162|120.96|          Money|Diesel Auto Clean...|\n",
      "+------------+------------+---------------+-----------------+----------------+--------------------+-----------+-------------------+------------+---------------+-------+------+---------------+--------------------+\n",
      "only showing top 5 rows\n",
      "\n"
     ]
    }
   ],
   "source": [
    "#adding column from concatenation of existing column \n",
    "sdf.withColumn('complete product',F.concat_ws(',','Product','Product Category')).show(5)"
   ]
  },
  {
   "cell_type": "code",
   "execution_count": 19,
   "id": "5d84e988-5003-4f11-a15a-92320d1b9b9f",
   "metadata": {},
   "outputs": [
    {
     "name": "stdout",
     "output_type": "stream",
     "text": [
      "+------------+------------+---------------+-----------------+----------------+--------------------+-----------+-------------------+------------------+---------------+------------------+------+--------------------+----------------------+\n",
      "|Company Code|Order Number|       Employee|          Product|Product Category|              Client|Client City|     Sale Date Time|      Product Cost|Discount Amount|            Amount| Total|     Form of payment|Product Classification|\n",
      "+------------+------------+---------------+-----------------+----------------+--------------------+-----------+-------------------+------------------+---------------+------------------+------+--------------------+----------------------+\n",
      "|       39000|          12|      Stacy Day| Special Gasoline|            Fuel|Customer not info...|    No City|2017-03-31 04:10:00|              3.05|            0.0|             5.642| 20.02|               Money|               average|\n",
      "|       39000|          21|Olive Stevenson|   Special Diesel|            Fuel|Customer not info...|    No City|2017-03-31 04:13:00|              2.51|            0.0|           125.045| 350.0|          Debit Card|                 cheap|\n",
      "|       39000|          38|      Stacy Day|   Special Diesel|            Fuel|Customer not info...|    No City|2017-03-31 04:25:00|              2.51|            0.0|            35.699| 99.92|               Money|                 cheap|\n",
      "|       39000|          39|Olive Stevenson|   Lubricant 1108|       Lubricant|Customer not info...|    No City|2017-03-31 04:26:00|             7.409|            0.0|               1.0|  13.0|               Money|             expensive|\n",
      "|       39000|          39|Olive Stevenson|Diesel Auto Clean|            Fuel|Customer not info...|    No City|2017-03-31 04:26:00|              2.56|            0.0|            42.162|120.96|               Money|                 cheap|\n",
      "|       39000|          40|      Stacy Day| Special Gasoline|            Fuel|Customer not info...|    No City|2017-03-31 04:27:00|              3.05|            0.0|             2.739|  9.72|               Money|               average|\n",
      "|       39000|          46|Olive Stevenson| Special Gasoline|            Fuel|Customer not info...|    No City|2017-03-31 04:32:00|              3.05|            0.0|            34.461| 122.3|         Credit Card|               average|\n",
      "|       39000|          50|Olive Stevenson|   Special Diesel|            Fuel|        Arthur Mason|      Froit|2017-03-31 04:35:00|              2.51|            0.0|            17.864|  50.0|               Money|                 cheap|\n",
      "|       39000|          51|Olive Stevenson| Special Gasoline|            Fuel|Customer not info...|    No City|2017-03-31 04:37:00|              3.05|            0.0|             8.454|  30.0|         Credit Card|               average|\n",
      "|       39000|          52|      Stacy Day| Special Gasoline|            Fuel|Customer not info...|    No City|2017-03-31 04:39:00|              3.05|            0.0|            35.089|124.53|         Credit Card|               average|\n",
      "|       39000|          55|Olive Stevenson| Special Gasoline|            Fuel|Customer not info...|    No City|2017-03-31 04:44:00|              3.05|            0.0|             5.636|  20.0|               Money|               average|\n",
      "|       39000|          59|      Stacy Day| Special Gasoline|            Fuel|Customer not info...|    No City|2017-03-31 04:48:00|              3.05|            0.0|             2.821| 10.01|               Money|               average|\n",
      "|       39000|          62|      Stacy Day| Special Gasoline|            Fuel|Customer not info...|    No City|2017-03-31 04:58:00|              3.05|            0.0|            23.111| 82.02|          Debit Card|               average|\n",
      "|       39000|          74|  Curtis Newman| Special Gasoline|            Fuel|Customer not info...|    No City|2017-03-31 05:18:00|              3.05|            0.0|1.9809999999999999|  7.03|               Money|               average|\n",
      "|       39000|          77| Brandon Martin| Special Gasoline|            Fuel|Customer not info...|    No City|2017-03-31 05:19:00|              3.05|            0.0|             5.636|  20.0|               Money|               average|\n",
      "|       39000|          78|  Curtis Newman|   Special Diesel|            Fuel|Customer not info...|    No City|2017-03-31 05:21:00|              2.51|            0.0|            71.455| 200.0|Pre-paid check / ...|                 cheap|\n",
      "|       39000|          81|  Curtis Newman| Special Gasoline|            Fuel|Customer not info...|    No City|2017-03-31 05:24:00|              3.05|            0.0|            14.089|  50.0|         Credit Card|               average|\n",
      "|       39000|          87| Brandon Martin| Special Gasoline|            Fuel|Customer not info...|    No City|2017-03-31 05:43:00|              3.05|            0.0|11.270999999999999|  40.0|               Money|               average|\n",
      "|       39000|          88|  Curtis Newman|   Special Diesel|            Fuel|       Laverne Logan|    Agririe|2017-03-31 05:45:00|              2.51|            0.0|            70.729|197.97|          Debit Card|                 cheap|\n",
      "|       39000|          88|  Curtis Newman|   Lubricant 2658|       Lubricant|       Laverne Logan|    Agririe|2017-03-31 05:45:00|6.7379999999999995|            0.0|               1.0|  11.0|          Debit Card|               average|\n",
      "+------------+------------+---------------+-----------------+----------------+--------------------+-----------+-------------------+------------------+---------------+------------------+------+--------------------+----------------------+\n",
      "only showing top 20 rows\n",
      "\n"
     ]
    }
   ],
   "source": [
    "#adding column with condition\n",
    "sdf.withColumn(\"Product Classification\",\n",
    "               F.when(sdf[\"Product Cost\"]<3, F.lit(\"cheap\")) \\\n",
    "               .when((sdf[\"Product Cost\"]>= 3) & (sdf[\"Product Cost\"]<7),F.lit(\"average\")) \\\n",
    "               .otherwise(F.lit(\"expensive\"))\n",
    "              ).show(20) #.to_koalas().head(20)"
   ]
  },
  {
   "cell_type": "code",
   "execution_count": 37,
   "id": "8114e186-80b7-4109-a199-59e72d121832",
   "metadata": {},
   "outputs": [
    {
     "name": "stdout",
     "output_type": "stream",
     "text": [
      "+------------+------------+---------------+-----------------+----------------+--------------------+-----------+-------------------+------------+---------------+-------+------+---------------+----------+\n",
      "|Company Code|Order Number|       Employee|          Product|Product Category|              Client|Client City|     Sale Date Time|Product Cost|Discount Amount| Amount| Total|Form of payment|     today|\n",
      "+------------+------------+---------------+-----------------+----------------+--------------------+-----------+-------------------+------------+---------------+-------+------+---------------+----------+\n",
      "|       39000|          12|      Stacy Day| Special Gasoline|            Fuel|Customer not info...|    No City|2017-03-31 04:10:00|        3.05|            0.0|  5.642| 20.02|          Money|2021-10-13|\n",
      "|       39000|          21|Olive Stevenson|   Special Diesel|            Fuel|Customer not info...|    No City|2017-03-31 04:13:00|        2.51|            0.0|125.045| 350.0|     Debit Card|2021-10-13|\n",
      "|       39000|          38|      Stacy Day|   Special Diesel|            Fuel|Customer not info...|    No City|2017-03-31 04:25:00|        2.51|            0.0| 35.699| 99.92|          Money|2021-10-13|\n",
      "|       39000|          39|Olive Stevenson|   Lubricant 1108|       Lubricant|Customer not info...|    No City|2017-03-31 04:26:00|       7.409|            0.0|    1.0|  13.0|          Money|2021-10-13|\n",
      "|       39000|          39|Olive Stevenson|Diesel Auto Clean|            Fuel|Customer not info...|    No City|2017-03-31 04:26:00|        2.56|            0.0| 42.162|120.96|          Money|2021-10-13|\n",
      "+------------+------------+---------------+-----------------+----------------+--------------------+-----------+-------------------+------------+---------------+-------+------+---------------+----------+\n",
      "only showing top 5 rows\n",
      "\n"
     ]
    }
   ],
   "source": [
    "#adding column from sparks builtin function\n",
    "sdf.withColumn(\"today\", current_date()).show(5)"
   ]
  },
  {
   "cell_type": "code",
   "execution_count": 21,
   "id": "aa1c6b91-c26d-42a2-b7ea-4d94fd1fe7f7",
   "metadata": {},
   "outputs": [
    {
     "name": "stdout",
     "output_type": "stream",
     "text": [
      "+------------+------------+---------------+-----------------+----------------+--------------------+-----------+-------------------+------------+---------------+-------+------+---------------+--------------------+\n",
      "|Company Code|Order Number|       Employee|          Product|Product Category|              Client|Client City|     Sale Date Time|Product Cost|Discount Amount| Amount| Total|Form of payment|   current timestamp|\n",
      "+------------+------------+---------------+-----------------+----------------+--------------------+-----------+-------------------+------------+---------------+-------+------+---------------+--------------------+\n",
      "|       39000|          12|      Stacy Day| Special Gasoline|            Fuel|Customer not info...|    No City|2017-03-31 04:10:00|        3.05|            0.0|  5.642| 20.02|          Money|2021-12-13 15:03:...|\n",
      "|       39000|          21|Olive Stevenson|   Special Diesel|            Fuel|Customer not info...|    No City|2017-03-31 04:13:00|        2.51|            0.0|125.045| 350.0|     Debit Card|2021-12-13 15:03:...|\n",
      "|       39000|          38|      Stacy Day|   Special Diesel|            Fuel|Customer not info...|    No City|2017-03-31 04:25:00|        2.51|            0.0| 35.699| 99.92|          Money|2021-12-13 15:03:...|\n",
      "|       39000|          39|Olive Stevenson|   Lubricant 1108|       Lubricant|Customer not info...|    No City|2017-03-31 04:26:00|       7.409|            0.0|    1.0|  13.0|          Money|2021-12-13 15:03:...|\n",
      "|       39000|          39|Olive Stevenson|Diesel Auto Clean|            Fuel|Customer not info...|    No City|2017-03-31 04:26:00|        2.56|            0.0| 42.162|120.96|          Money|2021-12-13 15:03:...|\n",
      "+------------+------------+---------------+-----------------+----------------+--------------------+-----------+-------------------+------------+---------------+-------+------+---------------+--------------------+\n",
      "only showing top 5 rows\n",
      "\n"
     ]
    }
   ],
   "source": [
    "sdf.withColumn(\"current timestamp\",F.current_timestamp()).show(5)"
   ]
  },
  {
   "cell_type": "code",
   "execution_count": 42,
   "id": "3c7e4639-70e5-4063-9349-873491090cb6",
   "metadata": {},
   "outputs": [
    {
     "name": "stdout",
     "output_type": "stream",
     "text": [
      "+------------+------------+---------------+-----------------+----------------+--------------------+-----------+-------------------+------------+---------------+-------+------+------------+\n",
      "|Company Code|Order Number|       Employee|          Product|Product Category|              Client|Client City|     Sale Date Time|Product Cost|Discount Amount| Amount| Total|Payment Type|\n",
      "+------------+------------+---------------+-----------------+----------------+--------------------+-----------+-------------------+------------+---------------+-------+------+------------+\n",
      "|       39000|          12|      Stacy Day| Special Gasoline|            Fuel|Customer not info...|    No City|2017-03-31 04:10:00|        3.05|            0.0|  5.642| 20.02|       Money|\n",
      "|       39000|          21|Olive Stevenson|   Special Diesel|            Fuel|Customer not info...|    No City|2017-03-31 04:13:00|        2.51|            0.0|125.045| 350.0|  Debit Card|\n",
      "|       39000|          38|      Stacy Day|   Special Diesel|            Fuel|Customer not info...|    No City|2017-03-31 04:25:00|        2.51|            0.0| 35.699| 99.92|       Money|\n",
      "|       39000|          39|Olive Stevenson|   Lubricant 1108|       Lubricant|Customer not info...|    No City|2017-03-31 04:26:00|       7.409|            0.0|    1.0|  13.0|       Money|\n",
      "|       39000|          39|Olive Stevenson|Diesel Auto Clean|            Fuel|Customer not info...|    No City|2017-03-31 04:26:00|        2.56|            0.0| 42.162|120.96|       Money|\n",
      "+------------+------------+---------------+-----------------+----------------+--------------------+-----------+-------------------+------------+---------------+-------+------+------------+\n",
      "only showing top 5 rows\n",
      "\n"
     ]
    }
   ],
   "source": [
    "#rename column\n",
    "sdf.withColumnRenamed(\"Form of payment\",\"Payment Type\").show(5)"
   ]
  },
  {
   "cell_type": "code",
   "execution_count": 22,
   "id": "f5d9e382-65d3-4a8e-84bf-6f309f09c234",
   "metadata": {},
   "outputs": [
    {
     "name": "stdout",
     "output_type": "stream",
     "text": [
      "+--------------------+\n",
      "|              Client|\n",
      "+--------------------+\n",
      "|Customer not info...|\n",
      "|Customer not info...|\n",
      "|Customer not info...|\n",
      "|Customer not info...|\n",
      "|Customer not info...|\n",
      "+--------------------+\n",
      "only showing top 5 rows\n",
      "\n"
     ]
    }
   ],
   "source": [
    "#map operation\n",
    "sdf.rdd.map(lambda x: (x.Client + \",\" + x['Client City'],)).toDF(['Client']).show(5)\n",
    "#rename column in toDF argument\n",
    "# other options to refer the column : x.Client, x['Client'], x[5]"
   ]
  },
  {
   "cell_type": "code",
   "execution_count": 72,
   "id": "ac62aa3d-c05d-4db2-a2ca-0139f4d09406",
   "metadata": {},
   "outputs": [
    {
     "name": "stdout",
     "output_type": "stream",
     "text": [
      "+------------------+\n",
      "|   Invlation Price|\n",
      "+------------------+\n",
      "|             3.355|\n",
      "|2.7609999999999997|\n",
      "|2.7609999999999997|\n",
      "|            8.1499|\n",
      "|             2.816|\n",
      "+------------------+\n",
      "only showing top 5 rows\n",
      "\n"
     ]
    }
   ],
   "source": [
    "sdf.rdd.map(lambda x: (x['Product Cost'] + (x['Product Cost']*0.1),)).toDF(['Invlation Price']).show(5)"
   ]
  },
  {
   "cell_type": "markdown",
   "id": "576fb4c0-da57-4e9f-adb6-735c74b6389a",
   "metadata": {
    "jp-MarkdownHeadingCollapsed": true,
    "tags": []
   },
   "source": [
    "## Spark IO (write to SQL Server)"
   ]
  },
  {
   "cell_type": "code",
   "execution_count": 1,
   "id": "ddfbb988",
   "metadata": {},
   "outputs": [],
   "source": [
    "#sql server properties\n",
    "server_name = \"jdbc:sqlserver://12345678910\"\n",
    "database_name = \"custom_dataset\"\n",
    "url = server_name + \";\" + \"databaseName=\" + database_name + \";\"\n",
    "\n",
    "table_name = \"big_data_demo\"\n",
    "username = \"admin\"\n",
    "password = \"admin\" "
   ]
  },
  {
   "cell_type": "code",
   "execution_count": 2,
   "id": "944f0386",
   "metadata": {},
   "outputs": [
    {
     "data": {
      "text/plain": [
       "'jdbc:sqlserver://12345678910;databaseName=custom_dataset;'"
      ]
     },
     "execution_count": 2,
     "metadata": {},
     "output_type": "execute_result"
    }
   ],
   "source": [
    "url"
   ]
  },
  {
   "cell_type": "code",
   "execution_count": 59,
   "id": "19a74b8b",
   "metadata": {},
   "outputs": [],
   "source": [
    "try:\n",
    "    sdf.write.mode(\"overwrite\") \\\n",
    "        .format(\"jdbc\") \\\n",
    "        .option(\"driver\", \"com.microsoft.sqlserver.jdbc.SQLServerDriver\") \\\n",
    "        .option(\"url\",url) \\\n",
    "        .option(\"dbtable\",table_name) \\\n",
    "        .option(\"user\",username) \\\n",
    "        .option(\"password\",password) \\\n",
    "        .save()\n",
    "    \n",
    "except ValueError as error :\n",
    "    print(\"Connector write failed\", error)"
   ]
  },
  {
   "cell_type": "code",
   "execution_count": 60,
   "id": "814817ff-2bb1-4ce4-9367-03d0a40c0e27",
   "metadata": {},
   "outputs": [
    {
     "name": "stdout",
     "output_type": "stream",
     "text": [
      "write complete\n"
     ]
    }
   ],
   "source": [
    "print('write complete')"
   ]
  },
  {
   "cell_type": "markdown",
   "id": "abc5bfe1-c8f1-46ec-a445-821b7afed2eb",
   "metadata": {
    "jp-MarkdownHeadingCollapsed": true,
    "tags": []
   },
   "source": [
    "# Spark Dataframe to Koalas/Pandas Dataframe"
   ]
  },
  {
   "cell_type": "code",
   "execution_count": null,
   "id": "08e6e339",
   "metadata": {},
   "outputs": [],
   "source": [
    "kdf = sdf.to_koalas()"
   ]
  },
  {
   "cell_type": "code",
   "execution_count": null,
   "id": "b317a2ba",
   "metadata": {},
   "outputs": [
    {
     "data": {
      "text/html": [
       "<div>\n",
       "<style scoped>\n",
       "    .dataframe tbody tr th:only-of-type {\n",
       "        vertical-align: middle;\n",
       "    }\n",
       "\n",
       "    .dataframe tbody tr th {\n",
       "        vertical-align: top;\n",
       "    }\n",
       "\n",
       "    .dataframe thead th {\n",
       "        text-align: right;\n",
       "    }\n",
       "</style>\n",
       "<table border=\"1\" class=\"dataframe\">\n",
       "  <thead>\n",
       "    <tr style=\"text-align: right;\">\n",
       "      <th></th>\n",
       "      <th>Company Code</th>\n",
       "      <th>Order Number</th>\n",
       "      <th>Employee</th>\n",
       "      <th>Product</th>\n",
       "      <th>Product Category</th>\n",
       "      <th>Client</th>\n",
       "      <th>Client City</th>\n",
       "      <th>Sale Date Time</th>\n",
       "      <th>Product Cost</th>\n",
       "      <th>Discount Amount</th>\n",
       "      <th>Amount</th>\n",
       "      <th>Form of payment</th>\n",
       "      <th>after tax</th>\n",
       "    </tr>\n",
       "  </thead>\n",
       "  <tbody>\n",
       "    <tr>\n",
       "      <th>0</th>\n",
       "      <td>39000</td>\n",
       "      <td>12</td>\n",
       "      <td>Stacy Day</td>\n",
       "      <td>Special Gasoline</td>\n",
       "      <td>Fuel</td>\n",
       "      <td>Customer not informed</td>\n",
       "      <td>No City</td>\n",
       "      <td>2017-03-31 04:10:00</td>\n",
       "      <td>3.050</td>\n",
       "      <td>0.0</td>\n",
       "      <td>5.642</td>\n",
       "      <td>Money</td>\n",
       "      <td>22.022</td>\n",
       "    </tr>\n",
       "    <tr>\n",
       "      <th>1</th>\n",
       "      <td>39000</td>\n",
       "      <td>21</td>\n",
       "      <td>Olive Stevenson</td>\n",
       "      <td>Special Diesel</td>\n",
       "      <td>Fuel</td>\n",
       "      <td>Customer not informed</td>\n",
       "      <td>No City</td>\n",
       "      <td>2017-03-31 04:13:00</td>\n",
       "      <td>2.510</td>\n",
       "      <td>0.0</td>\n",
       "      <td>125.045</td>\n",
       "      <td>Debit Card</td>\n",
       "      <td>385.000</td>\n",
       "    </tr>\n",
       "    <tr>\n",
       "      <th>2</th>\n",
       "      <td>39000</td>\n",
       "      <td>38</td>\n",
       "      <td>Stacy Day</td>\n",
       "      <td>Special Diesel</td>\n",
       "      <td>Fuel</td>\n",
       "      <td>Customer not informed</td>\n",
       "      <td>No City</td>\n",
       "      <td>2017-03-31 04:25:00</td>\n",
       "      <td>2.510</td>\n",
       "      <td>0.0</td>\n",
       "      <td>35.699</td>\n",
       "      <td>Money</td>\n",
       "      <td>109.912</td>\n",
       "    </tr>\n",
       "    <tr>\n",
       "      <th>3</th>\n",
       "      <td>39000</td>\n",
       "      <td>39</td>\n",
       "      <td>Olive Stevenson</td>\n",
       "      <td>Lubricant 1108</td>\n",
       "      <td>Lubricant</td>\n",
       "      <td>Customer not informed</td>\n",
       "      <td>No City</td>\n",
       "      <td>2017-03-31 04:26:00</td>\n",
       "      <td>7.409</td>\n",
       "      <td>0.0</td>\n",
       "      <td>1.000</td>\n",
       "      <td>Money</td>\n",
       "      <td>14.300</td>\n",
       "    </tr>\n",
       "    <tr>\n",
       "      <th>4</th>\n",
       "      <td>39000</td>\n",
       "      <td>39</td>\n",
       "      <td>Olive Stevenson</td>\n",
       "      <td>Diesel Auto Clean</td>\n",
       "      <td>Fuel</td>\n",
       "      <td>Customer not informed</td>\n",
       "      <td>No City</td>\n",
       "      <td>2017-03-31 04:26:00</td>\n",
       "      <td>2.560</td>\n",
       "      <td>0.0</td>\n",
       "      <td>42.162</td>\n",
       "      <td>Money</td>\n",
       "      <td>133.056</td>\n",
       "    </tr>\n",
       "  </tbody>\n",
       "</table>\n",
       "</div>"
      ],
      "text/plain": [
       "   Company Code  Order Number         Employee            Product Product Category                 Client Client City       Sale Date Time  Product Cost  Discount Amount   Amount Form of payment  after tax\n",
       "0         39000            12        Stacy Day   Special Gasoline             Fuel  Customer not informed     No City  2017-03-31 04:10:00         3.050              0.0    5.642           Money     22.022\n",
       "1         39000            21  Olive Stevenson     Special Diesel             Fuel  Customer not informed     No City  2017-03-31 04:13:00         2.510              0.0  125.045      Debit Card    385.000\n",
       "2         39000            38        Stacy Day     Special Diesel             Fuel  Customer not informed     No City  2017-03-31 04:25:00         2.510              0.0   35.699           Money    109.912\n",
       "3         39000            39  Olive Stevenson     Lubricant 1108        Lubricant  Customer not informed     No City  2017-03-31 04:26:00         7.409              0.0    1.000           Money     14.300\n",
       "4         39000            39  Olive Stevenson  Diesel Auto Clean             Fuel  Customer not informed     No City  2017-03-31 04:26:00         2.560              0.0   42.162           Money    133.056"
      ]
     },
     "execution_count": 43,
     "metadata": {},
     "output_type": "execute_result"
    }
   ],
   "source": [
    "kdf.head()"
   ]
  },
  {
   "cell_type": "code",
   "execution_count": 46,
   "id": "336d8b43",
   "metadata": {},
   "outputs": [],
   "source": [
    "def inspect_null(df):\n",
    "    na_val = df.isnull().sum() * 100/ len(df)\n",
    "    na_val = na_val[na_val >0].sort_values(ascending=False)\n",
    "    return na_val"
   ]
  },
  {
   "cell_type": "code",
   "execution_count": 47,
   "id": "587fdd9e",
   "metadata": {},
   "outputs": [
    {
     "data": {
      "text/plain": [
       "Series([], dtype: float64)"
      ]
     },
     "execution_count": 47,
     "metadata": {},
     "output_type": "execute_result"
    }
   ],
   "source": [
    "inspect_null(kdf)"
   ]
  },
  {
   "cell_type": "code",
   "execution_count": 48,
   "id": "a352b07b",
   "metadata": {},
   "outputs": [
    {
     "data": {
      "text/html": [
       "<div>\n",
       "<style scoped>\n",
       "    .dataframe tbody tr th:only-of-type {\n",
       "        vertical-align: middle;\n",
       "    }\n",
       "\n",
       "    .dataframe tbody tr th {\n",
       "        vertical-align: top;\n",
       "    }\n",
       "\n",
       "    .dataframe thead th {\n",
       "        text-align: right;\n",
       "    }\n",
       "</style>\n",
       "<table border=\"1\" class=\"dataframe\">\n",
       "  <thead>\n",
       "    <tr style=\"text-align: right;\">\n",
       "      <th></th>\n",
       "      <th>Company Code</th>\n",
       "      <th>Order Number</th>\n",
       "      <th>Product Cost</th>\n",
       "      <th>Discount Amount</th>\n",
       "      <th>Amount</th>\n",
       "      <th>after tax</th>\n",
       "    </tr>\n",
       "  </thead>\n",
       "  <tbody>\n",
       "    <tr>\n",
       "      <th>count</th>\n",
       "      <td>2.695116e+07</td>\n",
       "      <td>2.695116e+07</td>\n",
       "      <td>2.695116e+07</td>\n",
       "      <td>2.695116e+07</td>\n",
       "      <td>2.695116e+07</td>\n",
       "      <td>2.695116e+07</td>\n",
       "    </tr>\n",
       "    <tr>\n",
       "      <th>mean</th>\n",
       "      <td>4.451264e+06</td>\n",
       "      <td>1.385974e+06</td>\n",
       "      <td>3.738021e+00</td>\n",
       "      <td>3.223069e-03</td>\n",
       "      <td>1.741961e+01</td>\n",
       "      <td>7.284016e+01</td>\n",
       "    </tr>\n",
       "    <tr>\n",
       "      <th>std</th>\n",
       "      <td>4.284039e+06</td>\n",
       "      <td>6.077615e+05</td>\n",
       "      <td>2.700790e+00</td>\n",
       "      <td>6.349943e-01</td>\n",
       "      <td>2.835413e+01</td>\n",
       "      <td>1.033790e+02</td>\n",
       "    </tr>\n",
       "    <tr>\n",
       "      <th>min</th>\n",
       "      <td>3.900000e+04</td>\n",
       "      <td>8.000000e+00</td>\n",
       "      <td>-1.794000e+00</td>\n",
       "      <td>0.000000e+00</td>\n",
       "      <td>3.000000e-03</td>\n",
       "      <td>1.100000e-02</td>\n",
       "    </tr>\n",
       "    <tr>\n",
       "      <th>25%</th>\n",
       "      <td>8.820000e+05</td>\n",
       "      <td>9.125160e+05</td>\n",
       "      <td>3.391000e+00</td>\n",
       "      <td>0.000000e+00</td>\n",
       "      <td>4.916000e+00</td>\n",
       "      <td>2.200000e+01</td>\n",
       "    </tr>\n",
       "    <tr>\n",
       "      <th>50%</th>\n",
       "      <td>3.234000e+06</td>\n",
       "      <td>1.410865e+06</td>\n",
       "      <td>3.610000e+00</td>\n",
       "      <td>0.000000e+00</td>\n",
       "      <td>1.190800e+01</td>\n",
       "      <td>5.500000e+01</td>\n",
       "    </tr>\n",
       "    <tr>\n",
       "      <th>75%</th>\n",
       "      <td>1.001900e+07</td>\n",
       "      <td>1.905212e+06</td>\n",
       "      <td>3.774000e+00</td>\n",
       "      <td>0.000000e+00</td>\n",
       "      <td>2.370300e+01</td>\n",
       "      <td>1.100000e+02</td>\n",
       "    </tr>\n",
       "    <tr>\n",
       "      <th>max</th>\n",
       "      <td>1.474000e+07</td>\n",
       "      <td>2.391978e+06</td>\n",
       "      <td>4.090000e+02</td>\n",
       "      <td>8.034000e+02</td>\n",
       "      <td>3.257799e+03</td>\n",
       "      <td>1.099890e+04</td>\n",
       "    </tr>\n",
       "  </tbody>\n",
       "</table>\n",
       "</div>"
      ],
      "text/plain": [
       "       Company Code  Order Number  Product Cost  Discount Amount        Amount     after tax\n",
       "count  2.695116e+07  2.695116e+07  2.695116e+07     2.695116e+07  2.695116e+07  2.695116e+07\n",
       "mean   4.451264e+06  1.385974e+06  3.738021e+00     3.223069e-03  1.741961e+01  7.284016e+01\n",
       "std    4.284039e+06  6.077615e+05  2.700790e+00     6.349943e-01  2.835413e+01  1.033790e+02\n",
       "min    3.900000e+04  8.000000e+00 -1.794000e+00     0.000000e+00  3.000000e-03  1.100000e-02\n",
       "25%    8.820000e+05  9.125160e+05  3.391000e+00     0.000000e+00  4.916000e+00  2.200000e+01\n",
       "50%    3.234000e+06  1.410865e+06  3.610000e+00     0.000000e+00  1.190800e+01  5.500000e+01\n",
       "75%    1.001900e+07  1.905212e+06  3.774000e+00     0.000000e+00  2.370300e+01  1.100000e+02\n",
       "max    1.474000e+07  2.391978e+06  4.090000e+02     8.034000e+02  3.257799e+03  1.099890e+04"
      ]
     },
     "execution_count": 48,
     "metadata": {},
     "output_type": "execute_result"
    }
   ],
   "source": [
    "kdf.describe()"
   ]
  },
  {
   "cell_type": "code",
   "execution_count": 49,
   "id": "294e17ea",
   "metadata": {},
   "outputs": [
    {
     "name": "stdout",
     "output_type": "stream",
     "text": [
      "databricks.koalas.frame.DataFrame\n",
      "Int64Index: 26951165 entries, 0 to 26951164\n",
      "Data columns (total 13 columns):\n",
      " #   Column            Non-Null Count     Dtype  \n",
      "---  ------            --------------     -----  \n",
      " 0   Company Code      26951165 non-null  int32  \n",
      " 1   Order Number      26951165 non-null  int32  \n",
      " 2   Employee          26951165 non-null  object \n",
      " 3   Product           26951165 non-null  object \n",
      " 4   Product Category  26951165 non-null  object \n",
      " 5   Client            26951165 non-null  object \n",
      " 6   Client City       26951165 non-null  object \n",
      " 7   Sale Date Time    26951165 non-null  object \n",
      " 8   Product Cost      26951165 non-null  float64\n",
      " 9   Discount Amount   26951165 non-null  float64\n",
      " 10  Amount            26951165 non-null  float64\n",
      " 11  Form of payment   26951165 non-null  object \n",
      " 12  after tax         26951165 non-null  float64\n",
      "dtypes: float64(4), int32(2), object(7)"
     ]
    }
   ],
   "source": [
    "kdf.info()"
   ]
  },
  {
   "cell_type": "markdown",
   "id": "b1481ad7-5ce4-40c4-875d-263f82de6310",
   "metadata": {
    "jp-MarkdownHeadingCollapsed": true,
    "tags": []
   },
   "source": [
    "# Spark Streaming"
   ]
  },
  {
   "cell_type": "code",
   "execution_count": 74,
   "id": "33bc87bc-e264-4cda-ad2f-d2bdf3ba70b1",
   "metadata": {},
   "outputs": [
    {
     "data": {
      "text/html": [
       "<div>\n",
       "<style scoped>\n",
       "    .dataframe tbody tr th:only-of-type {\n",
       "        vertical-align: middle;\n",
       "    }\n",
       "\n",
       "    .dataframe tbody tr th {\n",
       "        vertical-align: top;\n",
       "    }\n",
       "\n",
       "    .dataframe thead th {\n",
       "        text-align: right;\n",
       "    }\n",
       "</style>\n",
       "<table border=\"1\" class=\"dataframe\">\n",
       "  <thead>\n",
       "    <tr style=\"text-align: right;\">\n",
       "      <th></th>\n",
       "      <th>event</th>\n",
       "      <th>officeLoc</th>\n",
       "      <th>empFirstName</th>\n",
       "      <th>empLastName</th>\n",
       "      <th>email</th>\n",
       "      <th>empStatus</th>\n",
       "      <th>deviceStatus</th>\n",
       "      <th>profession</th>\n",
       "      <th>tempC</th>\n",
       "    </tr>\n",
       "  </thead>\n",
       "  <tbody>\n",
       "    <tr>\n",
       "      <th>0</th>\n",
       "      <td>1</td>\n",
       "      <td>site A</td>\n",
       "      <td>Natka</td>\n",
       "      <td>Zaslow</td>\n",
       "      <td>Natka.Zaslow@nusanetwork.com</td>\n",
       "      <td>active</td>\n",
       "      <td>DOWN</td>\n",
       "      <td>Network Engineer</td>\n",
       "      <td>37.4</td>\n",
       "    </tr>\n",
       "  </tbody>\n",
       "</table>\n",
       "</div>"
      ],
      "text/plain": [
       "   event officeLoc empFirstName empLastName                         email  \\\n",
       "0      1    site A        Natka      Zaslow  Natka.Zaslow@nusanetwork.com   \n",
       "\n",
       "  empStatus deviceStatus        profession  tempC  \n",
       "0    active         DOWN  Network Engineer   37.4  "
      ]
     },
     "execution_count": 74,
     "metadata": {},
     "output_type": "execute_result"
    }
   ],
   "source": [
    "df = pd.read_csv(\"D:\\Data Engineer\\Dataset\\Stream Dataset\\myFile0.csv\")\n",
    "df"
   ]
  },
  {
   "cell_type": "code",
   "execution_count": 45,
   "id": "cbcd2c6b-62f0-406b-8eb9-99585cde4520",
   "metadata": {},
   "outputs": [],
   "source": [
    "schema = StructType([\n",
    "    StructField('event',IntegerType(),True),\n",
    "    StructField('officeLoc',StringType(),True),\n",
    "    StructField('empFirstName',StringType(),True),\n",
    "    StructField('empLastName',StringType(),True),\n",
    "    StructField('email',StringType(),True),\n",
    "    StructField('empStatus',StringType(),True),\n",
    "    StructField('deviceStatus',StringType(),True),\n",
    "    StructField('profession',StringType(),True),\n",
    "    StructField('tempC',DoubleType(),True),\n",
    "])"
   ]
  },
  {
   "cell_type": "code",
   "execution_count": 16,
   "id": "5533f275-d638-4ad6-af37-e110950f5d6c",
   "metadata": {},
   "outputs": [],
   "source": [
    "streamquery = spark.readStream.option('maxFilesPerTrigger',1).csv('D:/Data Engineer/Dataset/Stream Dataset',header=True,schema=schema)"
   ]
  },
  {
   "cell_type": "code",
   "execution_count": 55,
   "id": "d4236b0f-46a9-49b9-aeee-a6325b2cfdf8",
   "metadata": {},
   "outputs": [
    {
     "data": {
      "text/plain": [
       "True"
      ]
     },
     "execution_count": 55,
     "metadata": {},
     "output_type": "execute_result"
    }
   ],
   "source": [
    "streamquery.isStreaming"
   ]
  },
  {
   "cell_type": "code",
   "execution_count": 47,
   "id": "4a5ecfd0-5cc0-4ecd-ae0f-847b33ac2f3f",
   "metadata": {},
   "outputs": [
    {
     "name": "stdout",
     "output_type": "stream",
     "text": [
      "root\n",
      " |-- event: integer (nullable = true)\n",
      " |-- officeLoc: string (nullable = true)\n",
      " |-- empFirstName: string (nullable = true)\n",
      " |-- empLastName: string (nullable = true)\n",
      " |-- email: string (nullable = true)\n",
      " |-- empStatus: string (nullable = true)\n",
      " |-- deviceStatus: string (nullable = true)\n",
      " |-- profession: string (nullable = true)\n",
      " |-- tempC: double (nullable = true)\n",
      "\n"
     ]
    }
   ],
   "source": [
    "streamquery.printSchema()"
   ]
  },
  {
   "cell_type": "code",
   "execution_count": 48,
   "id": "a235a7d2-513c-460b-b8de-871cad43cd02",
   "metadata": {},
   "outputs": [],
   "source": [
    "complete_query = streamquery.writeStream.queryName('complete_view').format('memory').outputMode('append').start()"
   ]
  },
  {
   "cell_type": "code",
   "execution_count": 22,
   "id": "3249b37f-05a6-4d9c-bd03-666468ff7fc7",
   "metadata": {},
   "outputs": [
    {
     "name": "stdout",
     "output_type": "stream",
     "text": [
      "+-----+---------+------------+-----------+--------------------+----------+------------+----------------+-----+\n",
      "|event|officeLoc|empFirstName|empLastName|               email| empStatus|deviceStatus|      profession|tempC|\n",
      "+-----+---------+------------+-----------+--------------------+----------+------------+----------------+-----+\n",
      "|    1|   site C|       Dotty|Fitzsimmons|Dotty.Fitzsimmons...|    active|        DOWN|             BOD| 42.8|\n",
      "|    1|   site D|     Shandie|   Holbrook|Shandie.Holbrook@...|non-active|        DOWN|           Sales| 49.4|\n",
      "|    1|   site A|   Annaliese|      Dosia|Annaliese.Dosia@n...|non-active|          UP|   Data Engineer| 39.8|\n",
      "|    1|   site B|        Dale|    Pacorro|Dale.Pacorro@nusa...|non-active|        DOWN|             BOD| 46.5|\n",
      "|    1|   site C|     Ardenia|    Hilbert|Ardenia.Hilbert@n...| suspended|        DOWN|Network Engineer| 39.5|\n",
      "|    1|   site D|       Linet|     Cecile|Linet.Cecile@nusa...| suspended|          UP|       Operation| 50.9|\n",
      "|    1|   site D|    Janeczka|Fairweather|Janeczka.Fairweat...|non-active|          UP|Network Engineer| 40.6|\n",
      "|    1|   site B|    Theodora|       Bahr|Theodora.Bahr@nus...|non-active|          UP|       Operation| 47.5|\n",
      "|    1|   site A|       Zaria|     Dominy|Zaria.Dominy@nusa...|non-active|          UP|             BOD| 39.4|\n",
      "|    1|   site B|        Emma|    Rosette|Emma.Rosette@nusa...|    active|        DOWN|           Sales| 38.9|\n",
      "|    1|   site A|      Dorene|   Seligman|Dorene.Seligman@n...|non-active|          UP|             BOD| 42.9|\n",
      "|    1|   site B|      Kerrin|       Uund|Kerrin.Uund@nusan...|    active|          UP|       Operation| 50.6|\n",
      "+-----+---------+------------+-----------+--------------------+----------+------------+----------------+-----+\n",
      "\n",
      "+-----+---------+------------+-----------+--------------------+----------+------------+----------------+-----+\n",
      "|event|officeLoc|empFirstName|empLastName|               email| empStatus|deviceStatus|      profession|tempC|\n",
      "+-----+---------+------------+-----------+--------------------+----------+------------+----------------+-----+\n",
      "|    1|   site C|       Dotty|Fitzsimmons|Dotty.Fitzsimmons...|    active|        DOWN|             BOD| 42.8|\n",
      "|    1|   site D|     Shandie|   Holbrook|Shandie.Holbrook@...|non-active|        DOWN|           Sales| 49.4|\n",
      "|    1|   site A|   Annaliese|      Dosia|Annaliese.Dosia@n...|non-active|          UP|   Data Engineer| 39.8|\n",
      "|    1|   site B|        Dale|    Pacorro|Dale.Pacorro@nusa...|non-active|        DOWN|             BOD| 46.5|\n",
      "|    1|   site C|     Ardenia|    Hilbert|Ardenia.Hilbert@n...| suspended|        DOWN|Network Engineer| 39.5|\n",
      "|    1|   site D|       Linet|     Cecile|Linet.Cecile@nusa...| suspended|          UP|       Operation| 50.9|\n",
      "|    1|   site D|    Janeczka|Fairweather|Janeczka.Fairweat...|non-active|          UP|Network Engineer| 40.6|\n",
      "|    1|   site B|    Theodora|       Bahr|Theodora.Bahr@nus...|non-active|          UP|       Operation| 47.5|\n",
      "|    1|   site A|       Zaria|     Dominy|Zaria.Dominy@nusa...|non-active|          UP|             BOD| 39.4|\n",
      "|    1|   site B|        Emma|    Rosette|Emma.Rosette@nusa...|    active|        DOWN|           Sales| 38.9|\n",
      "|    1|   site A|      Dorene|   Seligman|Dorene.Seligman@n...|non-active|          UP|             BOD| 42.9|\n",
      "|    1|   site B|      Kerrin|       Uund|Kerrin.Uund@nusan...|    active|          UP|       Operation| 50.6|\n",
      "|    1|   site D|    Dulcinea|     Barney|Dulcinea.Barney@n...|    active|          UP|   Data Engineer| 41.2|\n",
      "|    1|   site C|      Adelle|      Wesle|Adelle.Wesle@nusa...| suspended|          UP|Network Engineer| 42.4|\n",
      "|    1|   site D|  Michaelina|      Kress|Michaelina.Kress@...| suspended|        DOWN|       Operation| 46.6|\n",
      "|    1|   site A|        Hope|       Faro|Hope.Faro@nusanet...|    active|        DOWN|Network Engineer| 48.7|\n",
      "|    1|   site C|    Brandise|    Helfand|Brandise.Helfand@...|    active|        DOWN|Network Engineer| 38.8|\n",
      "|    1|   site B|    Penelopa|      Mitzi|Penelopa.Mitzi@nu...| suspended|          UP|       Operation| 49.9|\n",
      "|    1|   site B|     Kristan|      Hoban|Kristan.Hoban@nus...| suspended|          UP|       Operation| 39.3|\n",
      "+-----+---------+------------+-----------+--------------------+----------+------------+----------------+-----+\n",
      "\n",
      "+-----+---------+------------+-----------+--------------------+----------+------------+----------------+-----+\n",
      "|event|officeLoc|empFirstName|empLastName|               email| empStatus|deviceStatus|      profession|tempC|\n",
      "+-----+---------+------------+-----------+--------------------+----------+------------+----------------+-----+\n",
      "|    1|   site C|       Dotty|Fitzsimmons|Dotty.Fitzsimmons...|    active|        DOWN|             BOD| 42.8|\n",
      "|    1|   site D|     Shandie|   Holbrook|Shandie.Holbrook@...|non-active|        DOWN|           Sales| 49.4|\n",
      "|    1|   site A|   Annaliese|      Dosia|Annaliese.Dosia@n...|non-active|          UP|   Data Engineer| 39.8|\n",
      "|    1|   site B|        Dale|    Pacorro|Dale.Pacorro@nusa...|non-active|        DOWN|             BOD| 46.5|\n",
      "|    1|   site C|     Ardenia|    Hilbert|Ardenia.Hilbert@n...| suspended|        DOWN|Network Engineer| 39.5|\n",
      "|    1|   site D|       Linet|     Cecile|Linet.Cecile@nusa...| suspended|          UP|       Operation| 50.9|\n",
      "|    1|   site D|    Janeczka|Fairweather|Janeczka.Fairweat...|non-active|          UP|Network Engineer| 40.6|\n",
      "|    1|   site B|    Theodora|       Bahr|Theodora.Bahr@nus...|non-active|          UP|       Operation| 47.5|\n",
      "|    1|   site A|       Zaria|     Dominy|Zaria.Dominy@nusa...|non-active|          UP|             BOD| 39.4|\n",
      "|    1|   site B|        Emma|    Rosette|Emma.Rosette@nusa...|    active|        DOWN|           Sales| 38.9|\n",
      "|    1|   site A|      Dorene|   Seligman|Dorene.Seligman@n...|non-active|          UP|             BOD| 42.9|\n",
      "|    1|   site B|      Kerrin|       Uund|Kerrin.Uund@nusan...|    active|          UP|       Operation| 50.6|\n",
      "|    1|   site D|    Dulcinea|     Barney|Dulcinea.Barney@n...|    active|          UP|   Data Engineer| 41.2|\n",
      "|    1|   site C|      Adelle|      Wesle|Adelle.Wesle@nusa...| suspended|          UP|Network Engineer| 42.4|\n",
      "|    1|   site D|  Michaelina|      Kress|Michaelina.Kress@...| suspended|        DOWN|       Operation| 46.6|\n",
      "|    1|   site A|        Hope|       Faro|Hope.Faro@nusanet...|    active|        DOWN|Network Engineer| 48.7|\n",
      "|    1|   site C|    Brandise|    Helfand|Brandise.Helfand@...|    active|        DOWN|Network Engineer| 38.8|\n",
      "|    1|   site B|    Penelopa|      Mitzi|Penelopa.Mitzi@nu...| suspended|          UP|       Operation| 49.9|\n",
      "|    1|   site B|     Kristan|      Hoban|Kristan.Hoban@nus...| suspended|          UP|       Operation| 39.3|\n",
      "|    1|   site A|      Drucie|     Nedrud|Drucie.Nedrud@nus...| suspended|          UP|       Operation| 49.8|\n",
      "+-----+---------+------------+-----------+--------------------+----------+------------+----------------+-----+\n",
      "only showing top 20 rows\n",
      "\n",
      "+-----+---------+------------+-----------+--------------------+----------+------------+----------------+-----+\n",
      "|event|officeLoc|empFirstName|empLastName|               email| empStatus|deviceStatus|      profession|tempC|\n",
      "+-----+---------+------------+-----------+--------------------+----------+------------+----------------+-----+\n",
      "|    1|   site C|       Dotty|Fitzsimmons|Dotty.Fitzsimmons...|    active|        DOWN|             BOD| 42.8|\n",
      "|    1|   site D|     Shandie|   Holbrook|Shandie.Holbrook@...|non-active|        DOWN|           Sales| 49.4|\n",
      "|    1|   site A|   Annaliese|      Dosia|Annaliese.Dosia@n...|non-active|          UP|   Data Engineer| 39.8|\n",
      "|    1|   site B|        Dale|    Pacorro|Dale.Pacorro@nusa...|non-active|        DOWN|             BOD| 46.5|\n",
      "|    1|   site C|     Ardenia|    Hilbert|Ardenia.Hilbert@n...| suspended|        DOWN|Network Engineer| 39.5|\n",
      "|    1|   site D|       Linet|     Cecile|Linet.Cecile@nusa...| suspended|          UP|       Operation| 50.9|\n",
      "|    1|   site D|    Janeczka|Fairweather|Janeczka.Fairweat...|non-active|          UP|Network Engineer| 40.6|\n",
      "|    1|   site B|    Theodora|       Bahr|Theodora.Bahr@nus...|non-active|          UP|       Operation| 47.5|\n",
      "|    1|   site A|       Zaria|     Dominy|Zaria.Dominy@nusa...|non-active|          UP|             BOD| 39.4|\n",
      "|    1|   site B|        Emma|    Rosette|Emma.Rosette@nusa...|    active|        DOWN|           Sales| 38.9|\n",
      "|    1|   site A|      Dorene|   Seligman|Dorene.Seligman@n...|non-active|          UP|             BOD| 42.9|\n",
      "|    1|   site B|      Kerrin|       Uund|Kerrin.Uund@nusan...|    active|          UP|       Operation| 50.6|\n",
      "|    1|   site D|    Dulcinea|     Barney|Dulcinea.Barney@n...|    active|          UP|   Data Engineer| 41.2|\n",
      "|    1|   site C|      Adelle|      Wesle|Adelle.Wesle@nusa...| suspended|          UP|Network Engineer| 42.4|\n",
      "|    1|   site D|  Michaelina|      Kress|Michaelina.Kress@...| suspended|        DOWN|       Operation| 46.6|\n",
      "|    1|   site A|        Hope|       Faro|Hope.Faro@nusanet...|    active|        DOWN|Network Engineer| 48.7|\n",
      "|    1|   site C|    Brandise|    Helfand|Brandise.Helfand@...|    active|        DOWN|Network Engineer| 38.8|\n",
      "|    1|   site B|    Penelopa|      Mitzi|Penelopa.Mitzi@nu...| suspended|          UP|       Operation| 49.9|\n",
      "|    1|   site B|     Kristan|      Hoban|Kristan.Hoban@nus...| suspended|          UP|       Operation| 39.3|\n",
      "|    1|   site A|      Drucie|     Nedrud|Drucie.Nedrud@nus...| suspended|          UP|       Operation| 49.8|\n",
      "+-----+---------+------------+-----------+--------------------+----------+------------+----------------+-----+\n",
      "only showing top 20 rows\n",
      "\n",
      "+-----+---------+------------+-----------+--------------------+----------+------------+----------------+-----+\n",
      "|event|officeLoc|empFirstName|empLastName|               email| empStatus|deviceStatus|      profession|tempC|\n",
      "+-----+---------+------------+-----------+--------------------+----------+------------+----------------+-----+\n",
      "|    1|   site C|       Dotty|Fitzsimmons|Dotty.Fitzsimmons...|    active|        DOWN|             BOD| 42.8|\n",
      "|    1|   site D|     Shandie|   Holbrook|Shandie.Holbrook@...|non-active|        DOWN|           Sales| 49.4|\n",
      "|    1|   site A|   Annaliese|      Dosia|Annaliese.Dosia@n...|non-active|          UP|   Data Engineer| 39.8|\n",
      "|    1|   site B|        Dale|    Pacorro|Dale.Pacorro@nusa...|non-active|        DOWN|             BOD| 46.5|\n",
      "|    1|   site C|     Ardenia|    Hilbert|Ardenia.Hilbert@n...| suspended|        DOWN|Network Engineer| 39.5|\n",
      "|    1|   site D|       Linet|     Cecile|Linet.Cecile@nusa...| suspended|          UP|       Operation| 50.9|\n",
      "|    1|   site D|    Janeczka|Fairweather|Janeczka.Fairweat...|non-active|          UP|Network Engineer| 40.6|\n",
      "|    1|   site B|    Theodora|       Bahr|Theodora.Bahr@nus...|non-active|          UP|       Operation| 47.5|\n",
      "|    1|   site A|       Zaria|     Dominy|Zaria.Dominy@nusa...|non-active|          UP|             BOD| 39.4|\n",
      "|    1|   site B|        Emma|    Rosette|Emma.Rosette@nusa...|    active|        DOWN|           Sales| 38.9|\n",
      "|    1|   site A|      Dorene|   Seligman|Dorene.Seligman@n...|non-active|          UP|             BOD| 42.9|\n",
      "|    1|   site B|      Kerrin|       Uund|Kerrin.Uund@nusan...|    active|          UP|       Operation| 50.6|\n",
      "|    1|   site D|    Dulcinea|     Barney|Dulcinea.Barney@n...|    active|          UP|   Data Engineer| 41.2|\n",
      "|    1|   site C|      Adelle|      Wesle|Adelle.Wesle@nusa...| suspended|          UP|Network Engineer| 42.4|\n",
      "|    1|   site D|  Michaelina|      Kress|Michaelina.Kress@...| suspended|        DOWN|       Operation| 46.6|\n",
      "|    1|   site A|        Hope|       Faro|Hope.Faro@nusanet...|    active|        DOWN|Network Engineer| 48.7|\n",
      "|    1|   site C|    Brandise|    Helfand|Brandise.Helfand@...|    active|        DOWN|Network Engineer| 38.8|\n",
      "|    1|   site B|    Penelopa|      Mitzi|Penelopa.Mitzi@nu...| suspended|          UP|       Operation| 49.9|\n",
      "|    1|   site B|     Kristan|      Hoban|Kristan.Hoban@nus...| suspended|          UP|       Operation| 39.3|\n",
      "|    1|   site A|      Drucie|     Nedrud|Drucie.Nedrud@nus...| suspended|          UP|       Operation| 49.8|\n",
      "+-----+---------+------------+-----------+--------------------+----------+------------+----------------+-----+\n",
      "only showing top 20 rows\n",
      "\n"
     ]
    }
   ],
   "source": [
    "for x in range(5):\n",
    "    spark.sql(\"select * from complete_view where tempC > 38\").show()\n",
    "    time.sleep(10)"
   ]
  },
  {
   "cell_type": "code",
   "execution_count": 49,
   "id": "b0329251-bcf3-4420-a5cf-2a2d339dac01",
   "metadata": {},
   "outputs": [],
   "source": [
    "streamToSql = spark.sql(\"select profession,count(*) as access_count from complete_view group by profession order by 2 desc\")\n",
    "table_name = 'sparkstream'"
   ]
  },
  {
   "cell_type": "code",
   "execution_count": 54,
   "id": "0e07ef06-cf05-4fcd-a3d2-dcf1c06ab5ff",
   "metadata": {},
   "outputs": [
    {
     "name": "stdout",
     "output_type": "stream",
     "text": [
      "+----------------+------------+\n",
      "|      profession|access_count|\n",
      "+----------------+------------+\n",
      "|       Operation|         106|\n",
      "|Network Engineer|          97|\n",
      "|   Data Engineer|          83|\n",
      "|             BOD|          82|\n",
      "|           Sales|          73|\n",
      "+----------------+------------+\n",
      "\n"
     ]
    }
   ],
   "source": [
    "streamToSql.select('*').show()"
   ]
  },
  {
   "cell_type": "code",
   "execution_count": 61,
   "id": "14f4c197-72ad-4dae-a1a6-23bb06551c8d",
   "metadata": {},
   "outputs": [],
   "source": [
    "try:\n",
    "    streamToSql.write.mode(\"overwrite\") \\\n",
    "        .format(\"jdbc\") \\\n",
    "        .option(\"driver\", \"com.microsoft.sqlserver.jdbc.SQLServerDriver\") \\\n",
    "        .option(\"url\",url) \\\n",
    "        .option(\"dbtable\",table_name) \\\n",
    "        .option(\"user\",username) \\\n",
    "        .option(\"password\",password) \\\n",
    "        .save()\n",
    "    \n",
    "except ValueError as error :\n",
    "    print(\"Connector write failed\", error)"
   ]
  },
  {
   "cell_type": "code",
   "execution_count": 40,
   "id": "81ec9ace-6a48-425f-aba7-ef74480da0df",
   "metadata": {},
   "outputs": [],
   "source": [
    "spark.stop()"
   ]
  },
  {
   "cell_type": "markdown",
   "id": "8ce46ea3-0a2a-4d7f-af07-2de3ae01cd85",
   "metadata": {},
   "source": [
    "# Spark Batch and Stream Processing"
   ]
  },
  {
   "cell_type": "code",
   "execution_count": null,
   "id": "f88efae2-35aa-4f01-84b1-72d4c5a34032",
   "metadata": {},
   "outputs": [],
   "source": [
    "#Batch\n",
    "\n",
    "try:\n",
    "    sdf.write.mode(\"overwrite\") \\\n",
    "        .format(\"jdbc\") \\\n",
    "        .option(\"driver\", \"com.microsoft.sqlserver.jdbc.SQLServerDriver\") \\\n",
    "        .option(\"url\",url) \\\n",
    "        .option(\"dbtable\",table_name) \\\n",
    "        .option(\"user\",username) \\\n",
    "        .option(\"password\",password) \\\n",
    "        .save()\n",
    "    \n",
    "except ValueError as error :\n",
    "    print(\"Connector write failed\", error)"
   ]
  },
  {
   "cell_type": "code",
   "execution_count": 19,
   "id": "2db5ead0-7bf4-492f-ac6e-94ea98259949",
   "metadata": {},
   "outputs": [
    {
     "data": {
      "text/plain": [
       "DataFrame[event: int, officeLoc: string, empFirstName: string, empLastName: string, email: string, empStatus: string, deviceStatus: string, profession: string, tempC: double]"
      ]
     },
     "execution_count": 19,
     "metadata": {},
     "output_type": "execute_result"
    }
   ],
   "source": [
    "try:\n",
    "    streamquery.write.mode(\"overwrite\") \\\n",
    "        .format(\"jdbc\") \\\n",
    "        .option(\"driver\", \"com.microsoft.sqlserver.jdbc.SQLServerDriver\") \\\n",
    "        .option(\"url\",url) \\\n",
    "        .option(\"dbtable\",table_name) \\\n",
    "        .option(\"user\",username) \\\n",
    "        .option(\"password\",password) \\\n",
    "        .save()\n",
    "    \n",
    "except ValueError as error :\n",
    "    print(\"Connector write failed\", error)"
   ]
  },
  {
   "cell_type": "code",
   "execution_count": null,
   "id": "96346749-18bf-4369-83ba-8bb50cb0e0ea",
   "metadata": {},
   "outputs": [],
   "source": []
  },
  {
   "cell_type": "markdown",
   "id": "06719e3f-73f0-4573-8ae1-0fab161e563e",
   "metadata": {},
   "source": [
    "# Ad Hoc Development"
   ]
  },
  {
   "cell_type": "code",
   "execution_count": 67,
   "id": "30bfcd0f-d175-4f41-a59d-2c761cfec8cb",
   "metadata": {},
   "outputs": [
    {
     "name": "stdout",
     "output_type": "stream",
     "text": [
      "+-----------------+------+\n",
      "|         Employee| count|\n",
      "+-----------------+------+\n",
      "|      Rudy Norton|111879|\n",
      "|     Fannie Evans| 84485|\n",
      "|   Belinda Hudson| 59568|\n",
      "|    Bobbie Graves| 81610|\n",
      "|Wallace Armstrong|     2|\n",
      "|  Joanne Crawford|  4244|\n",
      "|      Marsha Tate| 10203|\n",
      "|       Vicky Bell|   881|\n",
      "|     Rafael Bryan|    40|\n",
      "|  Willard Freeman| 70056|\n",
      "|      Sam Herrera|  4010|\n",
      "|     Geneva Reese| 13750|\n",
      "|   Darrell Butler|  2675|\n",
      "| Francis Gonzalez| 25404|\n",
      "|  Megan Zimmerman| 58512|\n",
      "|      Eileen Cook|    50|\n",
      "|   Wesley Mcguire|   925|\n",
      "|      Lisa Torres|  6580|\n",
      "|     Grace Briggs|    52|\n",
      "|     Donnie Cohen| 25313|\n",
      "+-----------------+------+\n",
      "only showing top 20 rows\n",
      "\n"
     ]
    }
   ],
   "source": [
    "sdf.groupBy(\"Employee\").count().show()"
   ]
  },
  {
   "cell_type": "code",
   "execution_count": 72,
   "id": "2d08a05a-3027-4f52-8055-4fcf1a53c1bb",
   "metadata": {},
   "outputs": [
    {
     "name": "stdout",
     "output_type": "stream",
     "text": [
      "+--------------------------------------+\n",
      "|Form of payment                       |\n",
      "+--------------------------------------+\n",
      "|Pre-paid check / Pre- date check      |\n",
      "|Credit Card                           |\n",
      "|Check                                 |\n",
      "|Money                                 |\n",
      "|Others                                |\n",
      "|Debit Card                            |\n",
      "|Extended payment plan/ In installments|\n",
      "+--------------------------------------+\n",
      "\n"
     ]
    }
   ],
   "source": [
    "sdf.select([\"Form of payment\"]).distinct().show(truncate = False)"
   ]
  }
 ],
 "metadata": {
  "kernelspec": {
   "display_name": "Python 3",
   "language": "python",
   "name": "python3"
  },
  "language_info": {
   "codemirror_mode": {
    "name": "ipython",
    "version": 3
   },
   "file_extension": ".py",
   "mimetype": "text/x-python",
   "name": "python",
   "nbconvert_exporter": "python",
   "pygments_lexer": "ipython3",
   "version": "3.6.13"
  }
 },
 "nbformat": 4,
 "nbformat_minor": 5
}
