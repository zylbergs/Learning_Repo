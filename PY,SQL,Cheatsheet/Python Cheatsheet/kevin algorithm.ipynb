{
 "cells": [
  {
   "cell_type": "code",
   "execution_count": 16,
   "metadata": {},
   "outputs": [],
   "source": [
    "import numpy as np\n",
    "import datetime\n",
    "import pandas as pd\n",
    "from matplotlib import pyplot as plt\n",
    "import csv\n",
    "import json"
   ]
  },
  {
   "cell_type": "markdown",
   "metadata": {},
   "source": [
    "# algorithm"
   ]
  },
  {
   "cell_type": "raw",
   "metadata": {},
   "source": [
    "#this will combine 2 list into a dictionary\n",
    "drinks = [\"espresso\", \"chai\", \"decaf\", \"drip\"]\n",
    "caffeine = [64, 40, 0, 120]\n",
    "\n",
    "coffee_info= {key:value for key,value in zip(drinks,caffeine)}"
   ]
  },
  {
   "cell_type": "raw",
   "metadata": {},
   "source": [
    "user_ids = {\"teraCoder\": 100019, \"pythonGuy\": 182921, \"samTheJavaMaam\": 123112, \"lyleLoop\": 102931, \"keysmithKeith\": 129384}\n",
    "num_exercises = {\"functions\": 10, \"syntax\": 13, \"control flow\": 15, \"loops\": 22, \"lists\": 19, \"classes\": 18, \"dictionaries\": 18}\n",
    "\n",
    "users=[]\n",
    "for each in user_ids: #each in this iteration contain key from a dictionary\n",
    "    users.append(each)\n",
    "print(users)\n",
    "\n",
    "ids_list = []\n",
    "for each in user_ids.values(): #each in this iteration contain value because values attribute given\n",
    "    ids_list.append(each)\n",
    "print(ids_list)\n",
    "\n",
    "new_user_id = list(zip(users,ids_list))\n",
    "print(new_user_id)\n",
    "\n",
    "new_user_dict= {key:value for key,value in zip(users,ids_list)} #this is some kind of comprehension to create a dict from 2 list\n",
    "print(new_user_dict)"
   ]
  },
  {
   "cell_type": "raw",
   "metadata": {},
   "source": [
    "pct_women_in_occupation = {\"CEO\": 28, \"Engineering Manager\": 9, \"Pharmacist\": 58, \"Physician\": 40, \"Lawyer\": 37, \"Aerospace Engineer\": 9}\n",
    "\n",
    "for key,value in pct_women_in_occupation.items(): #this syntax will iterate key and value through a dict\n",
    "    print(\"There is no \"+ str(value) + \" precent in \" +key+ \" positions\" )"
   ]
  },
  {
   "cell_type": "raw",
   "metadata": {},
   "source": [
    "#this is algo for tenth power of number given in the function\n",
    "def tenth_power(num):\n",
    "  num **= 10\n",
    "  return num\n",
    "print(tenth_power(2))"
   ]
  },
  {
   "cell_type": "raw",
   "metadata": {},
   "source": [
    "#this will show result of square root given number\n",
    "def square_root(num):\n",
    "  result = num ** 0.5\n",
    "  return result\n",
    "print(square_root(100))"
   ]
  },
  {
   "cell_type": "raw",
   "metadata": {},
   "source": [
    "#this is algorithm for win percentage\n",
    "def win_percentage(wins,losses):\n",
    "  if type(wins and losses) == int :\n",
    "    total= wins+losses\n",
    "    agg = wins / total * 100\n",
    "    return agg\n",
    "  else:\n",
    "    return \"please input a number\"\n",
    "print(win_percentage(10, 0))"
   ]
  },
  {
   "cell_type": "raw",
   "metadata": {},
   "source": [
    "#this is algorithm for mean of two number given\n",
    "def average(num1,num2):\n",
    "  if type(num1 and num2) == int:\n",
    "    total = num1 +num2\n",
    "    agg = total/2\n",
    "    return agg\n",
    "print(average(1, 100))"
   ]
  },
  {
   "cell_type": "raw",
   "metadata": {},
   "source": [
    "#this is algo for twice of num1 then modulo by half of num2\n",
    "def remainder(num1,num2):\n",
    "  result = (num1*2)%(num2/2)\n",
    "  return result\n",
    "print(remainder(15, 14))\n",
    "# should print 2"
   ]
  },
  {
   "cell_type": "raw",
   "metadata": {},
   "source": [
    "#print first three multiplication of given number on a different lines, and return only 3rd multiplication\n",
    "def first_three_multiples(num):\n",
    "  print(num)\n",
    "  print(num*2)\n",
    "  print(num*3)\n",
    "  return num*3\n",
    "first_three_multiples(10)\n",
    "# should print 10, 20, 30, and return 30"
   ]
  },
  {
   "cell_type": "raw",
   "metadata": {},
   "source": [
    "#algorithm for calculating amount of tip\n",
    "def tip(total,percentage):\n",
    "  if type(total and percentage) ==int:\n",
    "    result = total * (float(percentage/100))\n",
    "    return result \n",
    "print(tip(10, 25))\n",
    "# should print 2.5"
   ]
  },
  {
   "cell_type": "raw",
   "metadata": {},
   "source": [
    "def sum_even_keys(my_dictionary):\n",
    "    total_sum = 0\n",
    "    for key,value in my_dictionary.items():\n",
    "        if key%2==0:\n",
    "            total_sum+=value\n",
    "        else:\n",
    "            total_sum+=0\n",
    "    return total_sum\n",
    "        \n",
    "print(sum_even_keys({10:1,100:2,1000:3}))\n",
    "#this is algorithm for sum the value if the key of the dict is a even number\n",
    "    "
   ]
  },
  {
   "cell_type": "raw",
   "metadata": {},
   "source": [
    "def add_ten(my_dictionary):\n",
    "    for key,value in my_dictionary.items():\n",
    "        my_dictionary[key]=value+10\n",
    "    return my_dictionary\n",
    "print(add_ten({1:5, 2:2, 3:3}))\n",
    "#this is algorithm for adding ten to the value of dictionary keys"
   ]
  },
  {
   "cell_type": "raw",
   "metadata": {},
   "source": [
    "#this algo will show value that also a key in a dict\n",
    "def value_also_key(my_dictionary):\n",
    "    value_keys=[]\n",
    "    for value in my_dictionary.values():\n",
    "        if value in my_dictionary:\n",
    "            value_keys.append(value)\n",
    "    return value_keys\n",
    "\n",
    "print(value_also_key({1:100, 2:1, 3:4, 4:10}))"
   ]
  },
  {
   "cell_type": "raw",
   "metadata": {},
   "source": [
    "#this will show a len of a word in a dictionary format form\n",
    "def word_length_dictionary(word):\n",
    "    length=[]\n",
    "    for each in word:\n",
    "        length.append(len(each))\n",
    "    combine = {key:value for key,value in zip (word,length)}\n",
    "    return combine\n",
    "print(word_length_dictionary([\"banteng\",\"kerbau\"]))"
   ]
  },
  {
   "cell_type": "raw",
   "metadata": {},
   "source": [
    "# this algo will show to us how many a certain word in a list and return to us in a dictionary form\n",
    "def frequency_dictionary(words):\n",
    "  freqs = {}\n",
    "  for word in words:\n",
    "    if word not in freqs:\n",
    "    \tfreqs[word] = 0\n",
    "    freqs[word] += 1\n",
    "  return freqs\n",
    "\n",
    "print(frequency_dictionary([\"apple\", \"apple\", \"cat\", 1]))"
   ]
  },
  {
   "cell_type": "raw",
   "metadata": {},
   "source": [
    "#this algo return how many are the distinct value of a dictionary given\n",
    "def unique_values(my_dict):\n",
    "    univalue=[]\n",
    "    for value in my_dict.values():\n",
    "        if not value in univalue:\n",
    "            univalue.append(value)\n",
    "    return len(univalue)\n",
    "\n",
    "print(unique_values({0:3, 1:1, 4:1, 5:3}))"
   ]
  },
  {
   "cell_type": "raw",
   "metadata": {},
   "source": [
    "#this is algo to calculate and summarize point between 2 list\n",
    "point_a=[1,2,1]\n",
    "point_b=[2,1,1]\n",
    "def score(a,b):\n",
    "    result = []\n",
    "    ap=0\n",
    "    bp=0\n",
    "    for c,d in zip(point_a,point_b):\n",
    "        if c>d:\n",
    "            ap +=1\n",
    "        elif c==d:\n",
    "            pass\n",
    "        else:\n",
    "            bp+=1\n",
    "    result+=[ap,bp]\n",
    "    return result\n",
    "\n",
    "\n",
    "score(point_a,point_b)"
   ]
  },
  {
   "cell_type": "markdown",
   "metadata": {},
   "source": [
    "# Lambda algorithm"
   ]
  },
  {
   "cell_type": "raw",
   "metadata": {},
   "source": [
    "emails = [\"akwdnasfn@gmail.com\",\"fffnfw@ymail.com\"]\n",
    "provider = lambda x: x.split(\"@\") [-1] # -1 to return only last inder or email provider only\n",
    "\n",
    "for each in emails:\n",
    "    print(provider(each))"
   ]
  },
  {
   "cell_type": "code",
   "execution_count": 8,
   "metadata": {},
   "outputs": [
    {
     "name": "stdout",
     "output_type": "stream",
     "text": [
      "60\n"
     ]
    }
   ],
   "source": [
    "def f(n):\n",
    "    if n ==0:\n",
    "        return 0\n",
    "    else:\n",
    "        return f(n-1) +10\n",
    "\n",
    "print(f(6))"
   ]
  },
  {
   "cell_type": "code",
   "execution_count": null,
   "metadata": {},
   "outputs": [],
   "source": []
  },
  {
   "cell_type": "raw",
   "metadata": {},
   "source": [
    "Braille Translation\n",
    "===================\n",
    "\n",
    "Because Commander Lambda is an equal-opportunity despot, she has several visually-impaired minions. But she never bothered to follow intergalactic standards for workplace accommodations, so those minions have a hard time navigating her space station. You figure printing out Braille signs will help them, and - since you'll be promoting efficiency at the same time - increase your chances of a promotion. \n",
    "\n",
    "Braille is a writing system used to read by touch instead of by sight. Each character is composed of 6 dots in a 2x3 grid, where each dot can either be a bump or be flat (no bump). You plan to translate the signs around the space station to Braille so that the minions under Commander Lambda's command can feel the bumps on the signs and \"\"read\"\" the text with their touch. The special printer which can print the bumps onto the signs expects the dots in the following order:\n",
    "1 4\n",
    "2 5\n",
    "3 6\n",
    "\n",
    "So given the plain text word \"\"code\"\", you get the Braille dots:\n",
    "\n",
    "11 10 11 10\n",
    "00 01 01 01\n",
    "00 10 00 00\n",
    "\n",
    "where 1 represents a bump and 0 represents no bump.  Put together, \"\"code\"\" becomes the output string \"\"100100101010100110100010\"\".\n",
    "\n",
    "Write a function solution(plaintext) that takes a string parameter and returns a string of 1's and 0's representing the bumps and absence of bumps in the input string. Your function should be able to encode the 26 lowercase letters, handle capital letters by adding a Braille capitalization mark before that character, and use a blank character (000000) for spaces. All signs on the space station are less than fifty characters long and use only letters and spaces.\n",
    "\n",
    "Languages\n",
    "=========\n",
    "\n",
    "To provide a Python solution, edit solution.py\n",
    "To provide a Java solution, edit Solution.java\n",
    "\n",
    "Test cases\n",
    "==========\n",
    "Your code should pass the following test cases.\n",
    "Note that it may also be run against hidden test cases not shown here.\n",
    "\n",
    "-- Python cases --\n",
    "Input:\n",
    "solution.solution(\"code\")\n",
    "Output:\n",
    "    100100101010100110100010\n",
    "\n",
    "Input:\n",
    "solution.solution(\"Braille\")\n",
    "Output:\n",
    "    000001110000111010100000010100111000111000100010\n",
    "\n",
    "Input:\n",
    "solution.solution(\"The quick brown fox jumps over the lazy dog\")\n",
    "Output:\n",
    "    000001011110110010100010000000111110101001010100100100101000000000110000111010101010010111101110000000110100101010101101000000010110101001101100111100011100000000101010111001100010111010000000011110110010100010000000111000100000101011101111000000100110101010110110\n",
    "\n",
    "-- Java cases --\n",
    "Input:\n",
    "Solution.solution(\"code\")\n",
    "Output:\n",
    "    100100101010100110100010\n",
    "\n",
    "Input:\n",
    "Solution.solution(\"Braille\")\n",
    "Output:\n",
    "    000001110000111010100000010100111000111000100010\n",
    "\n",
    "Input:\n",
    "Solution.solution(\"The quick brown fox jumps over the lazy dog\")\n",
    "Output:\n",
    "    000001011110110010100010000000111110101001010100100100101000000000110000111010101010010111101110000000110100101010101101000000010110101001101100111100011100000000101010111001100010111010000000011110110010100010000000111000100000101011101111000000100110101010110110\n",
    "\n",
    "Use verify [file] to test your solution and see how it does. When you are finished editing your code, use submit [file] to submit your answer. If your solution passes the test cases, it will be removed from your home folder.\n",
    "foobar:~/braille-translation kevinelfri727$ ls\n",
    "Solution.java\n",
    "constraints.txt\n",
    "readme.txt\n",
    "solution.py\n",
    "foobar:~/braille-translation kevinelfri727$ edit solution.py\n",
    "foobar:~/braille-translation kevinelfri727$ verify solution.py\n",
    "Verifying solution...\n",
    "All test cases passed. Use submit solution.py to submit your solution\n",
    "foobar:~/braille-translation kevinelfri727$ submit solution.py\n",
    "Are you sure you want to submit your solution?\n",
    "[Y]es or [N]o: y\n",
    "Submitting solution...\n",
    "You survived a week in Commander Lambda's organization, and you even managed to get yourself promoted. Hooray! Henchmen still don't have the kind of security access you'll need to take down Commander Lambda, though, so you'd better keep working. Chop chop!\n",
    "Submission: SUCCESSFUL. Completed in: 14 hrs, 39 mins, 41 secs.\n",
    "\n",
    "\n",
    "                                                     @\\\n",
    "                                           @@      @\\~@\n",
    "                                          @%£@    % \\~~@\n",
    "                                          @\\\\\\\\\\%  %)))))))@\n",
    "                                          @~~\\\\~~@\\\\\\\\\\))@\n",
    "                                           @\\\\\\\\\\\\@  \\\\\\)@\n",
    "                                          @~\\~~~@  %\\\\@\n",
    "                      @$$%\\\\\\@@           @\\~~\\\\\\\\@ $$$@\\\n",
    "                   /@@\\\\$   \\\\\\%\\@        @@\\\\$\\\\\\%@\\%   @\n",
    "                 @@\\\\\\\\\\~~~~ ~   \\\\\\@@$   @ ~\\)))))\\\\\\\\    $@\n",
    "      $\\@\\@@$  @\\\\\\\\\\~~~~~~          %%\\\\  @\\\\\\))))@@@\\\\\\   $@\n",
    "     @       $@\\\\\\\\\\\\\\\\\\\\\\~~~~~             %\\\\))))@  @)\\\\    $@\n",
    "    @@     @\\\\\\\\\\\\\\\\\\~~~~~~~                \\\\))))@@@))\\     @\n",
    "     @     @\\\\\\\\\\\\\\\\\\~~~~~~~                 )))))))))      ~ @\n",
    "     @@\\  $@\\\\\\\\\\\\\\\\\\\\\\~~~~~~~                 ))))))        @\n",
    "        @@@ @\\\\\\\\\\\\\\\\\\\\\\~~~~~~~~~~                      $@@\n",
    "             $$$$$$\\\\\\\\\\\\~~~~~                ~~\\%%@@@\\\\\n",
    "              @\\\\\\~~~~~~~   %$%%%             ~$$@\n",
    "               @\\\\\\\\~~~~~~~   $  @@@@\\\\            $\n",
    "               @$))~~~~     @@     //\\@@@     ~~~~~$\n",
    "                @%%%)))~~~~\\@            @@$    ~~~$@\n",
    "                @%%%))))))))@                %@@~~~~~~@\n",
    "                @))))))))@                       @@~~~~~@\n",
    "                 @))))))@                         @$$$%\\\\\n",
    "                  @%%%@                          \\\\@@@\n",
    "                   @@@\n",
    "\n",
    "\n",
    "Level 1 complete\n",
    "You are now on level 2\n",
    "Challenges left to complete level: 2\n",
    "\n",
    "Level 1: 100% [==========================================]\n",
    "Level 2:   0% [..........................................]\n",
    "Level 3:   0% [..........................................]\n",
    "Level 4:   0% [..........................................]\n",
    "Level 5:   0% [..........................................]\n",
    "\n",
    "Type request to request a new challenge now, or come back later.\n",
    "foobar:~/ kevinelfri727$ request\n",
    "Requesting challenge...\n",
    "At least all this time spent running errands all over Commander Lambda's space station have given you a really good understanding of the station's layout. You'll need that when you're finally ready to destroy the LAMBCHOP and rescue the bunny prisoners.\n",
    "New challenge \"Power Hungry\" added to your home folder.\n",
    "Time to solve: 168 hours.\n",
    "foobar:~/ kevinelfri727$ ls\n",
    "power-hungry\n",
    "journal.txt\n",
    "start_here.txt\n",
    "foobar:~/ kevinelfri727$ cd power-hungry\n",
    "foobar:~/power-hungry kevinelfri727$ ls\n",
    "Solution.java\n",
    "constraints.txt\n",
    "readme.txt\n",
    "solution.py\n",
    "foobar:~/power-hungry kevinelfri727$ cat readme.txt\n",
    "Power Hungry\n",
    "============\n",
    "\n",
    "Commander Lambda's space station is HUGE. And huge space stations take a LOT of power. Huge space stations with doomsday devices take even more power. To help meet the station's power needs, Commander Lambda has installed solar panels on the station's outer surface. But the station sits in the middle of a quasar quantum flux field, which wreaks havoc on the solar panels. You and your team of henchmen have been assigned to repair the solar panels, but you'd rather not take down all of the panels at once if you can help it, since they do help power the space station and all!\n",
    "\n",
    "You need to figure out which sets of panels in any given array you can take offline to repair while still maintaining the maximum amount of power output per array, and to do THAT, you'll first need to figure out what the maximum output of each array actually is. Write a function solution(xs) that takes a list of integers representing the power output levels of each panel in an array, and returns the maximum product of some non-empty subset of those numbers. So for example, if an array contained panels with power output levels of [2, -3, 1, 0, -5], then the maximum product would be found by taking the subset: xs[0] = 2, xs[1] = -3, xs[4] = -5, giving the product 2*(-3)*(-5) = 30.  So solution([2,-3,1,0,-5]) will be \"30\".\n",
    "\n",
    "Each array of solar panels contains at least 1 and no more than 50 panels, and each panel will have a power output level whose absolute value is no greater than 1000 (some panels are malfunctioning so badly that they're draining energy, but you know a trick with the panels' wave stabilizer that lets you combine two negative-output panels to produce the positive output of the multiple of their power values). The final products may be very large, so give the solution as a string representation of the number.\n",
    "\n",
    "Languages\n",
    "=========\n",
    "\n",
    "To provide a Python solution, edit solution.py\n",
    "To provide a Java solution, edit Solution.java\n",
    "\n",
    "Test cases\n",
    "==========\n",
    "Your code should pass the following test cases.\n",
    "Note that it may also be run against hidden test cases not shown here.\n",
    "\n",
    "-- Python cases --\n",
    "Input:\n",
    "solution.solution([2, 0, 2, 2, 0])\n",
    "Output:\n",
    "    8\n",
    "\n",
    "Input:\n",
    "solution.solution([-2, -3, 4, -5])\n",
    "Output:\n",
    "    60\n"
   ]
  },
  {
   "cell_type": "code",
   "execution_count": null,
   "metadata": {},
   "outputs": [],
   "source": []
  },
  {
   "cell_type": "code",
   "execution_count": 58,
   "metadata": {},
   "outputs": [],
   "source": [
    "def solution(s):\n",
    "    #check data type of argument\n",
    "    if type(s) == str:\n",
    "        word = [s]\n",
    "        #creating hashmap for encoding to braille\n",
    "        braille_obj = {'a':'100000','b':'110000','c':'100100','d':'100110','e':'100010',\n",
    "                      'f':'110100','g':'110110','h':'110010','i':'010100','j':'010110',\n",
    "                       'k':'101000','l':'111000','m':'101100','n':'101110','o':'101010',\n",
    "                       'p':'111100','q':'111110','r':'111010','s':'011100','t':'011110',\n",
    "                       'u':'101001','v':'111001','w':'010111','x':'101101','y':'101111',\n",
    "                       'z':'101011',' ':'000000','!!':'000001'}\n",
    "        capital = ['A','B','C','D','E','F','G','H','I','J','K','L','M','N','O','P','Q','R','S','T','U','V','W','X','Y','Z']\n",
    "        result = ''\n",
    "        for each in word:\n",
    "            for element in each:\n",
    "                \n",
    "                if element in braille_obj.keys():\n",
    "                    result += braille_obj[element]\n",
    "                    \n",
    "                if element in capital:\n",
    "                    element_low = element.lower()\n",
    "                    result +=(braille_obj['!!']+braille_obj[element_low])\n",
    "                    \n",
    "        return result\n",
    "                \n",
    "    else:\n",
    "        print 'input string please'\n",
    "\n",
    "\n",
    "        "
   ]
  },
  {
   "cell_type": "code",
   "execution_count": 2,
   "metadata": {},
   "outputs": [
    {
     "name": "stdin",
     "output_type": "stream",
     "text": [
      "Enter the text :  \n"
     ]
    }
   ],
   "source": [
    "brailleDict = {\n",
    "    \"a\" : \"100000\",\n",
    "    \"b\" : \"110000\",\n",
    "    \"c\" : \"100100\",\n",
    "    \"d\" : \"100110\",\n",
    "    \"e\" : \"100010\",\n",
    "    \"f\" : \"110100\",\n",
    "    \"g\" : \"110110\",\n",
    "    \"h\" : \"110010\",\n",
    "    \"i\" : \"010100\",\n",
    "    \"j\" : \"010110\",\n",
    "    \"k\" : \"101000\",\n",
    "    \"l\" : \"111000\",\n",
    "    \"m\" : \"101100\",\n",
    "    \"n\" : \"101110\",\n",
    "    \"o\" : \"101010\",\n",
    "    \"p\" : \"111100\",\n",
    "    \"q\" : \"111110\",\n",
    "    \"r\" : \"111010\",\n",
    "    \"s\" : \"011100\",\n",
    "    \"t\" : \"011110\",\n",
    "    \"u\" : \"101001\",\n",
    "    \"v\" : \"111001\",\n",
    "    \"w\" : \"010111\",\n",
    "    \"x\" : \"101101\",\n",
    "    \"y\" : \"101111\",\n",
    "    \"z\" : \"101011\"\n",
    "}\n",
    "\n",
    "def converter(_text):\n",
    "    braille = \"\"\n",
    "    for i in _text:\n",
    "        if(i == \" \"):\n",
    "            braille += \"000000\"\n",
    "        elif (i.isalpha()):\n",
    "            if(i.isupper()):\n",
    "                braille += \"000001\"\n",
    "                i = i.lower()\n",
    "            braille += brailleDict[i]\n",
    "        else:\n",
    "            braille = \"\"\n",
    "            print(\"text not found !\")\n",
    "            pass\n",
    "\n",
    "    return braille\n",
    "\n",
    "text = input(\"Enter the text : \")"
   ]
  },
  {
   "cell_type": "code",
   "execution_count": 6,
   "metadata": {},
   "outputs": [
    {
     "name": "stdout",
     "output_type": "stream",
     "text": [
      "000001110000111010100000010100111000111000100010\n"
     ]
    }
   ],
   "source": [
    "print(converter('Braille'))"
   ]
  },
  {
   "cell_type": "code",
   "execution_count": 62,
   "metadata": {},
   "outputs": [
    {
     "name": "stdout",
     "output_type": "stream",
     "text": [
      "000001110000111010100000010100111000111000100010 this is mycode\n",
      "000001110000111010100000010100111000111000100010 this is test case\n"
     ]
    }
   ],
   "source": [
    "print(solution('Braille'),'this is mycode')\n",
    "print('000001110000111010100000010100111000111000100010','this is test case')"
   ]
  },
  {
   "cell_type": "code",
   "execution_count": 7,
   "metadata": {},
   "outputs": [
    {
     "name": "stdout",
     "output_type": "stream",
     "text": [
      "8\n",
      "60\n",
      "input correct integer\n"
     ]
    }
   ],
   "source": [
    "def solution(xs):\n",
    "    # Your code here\n",
    "    for ele in xs:\n",
    "        try:\n",
    "            ele = int(ele)\n",
    "            xs = [abs(ele) for ele in xs]\n",
    "            xs.sort()\n",
    "            result = xs[-3]*xs[-2]*xs[-1]\n",
    "            return str(result) \n",
    "        except TypeError:\n",
    "            return 'input correct integer'\n",
    "            \n",
    "            \n",
    " \n",
    "        \n",
    "print(solution([2, 0, 2, 2, 0]))\n",
    "print(solution([-2, -3, 4, -5]))\n",
    "print(solution([2,1,0,0,'banteng',6]))"
   ]
  },
  {
   "cell_type": "code",
   "execution_count": 8,
   "metadata": {},
   "outputs": [],
   "source": [
    "def solution(_arr):\n",
    "    result = 1\n",
    "    _absArr = []\n",
    "\n",
    "    for i in _arr:\n",
    "        if(type(i) == str):\n",
    "            return \"array contain string\"\n",
    "        else:\n",
    "            _absArr.append(abs(int(i)))\n",
    "\n",
    "    _sortedArr = sorted(_absArr, reverse=True)\n",
    "    for i in range(3):\n",
    "        result *= _sortedArr[i]\n",
    "\n",
    "    return result"
   ]
  },
  {
   "cell_type": "code",
   "execution_count": 9,
   "metadata": {},
   "outputs": [
    {
     "name": "stdout",
     "output_type": "stream",
     "text": [
      "8\n",
      "60\n"
     ]
    }
   ],
   "source": [
    "print(solution([2, 0, 2, 2, 0]))\n",
    "print(solution([-2, -3, 4, -5]))"
   ]
  },
  {
   "cell_type": "code",
   "execution_count": 106,
   "metadata": {},
   "outputs": [
    {
     "data": {
      "text/plain": [
       "5"
      ]
     },
     "execution_count": 106,
     "metadata": {},
     "output_type": "execute_result"
    }
   ],
   "source": [
    "sele =[2,3,5]\n",
    "max(sele)"
   ]
  },
  {
   "cell_type": "code",
   "execution_count": 97,
   "metadata": {},
   "outputs": [
    {
     "name": "stdout",
     "output_type": "stream",
     "text": [
      "60\n"
     ]
    }
   ],
   "source": [
    "print(solution([-2, -3, 4, -5]))"
   ]
  }
 ],
 "metadata": {
  "kernelspec": {
   "display_name": "Python 3",
   "language": "python",
   "name": "python3"
  },
  "language_info": {
   "codemirror_mode": {
    "name": "ipython",
    "version": 3
   },
   "file_extension": ".py",
   "mimetype": "text/x-python",
   "name": "python",
   "nbconvert_exporter": "python",
   "pygments_lexer": "ipython3",
   "version": "3.8.5"
  }
 },
 "nbformat": 4,
 "nbformat_minor": 4
}
