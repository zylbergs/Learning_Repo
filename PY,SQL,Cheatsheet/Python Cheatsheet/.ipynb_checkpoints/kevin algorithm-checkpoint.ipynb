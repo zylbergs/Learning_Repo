{
 "cells": [
  {
   "cell_type": "code",
   "execution_count": 16,
   "metadata": {},
   "outputs": [],
   "source": [
    "import numpy as np\n",
    "import datetime\n",
    "import pandas as pd\n",
    "from matplotlib import pyplot as plt\n",
    "import csv\n",
    "import json"
   ]
  },
  {
   "cell_type": "markdown",
   "metadata": {},
   "source": [
    "# algorithm"
   ]
  },
  {
   "cell_type": "raw",
   "metadata": {},
   "source": [
    "#this will combine 2 list into a dictionary\n",
    "drinks = [\"espresso\", \"chai\", \"decaf\", \"drip\"]\n",
    "caffeine = [64, 40, 0, 120]\n",
    "\n",
    "coffee_info= {key:value for key,value in zip(drinks,caffeine)}"
   ]
  },
  {
   "cell_type": "raw",
   "metadata": {},
   "source": [
    "user_ids = {\"teraCoder\": 100019, \"pythonGuy\": 182921, \"samTheJavaMaam\": 123112, \"lyleLoop\": 102931, \"keysmithKeith\": 129384}\n",
    "num_exercises = {\"functions\": 10, \"syntax\": 13, \"control flow\": 15, \"loops\": 22, \"lists\": 19, \"classes\": 18, \"dictionaries\": 18}\n",
    "\n",
    "users=[]\n",
    "for each in user_ids: #each in this iteration contain key from a dictionary\n",
    "    users.append(each)\n",
    "print(users)\n",
    "\n",
    "ids_list = []\n",
    "for each in user_ids.values(): #each in this iteration contain value because values attribute given\n",
    "    ids_list.append(each)\n",
    "print(ids_list)\n",
    "\n",
    "new_user_id = list(zip(users,ids_list))\n",
    "print(new_user_id)\n",
    "\n",
    "new_user_dict= {key:value for key,value in zip(users,ids_list)} #this is some kind of comprehension to create a dict from 2 list\n",
    "print(new_user_dict)"
   ]
  },
  {
   "cell_type": "raw",
   "metadata": {},
   "source": [
    "pct_women_in_occupation = {\"CEO\": 28, \"Engineering Manager\": 9, \"Pharmacist\": 58, \"Physician\": 40, \"Lawyer\": 37, \"Aerospace Engineer\": 9}\n",
    "\n",
    "for key,value in pct_women_in_occupation.items(): #this syntax will iterate key and value through a dict\n",
    "    print(\"There is no \"+ str(value) + \" precent in \" +key+ \" positions\" )"
   ]
  },
  {
   "cell_type": "raw",
   "metadata": {},
   "source": [
    "#this is algo for tenth power of number given in the function\n",
    "def tenth_power(num):\n",
    "  num **= 10\n",
    "  return num\n",
    "print(tenth_power(2))"
   ]
  },
  {
   "cell_type": "raw",
   "metadata": {},
   "source": [
    "#this will show result of square root given number\n",
    "def square_root(num):\n",
    "  result = num ** 0.5\n",
    "  return result\n",
    "print(square_root(100))"
   ]
  },
  {
   "cell_type": "raw",
   "metadata": {},
   "source": [
    "#this is algorithm for win percentage\n",
    "def win_percentage(wins,losses):\n",
    "  if type(wins and losses) == int :\n",
    "    total= wins+losses\n",
    "    agg = wins / total * 100\n",
    "    return agg\n",
    "  else:\n",
    "    return \"please input a number\"\n",
    "print(win_percentage(10, 0))"
   ]
  },
  {
   "cell_type": "raw",
   "metadata": {},
   "source": [
    "#this is algorithm for mean of two number given\n",
    "def average(num1,num2):\n",
    "  if type(num1 and num2) == int:\n",
    "    total = num1 +num2\n",
    "    agg = total/2\n",
    "    return agg\n",
    "print(average(1, 100))"
   ]
  },
  {
   "cell_type": "raw",
   "metadata": {},
   "source": [
    "#this is algo for twice of num1 then modulo by half of num2\n",
    "def remainder(num1,num2):\n",
    "  result = (num1*2)%(num2/2)\n",
    "  return result\n",
    "print(remainder(15, 14))\n",
    "# should print 2"
   ]
  },
  {
   "cell_type": "raw",
   "metadata": {},
   "source": [
    "#print first three multiplication of given number on a different lines, and return only 3rd multiplication\n",
    "def first_three_multiples(num):\n",
    "  print(num)\n",
    "  print(num*2)\n",
    "  print(num*3)\n",
    "  return num*3\n",
    "first_three_multiples(10)\n",
    "# should print 10, 20, 30, and return 30"
   ]
  },
  {
   "cell_type": "raw",
   "metadata": {},
   "source": [
    "#algorithm for calculating amount of tip\n",
    "def tip(total,percentage):\n",
    "  if type(total and percentage) ==int:\n",
    "    result = total * (float(percentage/100))\n",
    "    return result \n",
    "print(tip(10, 25))\n",
    "# should print 2.5"
   ]
  },
  {
   "cell_type": "raw",
   "metadata": {},
   "source": [
    "def sum_even_keys(my_dictionary):\n",
    "    total_sum = 0\n",
    "    for key,value in my_dictionary.items():\n",
    "        if key%2==0:\n",
    "            total_sum+=value\n",
    "        else:\n",
    "            total_sum+=0\n",
    "    return total_sum\n",
    "        \n",
    "print(sum_even_keys({10:1,100:2,1000:3}))\n",
    "#this is algorithm for sum the value if the key of the dict is a even number\n",
    "    "
   ]
  },
  {
   "cell_type": "raw",
   "metadata": {},
   "source": [
    "def add_ten(my_dictionary):\n",
    "    for key,value in my_dictionary.items():\n",
    "        my_dictionary[key]=value+10\n",
    "    return my_dictionary\n",
    "print(add_ten({1:5, 2:2, 3:3}))\n",
    "#this is algorithm for adding ten to the value of dictionary keys"
   ]
  },
  {
   "cell_type": "raw",
   "metadata": {},
   "source": [
    "#this algo will show value that also a key in a dict\n",
    "def value_also_key(my_dictionary):\n",
    "    value_keys=[]\n",
    "    for value in my_dictionary.values():\n",
    "        if value in my_dictionary:\n",
    "            value_keys.append(value)\n",
    "    return value_keys\n",
    "\n",
    "print(value_also_key({1:100, 2:1, 3:4, 4:10}))"
   ]
  },
  {
   "cell_type": "raw",
   "metadata": {},
   "source": [
    "#this will show a len of a word in a dictionary format form\n",
    "def word_length_dictionary(word):\n",
    "    length=[]\n",
    "    for each in word:\n",
    "        length.append(len(each))\n",
    "    combine = {key:value for key,value in zip (word,length)}\n",
    "    return combine\n",
    "print(word_length_dictionary([\"banteng\",\"kerbau\"]))"
   ]
  },
  {
   "cell_type": "raw",
   "metadata": {},
   "source": [
    "# this algo will show to us how many a certain word in a list and return to us in a dictionary form\n",
    "def frequency_dictionary(words):\n",
    "  freqs = {}\n",
    "  for word in words:\n",
    "    if word not in freqs:\n",
    "    \tfreqs[word] = 0\n",
    "    freqs[word] += 1\n",
    "  return freqs\n",
    "\n",
    "print(frequency_dictionary([\"apple\", \"apple\", \"cat\", 1]))"
   ]
  },
  {
   "cell_type": "raw",
   "metadata": {},
   "source": [
    "#this algo return how many are the distinct value of a dictionary given\n",
    "def unique_values(my_dict):\n",
    "    univalue=[]\n",
    "    for value in my_dict.values():\n",
    "        if not value in univalue:\n",
    "            univalue.append(value)\n",
    "    return len(univalue)\n",
    "\n",
    "print(unique_values({0:3, 1:1, 4:1, 5:3}))"
   ]
  },
  {
   "cell_type": "raw",
   "metadata": {},
   "source": [
    "#this is algo to calculate and summarize point between 2 list\n",
    "point_a=[1,2,1]\n",
    "point_b=[2,1,1]\n",
    "def score(a,b):\n",
    "    result = []\n",
    "    ap=0\n",
    "    bp=0\n",
    "    for c,d in zip(point_a,point_b):\n",
    "        if c>d:\n",
    "            ap +=1\n",
    "        elif c==d:\n",
    "            pass\n",
    "        else:\n",
    "            bp+=1\n",
    "    result+=[ap,bp]\n",
    "    return result\n",
    "\n",
    "\n",
    "score(point_a,point_b)"
   ]
  },
  {
   "cell_type": "markdown",
   "metadata": {},
   "source": [
    "# Lambda algorithm"
   ]
  },
  {
   "cell_type": "raw",
   "metadata": {},
   "source": [
    "emails = [\"akwdnasfn@gmail.com\",\"fffnfw@ymail.com\"]\n",
    "provider = lambda x: x.split(\"@\") [-1] # -1 to return only last inder or email provider only\n",
    "\n",
    "for each in emails:\n",
    "    print(provider(each))"
   ]
  },
  {
   "cell_type": "code",
   "execution_count": 8,
   "metadata": {},
   "outputs": [
    {
     "name": "stdout",
     "output_type": "stream",
     "text": [
      "60\n"
     ]
    }
   ],
   "source": [
    "def f(n):\n",
    "    if n ==0:\n",
    "        return 0\n",
    "    else:\n",
    "        return f(n-1) +10\n",
    "\n",
    "print(f(6))"
   ]
  }
 ],
 "metadata": {
  "kernelspec": {
   "display_name": "Python 3",
   "language": "python",
   "name": "python3"
  },
  "language_info": {
   "codemirror_mode": {
    "name": "ipython",
    "version": 3
   },
   "file_extension": ".py",
   "mimetype": "text/x-python",
   "name": "python",
   "nbconvert_exporter": "python",
   "pygments_lexer": "ipython3",
   "version": "3.8.3"
  }
 },
 "nbformat": 4,
 "nbformat_minor": 4
}
