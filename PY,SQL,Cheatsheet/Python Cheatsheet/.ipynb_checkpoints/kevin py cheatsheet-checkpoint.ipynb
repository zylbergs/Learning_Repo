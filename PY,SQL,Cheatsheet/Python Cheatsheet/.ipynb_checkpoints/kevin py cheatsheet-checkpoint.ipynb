{
 "cells": [
  {
   "cell_type": "markdown",
   "metadata": {},
   "source": [
    "# Data Structure"
   ]
  },
  {
   "cell_type": "markdown",
   "metadata": {},
   "source": [
    "A data structure is a particular way of organizing data in a computer so that it can be used effectively."
   ]
  },
  {
   "cell_type": "markdown",
   "metadata": {},
   "source": [
    "## Big O Notation"
   ]
  },
  {
   "cell_type": "markdown",
   "metadata": {},
   "source": [
    "#### what is big o notation ?\n",
    "a simplified analysis of an algorithm. a term to measure time and space requerement for program as imput size grow.\n",
    "why care to much for big o?\n",
    "- time and space efficiency\n",
    "- machince stats independent\n",
    "- time complexity in terms of inout size (N)\n",
    "\n",
    "#### type of measurement\n",
    ">when we talk about big o notation, we typically look at worst case measurement. \n",
    ">time measurement can be represented by big O notation.with given formula time = a*n +b\n",
    "\n",
    "    lets say we have a function below\n",
    "somefuction(arr)\n",
    "\n",
    "> with len(arr) =100\n",
    "    \n",
    "    running time will be 0.22 ms\n",
    "\n",
    "\n",
    "> with len(arr)= 1000000\n",
    "    \n",
    "    running time will be 5.61 ms\n",
    "\n",
    "#### general rules of big o\n",
    "- drop constant/eliminate constant\n",
    "    - 5n > O(n).\n",
    "      > when the n growing, five is still constant. then we can declare the big o here is O(n)\n",
    "- certain terms dominate other.\n",
    "    - O(1) < O(log n) < O(n) < O(n log n) < O(n^2) < O(2^n) < O(n!)\n",
    "        > from left to right is the sequence of big O notation strength.\n",
    "        \n",
    "        > whenever weaker notation and stronger notation meet in same algorithm, we only consider the strong one.\n",
    "- example :\n",
    "    - x = 5 + (15*20)\n",
    "        > in that code above there is no growing size of (n). which mean big o notation is O(1)\n",
    "    \n",
    "    - x = 5 + (15*20) # this operation has O(1) + O(1)\n",
    "    - y = 15-2 # this operation has O(1)\n",
    "    - print(x+y)\n",
    "\n",
    "        big o analysis for this code at a glance might be O(1) + O(1) + O(1) or 3 * O(1).  \n",
    "        remember, we drop any constant hence the notation still O(1)\n",
    "\n",
    "    - y = 5 + (15*20) # has O(1)\n",
    "        for i in range(n): # has O(n)\n",
    "        print(i) has O(1)\n",
    "    \n",
    "        when the n get bigger, time to run y is not considered. hence we have O(n) for the entire code. because the smaller term is being dropped and dominated by higher term\n",
    "        \n",
    "    "
   ]
  },
  {
   "cell_type": "markdown",
   "metadata": {},
   "source": [
    "### Array"
   ]
  },
  {
   "cell_type": "markdown",
   "metadata": {},
   "source": [
    "a computer store variables in the ram. for example:  \n",
    "stock_price = [203,259,290,320,300,340]\n",
    "\n",
    "if we want to ask what was the stock price in day 3?  \n",
    "simply we can use stock_price[2] then the result comes up.\n",
    "this operation use O(1) notation. in other words looking up by index use O(1) notation.\n",
    "\n",
    "in a different case, what day where the stock price is 320?  \n",
    "in this case, we are iterating through the pair of memory address and its value.  \n",
    "notation for this operation use O(n)\n",
    "\n",
    "in delete/insert case, python use stock_price.insert(1,220)  \n",
    "by inserting a value at the index of 1, the other index after 1 is shifting through the memory address.  \n",
    "as the result, it will perform iteration. it is same with delete, whenever deleting a value at particular index,  \n",
    "the other value will shift through memory address to fill the empty gap.  \n",
    "as the conclusion, the notation is O(n).\n",
    "\n",
    "#### generaly speaking, there is 2 type of array\n",
    "1. Static\n",
    "2. Dynamic\n",
    "\n",
    "what is the different between thoose two?\n",
    "1. Static array\n",
    "    consume fixed memory allocation. if an array declared only contain 6 element, we cannot add/increase the amount of the element otherwise the program will crash.  \n",
    "2. Dynamic array\n",
    "    an array with no fixed amount of element. it allow user to increase or add another element to the array. but, once dynamic array declared, it will allocate initial memory size by 10.  \n",
    "    when the element fill the inital memory, then it automatically allocate 2 times more, if the second allocation is filled up it will allocate another 2 times size of memory.  \n",
    "    memory allocation potrayed : 10(#1st), 20(#2nd, total memort =30), 60(#3rd, total memory =90)\n",
    "\n",
    "in pyhton, there is no static array. a normal list in python is a dynamic array.  \n",
    "python allow us to store multidimentional array, and multitype elements."
   ]
  },
  {
   "cell_type": "markdown",
   "metadata": {},
   "source": [
    "### Linked List"
   ]
  },
  {
   "cell_type": "markdown",
   "metadata": {},
   "source": [
    "whenever we create a list in pyhton which is a dynamic list. python allocate initial memory by 5.  \n",
    "if we populate all of the initial memory (which is 5) and still need more space because we want to add another value/element.  \n",
    "in this condition, a NEW memory allocation with bigger space (size of 10) will be created and copying all of the previous element to this new memory allocation. this operation is not constant because iterate each element and copy to another memory area.\n",
    "\n",
    "the same case if we want to add/insert new value somewhere in the middle, other element will move and swap trying to create a gap or space for the new element. of course this operation is O(n).\n",
    "\n",
    "to outsmart this condition, we create a linked list.\n",
    "benefit of linked list : no need to preallocate initial memory and insertion is easier and faster.\n",
    "\n",
    "difference between array and linked list:  \n",
    "Operation | array | linkedlist  \n",
    "access element in some index | O(1) | O(n)  \n",
    "insert/del at start | O(n) | O(1)  \n",
    "insert/del at end | O(1)-reallocating new mem | O(n)  \n",
    "insert element in the middle | O(n) | O(n)\n",
    "\n",
    "#### implementation of linked list in python"
   ]
  },
  {
   "cell_type": "code",
   "execution_count": null,
   "metadata": {},
   "outputs": [],
   "source": []
  },
  {
   "cell_type": "markdown",
   "metadata": {},
   "source": [
    "### datatype"
   ]
  },
  {
   "cell_type": "code",
   "execution_count": null,
   "metadata": {},
   "outputs": [],
   "source": [
    "\"this is string\"   \n",
    "\"12567\""
   ]
  },
  {
   "cell_type": "markdown",
   "metadata": {},
   "source": [
    "both in this section is a string even a couple of a number. the reason is the value is inside quotation. if doing a math operation on a string, the result will only concatenate them, not giving the correct result of a math operation. string is immutable data, but can create another data from string via parsing methods"
   ]
  },
  {
   "cell_type": "code",
   "execution_count": null,
   "metadata": {},
   "outputs": [],
   "source": [
    "25672477\n",
    "float(21.2)"
   ]
  },
  {
   "cell_type": "markdown",
   "metadata": {},
   "source": [
    "this is integer and a float. they will perform math operation correctly and to perform better accuracy with decimal float must be given."
   ]
  },
  {
   "cell_type": "code",
   "execution_count": null,
   "metadata": {},
   "outputs": [],
   "source": [
    "[1,2,6,'hello',True]"
   ]
  },
  {
   "cell_type": "markdown",
   "metadata": {},
   "source": [
    "this is list, inside of it contain value separated by comma and the value itself called index. list is a mutable datatype"
   ]
  },
  {
   "cell_type": "code",
   "execution_count": null,
   "metadata": {},
   "outputs": [],
   "source": [
    "{\"indonesia\":\"jakarta\",\"provinsi\" :34, \"islam\": True}"
   ]
  },
  {
   "cell_type": "markdown",
   "metadata": {},
   "source": [
    "this is a dictionary datatype. to create a dictionary in python, use curly braces. inside of dictionary there is a pair of data called KEY and VALUE, each pair is an index separated by comma."
   ]
  },
  {
   "cell_type": "code",
   "execution_count": null,
   "metadata": {},
   "outputs": [],
   "source": [
    "True, False"
   ]
  },
  {
   "cell_type": "markdown",
   "metadata": {},
   "source": [
    "this is boolean data type, true represent 1 and false represent 0.\n",
    "boolean is highly relative to a condition or logical operations."
   ]
  },
  {
   "cell_type": "code",
   "execution_count": null,
   "metadata": {},
   "outputs": [],
   "source": [
    "(1,\"pulau\",25,False)"
   ]
  },
  {
   "cell_type": "markdown",
   "metadata": {},
   "source": [
    "this called tuple, the major different from is mutable and immutable. a tuple is immutable data"
   ]
  },
  {
   "cell_type": "markdown",
   "metadata": {},
   "source": [
    "### variables"
   ]
  },
  {
   "cell_type": "raw",
   "metadata": {},
   "source": [
    "fruits = \"papaya\" \n",
    ">>> this variable contain a string and print out a string\n",
    "\n",
    "count = 25 \n",
    ">>> this variable contain a integer and print out an integer\n",
    "\n",
    "shopping_list = fruits + str(count) \n",
    ">>> this called concatenate, if there is another different type of data, then will perform an error.\n",
    "so match the data with str() or int()\n",
    "\n",
    "count = count + 2 #or count+=2\n",
    ">>>this method will update the variable value. and print out an update of previous count value added by 2\n",
    "\n",
    "discount = dicount_function() \n",
    ">>> a variable can contain a function or can be used to create object instance\n",
    "\n",
    "grocery_list = [\"apple\",\"toothbrush\",\"shampoo\",\"soap\"]\n",
    ">>> a variable can contain a list. can be iterate to access list index or value\n",
    "\n",
    "fruit,vegs = \"oranges\",\"spinach\"\n",
    ">>> fruit contain oranges, vegs contain spinach\n",
    "\n",
    "1_fruit = \"apple\"\n",
    "1fruit = \"papaya\"\n",
    ">>> this will show error because variable rules cant be number in first letter"
   ]
  },
  {
   "cell_type": "raw",
   "metadata": {},
   "source": [
    "everything in python is an object. variable is an object.\n",
    "in order to avoid python getting confuse about variable overriding each other there is several ways.\n",
    "1. module prefix variable\n",
    "> math.x = 12\n",
    "2. scope rules"
   ]
  },
  {
   "cell_type": "markdown",
   "metadata": {},
   "source": [
    "### SCOPE RULES"
   ]
  },
  {
   "cell_type": "raw",
   "metadata": {},
   "source": [
    "general rules of scope:\n",
    "LEGB (Local, Enclosing, Global, Built-in)\n",
    "basically, that is the way python read a variable in order.\n",
    "\n",
    "print(vege)\n",
    "vege = \"spinach\"\n",
    "\n",
    ">this will show name error, because python doesnt know what is variable 'vege', python reads the syntax from above.\n",
    "which mean if there is no variable vege above the print function, then the function cant recognize it.\n",
    "\n",
    "\n",
    "examp = \"papa zulu one\"  \n",
    "def rules():  \n",
    "   examp = \"this is scope lesson\"  \n",
    "   print(examp)  \n",
    "\n",
    "rules() >>>this is scope lesson  \n",
    "print(examp) >>>papa zulu one\n",
    "\n",
    ">even the same variable name, python would not update that. because scope rule. first examp variable is global variable,\n",
    "and the second one is the local variable.\n",
    "\n",
    "we can bound same object with (global, nonlocal) keyword"
   ]
  },
  {
   "cell_type": "markdown",
   "metadata": {},
   "source": [
    "#### Global variable"
   ]
  },
  {
   "cell_type": "markdown",
   "metadata": {},
   "source": [
    "glo_var = 'this is perfect global'"
   ]
  },
  {
   "cell_type": "markdown",
   "metadata": {},
   "source": [
    "#### Local Variable"
   ]
  },
  {
   "cell_type": "raw",
   "metadata": {},
   "source": [
    "def somefunc():\n",
    "    loc_var = 'this is local'\n",
    "    print(loc_var)\n",
    "\n",
    "somefunct() > will print loc_var\n",
    "print(loc_var) > will cause an error"
   ]
  },
  {
   "cell_type": "markdown",
   "metadata": {},
   "source": [
    "#### Enclosing"
   ]
  },
  {
   "cell_type": "raw",
   "metadata": {},
   "source": [
    "def outer():\n",
    "    o_var = 'this is outer'\n",
    "    def inner():\n",
    "        o_var = 'this is inner'\n",
    "    \n",
    "    inner()\n",
    "    print(o_var)"
   ]
  },
  {
   "cell_type": "markdown",
   "metadata": {},
   "source": [
    "### looping "
   ]
  },
  {
   "cell_type": "markdown",
   "metadata": {},
   "source": [
    "1. iterate through list  "
   ]
  },
  {
   "cell_type": "code",
   "execution_count": 2,
   "metadata": {},
   "outputs": [
    {
     "name": "stdout",
     "output_type": "stream",
     "text": [
      "spinac\n",
      "tomato\n",
      "cabbage\n"
     ]
    }
   ],
   "source": [
    "vegetable = ['spinac','tomato','cabbage']\n",
    "for each in vegetable:\n",
    "    print(each)"
   ]
  },
  {
   "cell_type": "code",
   "execution_count": 5,
   "metadata": {},
   "outputs": [
    {
     "name": "stdout",
     "output_type": "stream",
     "text": [
      "['spinach', 'cabbage']\n",
      "spinach\n",
      "cabbage\n",
      "['banana', 'apple']\n",
      "banana\n",
      "apple\n"
     ]
    }
   ],
   "source": [
    "vegan = [['spinach','cabbage'],['banana','apple']]\n",
    "for each in vegan:\n",
    "    print(each)\n",
    "    for item in each:\n",
    "        print(item)"
   ]
  },
  {
   "cell_type": "markdown",
   "metadata": {},
   "source": [
    "#### list comprehension"
   ]
  },
  {
   "cell_type": "code",
   "execution_count": 6,
   "metadata": {},
   "outputs": [
    {
     "name": "stdout",
     "output_type": "stream",
     "text": [
      "[3, 5, 7, 9, 11, 13, 15]\n"
     ]
    }
   ],
   "source": [
    "even_num = [2,4,6,8,10,12,14]\n",
    "not_even = [each+1 for each in even_num]\n",
    "print(not_even)"
   ]
  },
  {
   "cell_type": "markdown",
   "metadata": {},
   "source": [
    "### Dictionary and loop through it"
   ]
  },
  {
   "cell_type": "code",
   "execution_count": 12,
   "metadata": {
    "collapsed": true,
    "jupyter": {
     "outputs_hidden": true
    }
   },
   "outputs": [
    {
     "name": "stdout",
     "output_type": "stream",
     "text": [
      "jefri\n",
      "bani\n",
      "jabrik\n",
      "banu\n",
      "300\n",
      "250\n",
      "100\n",
      "410\n",
      "JEFRI 400\n",
      "BANI 350\n",
      "JABRIK 200\n",
      "BANU 510\n"
     ]
    }
   ],
   "source": [
    "kamus = {'jefri':300, 'bani':250,'jabrik':100, 'banu':410}\n",
    "for each in kamus: #by default it point to key\n",
    "    print(each)\n",
    "    \n",
    "for each in kamus.values(): #pointing to value\n",
    "    print(each) \n",
    "    \n",
    "for key,value in kamus.items(): #point to ke and value separated by comma in temporary object\n",
    "    key = key.upper()\n",
    "    value +=100\n",
    "    print(key,value)"
   ]
  },
  {
   "cell_type": "code",
   "execution_count": 18,
   "metadata": {
    "collapsed": true,
    "jupyter": {
     "outputs_hidden": true
    }
   },
   "outputs": [
    {
     "name": "stdout",
     "output_type": "stream",
     "text": [
      "andri\n",
      "danu\n",
      "maula\n",
      "{'sex': 'male', 'age': 22, 'job': 'pilot', 'wage': 10000}\n",
      "{'sex': 'male', 'age': 25, 'job': 'driver', 'wage': 5000}\n",
      "{'sex': 'female', 'age': 24, 'job': 'accounting', 'wage': 2000}\n",
      "pilot\n",
      "driver\n",
      "accounting\n"
     ]
    }
   ],
   "source": [
    "karyawan = {'andri':{'sex':'male','age':22,'job':'pilot','wage':10000},'danu':{'sex':'male','age':25,'job':'driver','wage':5000},\\\n",
    "           'maula':{'sex':'female','age':24,'job':'accounting','wage':2000}}\n",
    "\n",
    "for each in karyawan: #point to key\n",
    "    print(each)\n",
    "    \n",
    "for value in karyawan.values():\n",
    "    print(value)\n",
    "\n",
    "for each in karyawan.values():\n",
    "    print(each['job'])"
   ]
  },
  {
   "cell_type": "code",
   "execution_count": null,
   "metadata": {},
   "outputs": [],
   "source": []
  },
  {
   "cell_type": "markdown",
   "metadata": {},
   "source": [
    "### datetime handling"
   ]
  },
  {
   "cell_type": "raw",
   "metadata": {},
   "source": [
    "#datetime syntax and algo\n",
    "exampledate = datetime.strptime('Mar 22, 2019', '%b %d, %Y') #p in strptime: means parse which mean will parse date in the first argument\n",
    "exampledate.day\n",
    "my_string = datetime.strftime(datetime.now(), '%b %d,%Y')\n",
    "birthday = datetime(1999,2,25, 9,35,59) # the date format will be YYYY-MM-DD mm-ss-ms\n",
    "#f in strftime: means format which mean will create date format from first argument given\n",
    "#second argument in both strptime and strftime is pyhton built in format, or some kind of syntax to create certain date format, SEE DATETIME DOCUMENTATION"
   ]
  },
  {
   "cell_type": "markdown",
   "metadata": {},
   "source": [
    "### file handling"
   ]
  },
  {
   "cell_type": "raw",
   "metadata": {},
   "source": [
    "#this section will talk about handling file in python\n",
    "#readline return a single line, readlines return all of lines in a list form\n",
    "# append arguments will keep appending when the code still there and doing run\n",
    "\n",
    "with open('project sortasi data penjualan menjadi per kategori.txt') as project1:\n",
    "    for line in project1.readlines():\n",
    "        print(line)\n"
   ]
  },
  {
   "cell_type": "raw",
   "metadata": {},
   "source": [
    "#handling csv file\n",
    "access_log = [{'time': '08:39:37', 'limit': 844404, 'address': '1.227.124.181'}, {'time': '13:13:35', 'limit': 543871, 'address': '198.51.139.193'}, {'time': '19:40:45', 'limit': 3021, 'address': '172.1.254.208'}, {'time': '18:57:16', 'limit': 67031769, 'address': '172.58.247.219'}, {'time': '21:17:13', 'limit': 9083, 'address': '124.144.20.113'}, {'time': '23:34:17', 'limit': 65913, 'address': '203.236.149.220'}, {'time': '13:58:05', 'limit': 1541474, 'address': '192.52.206.76'}, {'time': '10:52:00', 'limit': 11465607, 'address': '104.47.149.93'}, {'time': '14:56:12', 'limit': 109, 'address': '192.31.185.7'}, {'time': '18:56:35', 'limit': 6207, 'address': '2.228.164.197'}]\n",
    "fields = ['time', 'address', 'limit']\n",
    "\n",
    "\n",
    "with open('logger.csv','w') as logger_csv: #argument given in a write mode\n",
    "    output_writer = csv.DictWriter(logger_csv,fieldnames = fields)\n",
    "    output_writer.writeheader()\n",
    "    \n",
    "    for row in access_log:\n",
    "        output_writer.writerow(row)"
   ]
  },
  {
   "cell_type": "raw",
   "metadata": {},
   "source": [
    "csv is file extension that can be used with, \n",
    "excel file, databse export."
   ]
  },
  {
   "cell_type": "raw",
   "metadata": {},
   "source": [
    "#handling json file\n",
    "data_payload = [\n",
    "  {'interesting message': 'What is JSON? A web application\\'s little pile of secrets.',\n",
    "   'follow up': 'But enough talk!'}\n",
    "]\n",
    "import json\n",
    "with open('codecademy.json','w') as lesson_json:\n",
    "    json.dump(data_payload, lesson_json)"
   ]
  },
  {
   "cell_type": "markdown",
   "metadata": {},
   "source": [
    "### OOP"
   ]
  },
  {
   "cell_type": "raw",
   "metadata": {},
   "source": [
    "# operator in OOP\n",
    "class UserGroup:\n",
    "    def __init__(self, users, permissions):\n",
    "        self.user_list = users\n",
    "        self.permissions = permissions\n",
    "    def __iter__(self):\n",
    "        return iter(self.user_list)\n",
    "    \n",
    "    def __len__(self):\n",
    "        return len(self.user_list)\n",
    "    \n",
    "    def __contains__(self, user):\n",
    "        return user in self.user_list\n",
    "    \n",
    "    #def __add__(self,other):\n",
    "    # do some addition"
   ]
  },
  {
   "cell_type": "raw",
   "metadata": {},
   "source": [
    "class Circle:\n",
    "    pi = 3.14\n",
    "    #init method is the requirement for an object that want to create\n",
    "    def __init__(self, diameter):\n",
    "        self.radius = diameter / 2\n",
    "    \n",
    "    def area(self):\n",
    "        return self.pi * self.radius ** 2\n",
    "\n",
    "    def circumference(self):\n",
    "        return self.pi * 2 * self.radius\n",
    "    #repr is acronym of representation which mean when there is no argument called, then repr show up by default\n",
    "    def __repr__(self):\n",
    "        return \"circle with radius {radius}\".format(radius = self.radius)\n",
    "    \n",
    "#instancing object in class\n",
    "medium_pizza = Circle(12)\n",
    "print(medium_pizza.area())\n",
    "print(medium_pizza)\n",
    "print(medium_pizza.radius)"
   ]
  },
  {
   "cell_type": "raw",
   "metadata": {},
   "source": [
    "class InsurancePolicy:\n",
    "  def __init__(self, price_of_item):\n",
    "    self.price_of_insured_item = price_of_item\n",
    "\n",
    "#this is inheritance of main class \n",
    "class VehicleInsurance(InsurancePolicy):\n",
    "  def get_rate(self):\n",
    "    rate =self.price_of_insured_item * .001\n",
    "    return rate\n",
    "class HomeInsurance(InsurancePolicy):\n",
    "  def get_rate(self):\n",
    "    rate =self.price_of_insured_item * .00005\n",
    "    return rate\n",
    "\n",
    "lamborghini = VehicleInsurance(400000)\n",
    "lamborghini.get_rate()\n",
    "\n"
   ]
  },
  {
   "cell_type": "raw",
   "metadata": {},
   "source": [
    "#last class lesson on codecademy\n",
    "class Student:\n",
    "    def __init__(self,name,year):\n",
    "        self.name = name\n",
    "        self.year = year\n",
    "        self.grades = []\n",
    "    def add_grade(self,grade):\n",
    "      if type(grade) is Grade:\n",
    "        self.grades.append(grade)\n",
    "        \n",
    "    def print_grades(self):\n",
    "        for grade in self.grades:\n",
    "            print (grade.score)\n",
    "        \n",
    "class Grade:\n",
    "  minimum_passing =65\n",
    "  def __init__(self,score):\n",
    "    self.score = score\n",
    "\n",
    "pieter = Student('Pieter Bruegel the Elder',8)\n",
    "pieter.add_grade(Grade(100))\n",
    "pieter.print_grades()"
   ]
  },
  {
   "cell_type": "markdown",
   "metadata": {},
   "source": [
    "# Lambda"
   ]
  },
  {
   "cell_type": "raw",
   "metadata": {},
   "source": [
    "lambda in python is an anonymous funtion that only has one expression.\n",
    "in general, this is lambda concept\n",
    "\n",
    "    lambda arguments : expression\n",
    "- a lambda can take more than one argument\n",
    "\n",
    "We can make our lambdas more complex by using a modified form of an if statement\n",
    "    lambda x: [OUTCOME IF TRUE] if [CONDITIONAL] else [OUTCOME IF FALSE]\n",
    "    lambda x: [operation] for x in list\n",
    "    lambda x: [outcome if true] if [contdition] else ([out if true] if [condition] else [out if false])\n",
    "\n",
    "Lambda functions work with all types of variables, not just integers!\n",
    "Here is an example that takes in a string, assigns it to the temporary variable x, \n",
    "and then converts it into lowercase."
   ]
  },
  {
   "cell_type": "raw",
   "metadata": {},
   "source": [
    " x = lambda a : a + 10\n",
    "print(x(5))\n",
    "    #>>> 15\n",
    "\n",
    "myfunction = lambda x: 40 + (x - 40) * 1.50 if x > 40 else x\n",
    "print(myfunction(80))\n",
    "\n",
    "m = lambda a, b : a * b\n",
    "print(m(5, 6))\n",
    "\n",
    "def myfunc(n):\n",
    "  return lambda a : a * n\n",
    "\n",
    "mydoubler = myfunc(2)\n",
    "print(mydoubler(11))\n",
    "\n",
    "stringlambda = lambda x: x.lower()\n",
    "print(stringlambda(\"Oh Hi Mark!\"))"
   ]
  },
  {
   "cell_type": "raw",
   "metadata": {},
   "source": [
    "#duplicate related\n",
    "seen = {}\n",
    "dupes = []\n",
    "\n",
    "for x in a:\n",
    "    if x not in seen:\n",
    "        seen[x] = 1\n",
    "    else:\n",
    "        if seen[x] == 1:\n",
    "            dupes.append(x)\n",
    "        seen[x] += 1"
   ]
  },
  {
   "cell_type": "markdown",
   "metadata": {},
   "source": [
    "## Checking code runtime duration"
   ]
  },
  {
   "cell_type": "code",
   "execution_count": 1,
   "metadata": {},
   "outputs": [],
   "source": [
    "import timeit"
   ]
  },
  {
   "cell_type": "code",
   "execution_count": 4,
   "metadata": {},
   "outputs": [],
   "source": [
    "setup = '''\n",
    "import numpy as np\n",
    "import pandas as pd\n",
    "df = pd.read_csv('tips.csv')\n",
    "def quality(total_bill, tip):\n",
    "    if tip/total_bill > .25:\n",
    "        return \"Generous\"\n",
    "    else:\n",
    "        return \"Other\"\n",
    "'''"
   ]
  },
  {
   "cell_type": "code",
   "execution_count": 2,
   "metadata": {},
   "outputs": [],
   "source": [
    "tst1 = '''\n",
    "df['Quality'] = df[['total_bill','tip']].apply \\\n",
    "(lambda df: quality(df['total_bill'],df['tip']),axis=1)\n",
    "'''\n",
    "\n",
    "tst2 = '''\n",
    "df['Quality'] = np.vectorize(quality)(df['total_bill'],df['tip'])\n",
    "'''"
   ]
  },
  {
   "cell_type": "code",
   "execution_count": 6,
   "metadata": {},
   "outputs": [],
   "source": [
    "timeit.timeit(setup=setup,stmt=tst1,number=1000)"
   ]
  },
  {
   "cell_type": "code",
   "execution_count": null,
   "metadata": {},
   "outputs": [],
   "source": [
    "timeit.timeit(setup=setup,stmt=tst2,number=1000)"
   ]
  }
 ],
 "metadata": {
  "kernelspec": {
   "display_name": "Python 3",
   "language": "python",
   "name": "python3"
  },
  "language_info": {
   "codemirror_mode": {
    "name": "ipython",
    "version": 3
   },
   "file_extension": ".py",
   "mimetype": "text/x-python",
   "name": "python",
   "nbconvert_exporter": "python",
   "pygments_lexer": "ipython3",
   "version": "3.8.3"
  }
 },
 "nbformat": 4,
 "nbformat_minor": 4
}
