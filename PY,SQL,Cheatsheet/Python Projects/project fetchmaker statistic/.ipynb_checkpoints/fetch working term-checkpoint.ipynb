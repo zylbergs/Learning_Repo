{
 "cells": [
  {
   "cell_type": "code",
   "execution_count": 35,
   "metadata": {},
   "outputs": [],
   "source": [
    "import fetchmaker as fm\n",
    "import scipy.stats as sc\n",
    "import pandas as pd\n",
    "import numpy as np\n",
    "from statsmodels.stats.multicomp import pairwise_tukeyhsd"
   ]
  },
  {
   "cell_type": "raw",
   "metadata": {},
   "source": [
    "The attributes that FetchMaker keeps track of are:\n",
    "\n",
    "weight, an integer representing how heavy a dog is in pounds\n",
    "tail_length, a float representing tail length in inches\n",
    "age, in years\n",
    "color, a String such as \"brown\" or \"grey\"\n",
    "is_rescue, a boolean 0 or 1\n",
    "The fetchmaker package lets you access this data for a specific breed of dog with the following format:\n",
    "\n",
    "fetchmaker.get_weight(\"poodle\")\n",
    "This returns a Pandas DataFrame of the weights of the poodles recorded in the system. The other methods are get_tail_length, get_color, get_age, and get_is_rescue, which all take a breed as an input."
   ]
  },
  {
   "cell_type": "code",
   "execution_count": 25,
   "metadata": {},
   "outputs": [
    {
     "name": "stdout",
     "output_type": "stream",
     "text": [
      "6\n",
      "0.5811780106238098\n"
     ]
    }
   ],
   "source": [
    "# calling rotweiler tail data\n",
    "rottweiler_tl = fm.get_tail_length('rottweiler')\n",
    "#display(rottweiler_tl.head())\n",
    "avg_rot = np.mean(rottweiler_tl)\n",
    "std_rot = np.std(rottweiler_tl)\n",
    "\n",
    "# getting is rescued column for whippet dog\n",
    "whippet_rescue = fm.get_is_rescue('whippet')\n",
    "num_whippet_rescues = np.count_nonzero(whippet_rescue)\n",
    "num_whippets = np.size(whippet_rescue)\n",
    "print(num_whippet_rescues)\n",
    "\n",
    "#test if the expectation is not due to chance\n",
    "# expected percentage 8%\n",
    "#H0 : our rescue not significant \n",
    "#H1 : aur expected whippet is significant (8%)\n",
    "whip_binom_test = sc.binom_test(x=6, n=100, p=0.08)\n",
    "print(whip_binom_test)"
   ]
  },
  {
   "cell_type": "code",
   "execution_count": 37,
   "metadata": {},
   "outputs": [
    {
     "name": "stdout",
     "output_type": "stream",
     "text": [
      "3.276415588274815e-17\n",
      "Multiple Comparison of Means - Tukey HSD, FWER=0.05\n",
      "===================================================\n",
      "group1 group2 meandiff p-adj   lower  upper  reject\n",
      "---------------------------------------------------\n",
      "    pb     tr   -13.24  0.001 -16.728 -9.752   True\n",
      "    pb     wp    -3.34 0.0639  -6.828  0.148  False\n",
      "    tr     wp      9.9  0.001   6.412 13.388   True\n",
      "---------------------------------------------------\n"
     ]
    }
   ],
   "source": [
    "#H0: there is no significant difference in whippets terries pitbull\n",
    "#H1 : weight difference is significant\n",
    "pb = fm.get_weight('pitbull')\n",
    "wp = fm.get_weight('whippet')\n",
    "tr = fm.get_weight('terrier')\n",
    "\n",
    "tstat,pval = sc.f_oneway(pb,wp,tr)\n",
    "print(pval)\n",
    "#get detailed pair with tukey test\n",
    "v = np.concatenate([pb,wp,tr])\n",
    "labels = ['pb'] * len(pb) + ['wp']*len(wp) + ['tr'] * len(tr)\n",
    "\n",
    "tukey_result = pairwise_tukeyhsd(v,labels, 0.05)\n",
    "print(tukey_result)"
   ]
  },
  {
   "cell_type": "raw",
   "metadata": {},
   "source": [
    "We want to see if \"poodle\"s and \"shihtzu\"s have significantly different color breakdowns"
   ]
  },
  {
   "cell_type": "code",
   "execution_count": 56,
   "metadata": {},
   "outputs": [
    {
     "name": "stdout",
     "output_type": "stream",
     "text": [
      "['black' 'brown' 'gold' 'grey' 'white']\n",
      "7\n",
      "0.005302408293244593\n"
     ]
    }
   ],
   "source": [
    "poodle_colors = fm.get_color('poodle')\n",
    "shihtzu_colors = fm.get_color('shihtzu')\n",
    "print(poodle_colors.unique())\n",
    "print(np.count_nonzero(shihtzu_colors == 'white'))\n",
    "\n",
    "color_table = [[17,10],[13,36],[8,6],[52,41],[10,7]]\n",
    "chi2, pval, dof, expected = sc.chi2_contingency(color_table)\n",
    "print(pval)"
   ]
  }
 ],
 "metadata": {
  "kernelspec": {
   "display_name": "Python 3",
   "language": "python",
   "name": "python3"
  },
  "language_info": {
   "codemirror_mode": {
    "name": "ipython",
    "version": 3
   },
   "file_extension": ".py",
   "mimetype": "text/x-python",
   "name": "python",
   "nbconvert_exporter": "python",
   "pygments_lexer": "ipython3",
   "version": "3.8.3"
  }
 },
 "nbformat": 4,
 "nbformat_minor": 4
}
