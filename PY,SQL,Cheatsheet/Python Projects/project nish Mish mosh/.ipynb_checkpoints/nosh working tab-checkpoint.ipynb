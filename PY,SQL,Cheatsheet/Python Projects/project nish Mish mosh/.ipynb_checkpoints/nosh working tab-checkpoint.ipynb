{
 "cells": [
  {
   "cell_type": "code",
   "execution_count": 10,
   "metadata": {},
   "outputs": [],
   "source": [
    "import noshmishmosh as nm\n",
    "import numpy as np\n",
    "import scipy.stats as sc\n",
    "import pandas as pd"
   ]
  },
  {
   "cell_type": "code",
   "execution_count": 23,
   "metadata": {},
   "outputs": [
    {
     "name": "stdout",
     "output_type": "stream",
     "text": [
      "500\n"
     ]
    },
    {
     "data": {
      "text/html": [
       "<div>\n",
       "<style scoped>\n",
       "    .dataframe tbody tr th:only-of-type {\n",
       "        vertical-align: middle;\n",
       "    }\n",
       "\n",
       "    .dataframe tbody tr th {\n",
       "        vertical-align: top;\n",
       "    }\n",
       "\n",
       "    .dataframe thead th {\n",
       "        text-align: right;\n",
       "    }\n",
       "</style>\n",
       "<table border=\"1\" class=\"dataframe\">\n",
       "  <thead>\n",
       "    <tr style=\"text-align: right;\">\n",
       "      <th></th>\n",
       "      <th>purchased</th>\n",
       "      <th>clickedthrough</th>\n",
       "      <th>id</th>\n",
       "      <th>moneyspent</th>\n",
       "      <th>name</th>\n",
       "    </tr>\n",
       "  </thead>\n",
       "  <tbody>\n",
       "    <tr>\n",
       "      <th>0</th>\n",
       "      <td>False</td>\n",
       "      <td>True</td>\n",
       "      <td>83421</td>\n",
       "      <td>0.0</td>\n",
       "      <td>Michael Todd</td>\n",
       "    </tr>\n",
       "    <tr>\n",
       "      <th>1</th>\n",
       "      <td>False</td>\n",
       "      <td>True</td>\n",
       "      <td>46042</td>\n",
       "      <td>0.0</td>\n",
       "      <td>Brianna Harmon</td>\n",
       "    </tr>\n",
       "    <tr>\n",
       "      <th>2</th>\n",
       "      <td>False</td>\n",
       "      <td>False</td>\n",
       "      <td>23766</td>\n",
       "      <td>0.0</td>\n",
       "      <td>Mario Arnold</td>\n",
       "    </tr>\n",
       "    <tr>\n",
       "      <th>3</th>\n",
       "      <td>False</td>\n",
       "      <td>False</td>\n",
       "      <td>20859</td>\n",
       "      <td>0.0</td>\n",
       "      <td>Paul Quinn</td>\n",
       "    </tr>\n",
       "    <tr>\n",
       "      <th>4</th>\n",
       "      <td>False</td>\n",
       "      <td>True</td>\n",
       "      <td>57771</td>\n",
       "      <td>0.0</td>\n",
       "      <td>Jerome Moore</td>\n",
       "    </tr>\n",
       "  </tbody>\n",
       "</table>\n",
       "</div>"
      ],
      "text/plain": [
       "   purchased  clickedthrough     id  moneyspent            name\n",
       "0      False            True  83421         0.0    Michael Todd\n",
       "1      False            True  46042         0.0  Brianna Harmon\n",
       "2      False           False  23766         0.0    Mario Arnold\n",
       "3      False           False  20859         0.0      Paul Quinn\n",
       "4      False            True  57771         0.0    Jerome Moore"
      ]
     },
     "metadata": {},
     "output_type": "display_data"
    },
    {
     "name": "stdout",
     "output_type": "stream",
     "text": [
      "93\n"
     ]
    },
    {
     "data": {
      "text/html": [
       "<div>\n",
       "<style scoped>\n",
       "    .dataframe tbody tr th:only-of-type {\n",
       "        vertical-align: middle;\n",
       "    }\n",
       "\n",
       "    .dataframe tbody tr th {\n",
       "        vertical-align: top;\n",
       "    }\n",
       "\n",
       "    .dataframe thead th {\n",
       "        text-align: right;\n",
       "    }\n",
       "</style>\n",
       "<table border=\"1\" class=\"dataframe\">\n",
       "  <thead>\n",
       "    <tr style=\"text-align: right;\">\n",
       "      <th></th>\n",
       "      <th>purchased</th>\n",
       "      <th>clickedthrough</th>\n",
       "      <th>id</th>\n",
       "      <th>moneyspent</th>\n",
       "      <th>name</th>\n",
       "    </tr>\n",
       "  </thead>\n",
       "  <tbody>\n",
       "    <tr>\n",
       "      <th>0</th>\n",
       "      <td>True</td>\n",
       "      <td>True</td>\n",
       "      <td>15153</td>\n",
       "      <td>39.01</td>\n",
       "      <td>Jacob Harmon</td>\n",
       "    </tr>\n",
       "    <tr>\n",
       "      <th>1</th>\n",
       "      <td>True</td>\n",
       "      <td>True</td>\n",
       "      <td>74271</td>\n",
       "      <td>10.16</td>\n",
       "      <td>Wayne Potter</td>\n",
       "    </tr>\n",
       "    <tr>\n",
       "      <th>2</th>\n",
       "      <td>True</td>\n",
       "      <td>True</td>\n",
       "      <td>83489</td>\n",
       "      <td>36.88</td>\n",
       "      <td>Jimmy Carrillo</td>\n",
       "    </tr>\n",
       "    <tr>\n",
       "      <th>3</th>\n",
       "      <td>True</td>\n",
       "      <td>True</td>\n",
       "      <td>33246</td>\n",
       "      <td>23.41</td>\n",
       "      <td>Kara Davis</td>\n",
       "    </tr>\n",
       "    <tr>\n",
       "      <th>4</th>\n",
       "      <td>True</td>\n",
       "      <td>True</td>\n",
       "      <td>29847</td>\n",
       "      <td>33.49</td>\n",
       "      <td>Mr. Brett Roberts</td>\n",
       "    </tr>\n",
       "  </tbody>\n",
       "</table>\n",
       "</div>"
      ],
      "text/plain": [
       "   purchased  clickedthrough     id  moneyspent               name\n",
       "0       True            True  15153       39.01       Jacob Harmon\n",
       "1       True            True  74271       10.16       Wayne Potter\n",
       "2       True            True  83489       36.88     Jimmy Carrillo\n",
       "3       True            True  33246       23.41         Kara Davis\n",
       "4       True            True  29847       33.49  Mr. Brett Roberts"
      ]
     },
     "metadata": {},
     "output_type": "display_data"
    },
    {
     "name": "stdout",
     "output_type": "stream",
     "text": [
      "18.6\n"
     ]
    }
   ],
   "source": [
    "df = pd.DataFrame(nm.customer_visits)\n",
    "print(len(df))\n",
    "display(df.head())\n",
    "\n",
    "# in order to conduct AB test, mish mosh need value to fill 3 params on sample size calculator\n",
    "\n",
    "#seeking baseline conversion rate by define total visitor and visitor who buy\n",
    "buying_visitor = df[df['purchased'] == True].reset_index(drop= True)\n",
    "print(len(total_visitor))\n",
    "display(buying_visitor.head())\n",
    "\n",
    "baseline_conversion_rate = len(buying_visitor)/len(df)*100.0\n",
    "print(baseline_conversion_rate)"
   ]
  },
  {
   "cell_type": "code",
   "execution_count": 53,
   "metadata": {},
   "outputs": [
    {
     "name": "stdout",
     "output_type": "stream",
     "text": [
      "2468.56\n",
      "27.0\n",
      "46.0\n",
      "27.800000000000004\n",
      "49.46236559139786\n"
     ]
    }
   ],
   "source": [
    "#seeking lift value parameter\n",
    "total_week_income = round((buying_visitor['moneyspent'].sum()),2)\n",
    "print(total_week_income)\n",
    "\n",
    "average_income = np.ceil(np.mean(buying_visitor.moneyspent))\n",
    "print(average_income)\n",
    "\n",
    "new_customers_needed = np.ceil(float(1240/average_income))\n",
    "print(new_customers_needed)\n",
    "\n",
    "new_basline_conversion = (new_customers_needed + len(buying_visitor))/len(df) *100\n",
    "print(new_basline_conversion)\n",
    "\n",
    "min_desired_lift = (new_basline_conversion - baseline_conversion_rate)/baseline_conversion_rate *100.0\n",
    "print(min_desired_lift)\n",
    "\n",
    "#with treshold of significance is 10 % \n",
    "#wecan start to calculate amount of sample needed"
   ]
  }
 ],
 "metadata": {
  "kernelspec": {
   "display_name": "Python 3",
   "language": "python",
   "name": "python3"
  },
  "language_info": {
   "codemirror_mode": {
    "name": "ipython",
    "version": 3
   },
   "file_extension": ".py",
   "mimetype": "text/x-python",
   "name": "python",
   "nbconvert_exporter": "python",
   "pygments_lexer": "ipython3",
   "version": "3.8.3"
  }
 },
 "nbformat": 4,
 "nbformat_minor": 4
}
