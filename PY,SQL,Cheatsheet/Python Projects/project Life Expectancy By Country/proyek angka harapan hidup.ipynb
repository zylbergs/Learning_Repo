{
 "cells": [
  {
   "cell_type": "code",
   "execution_count": 1,
   "metadata": {},
   "outputs": [],
   "source": [
    "import numpy as np\n",
    "from matplotlib import pyplot as plt\n",
    "import scipy as sc\n",
    "import pandas as pd"
   ]
  },
  {
   "cell_type": "code",
   "execution_count": 3,
   "metadata": {},
   "outputs": [
    {
     "data": {
      "text/html": [
       "<div>\n",
       "<style scoped>\n",
       "    .dataframe tbody tr th:only-of-type {\n",
       "        vertical-align: middle;\n",
       "    }\n",
       "\n",
       "    .dataframe tbody tr th {\n",
       "        vertical-align: top;\n",
       "    }\n",
       "\n",
       "    .dataframe thead th {\n",
       "        text-align: right;\n",
       "    }\n",
       "</style>\n",
       "<table border=\"1\" class=\"dataframe\">\n",
       "  <thead>\n",
       "    <tr style=\"text-align: right;\">\n",
       "      <th></th>\n",
       "      <th>Country</th>\n",
       "      <th>Life Expectancy</th>\n",
       "      <th>GDP</th>\n",
       "    </tr>\n",
       "  </thead>\n",
       "  <tbody>\n",
       "    <tr>\n",
       "      <th>0</th>\n",
       "      <td>Afghanistan</td>\n",
       "      <td>58.19375</td>\n",
       "      <td>340.015425</td>\n",
       "    </tr>\n",
       "    <tr>\n",
       "      <th>1</th>\n",
       "      <td>Albania</td>\n",
       "      <td>75.15625</td>\n",
       "      <td>2119.726679</td>\n",
       "    </tr>\n",
       "    <tr>\n",
       "      <th>2</th>\n",
       "      <td>Algeria</td>\n",
       "      <td>73.61875</td>\n",
       "      <td>2847.853392</td>\n",
       "    </tr>\n",
       "    <tr>\n",
       "      <th>3</th>\n",
       "      <td>Angola</td>\n",
       "      <td>49.01875</td>\n",
       "      <td>1975.143045</td>\n",
       "    </tr>\n",
       "    <tr>\n",
       "      <th>4</th>\n",
       "      <td>Antigua and Barbuda</td>\n",
       "      <td>75.05625</td>\n",
       "      <td>9759.305728</td>\n",
       "    </tr>\n",
       "  </tbody>\n",
       "</table>\n",
       "</div>"
      ],
      "text/plain": [
       "               Country  Life Expectancy          GDP\n",
       "0          Afghanistan         58.19375   340.015425\n",
       "1              Albania         75.15625  2119.726679\n",
       "2              Algeria         73.61875  2847.853392\n",
       "3               Angola         49.01875  1975.143045\n",
       "4  Antigua and Barbuda         75.05625  9759.305728"
      ]
     },
     "metadata": {},
     "output_type": "display_data"
    }
   ],
   "source": [
    "data = pd.read_csv('country_data.csv')\n",
    "display(data.head())"
   ]
  },
  {
   "cell_type": "code",
   "execution_count": 43,
   "metadata": {},
   "outputs": [
    {
     "data": {
      "text/html": [
       "<div>\n",
       "<style scoped>\n",
       "    .dataframe tbody tr th:only-of-type {\n",
       "        vertical-align: middle;\n",
       "    }\n",
       "\n",
       "    .dataframe tbody tr th {\n",
       "        vertical-align: top;\n",
       "    }\n",
       "\n",
       "    .dataframe thead th {\n",
       "        text-align: right;\n",
       "    }\n",
       "</style>\n",
       "<table border=\"1\" class=\"dataframe\">\n",
       "  <thead>\n",
       "    <tr style=\"text-align: right;\">\n",
       "      <th></th>\n",
       "      <th>Country</th>\n",
       "      <th>Life Expectancy</th>\n",
       "      <th>GDP</th>\n",
       "    </tr>\n",
       "  </thead>\n",
       "  <tbody>\n",
       "    <tr>\n",
       "      <th>0</th>\n",
       "      <td>Afghanistan</td>\n",
       "      <td>58.19375</td>\n",
       "      <td>340.015425</td>\n",
       "    </tr>\n",
       "    <tr>\n",
       "      <th>1</th>\n",
       "      <td>Albania</td>\n",
       "      <td>75.15625</td>\n",
       "      <td>2119.726679</td>\n",
       "    </tr>\n",
       "    <tr>\n",
       "      <th>2</th>\n",
       "      <td>Algeria</td>\n",
       "      <td>73.61875</td>\n",
       "      <td>2847.853392</td>\n",
       "    </tr>\n",
       "    <tr>\n",
       "      <th>3</th>\n",
       "      <td>Angola</td>\n",
       "      <td>49.01875</td>\n",
       "      <td>1975.143045</td>\n",
       "    </tr>\n",
       "    <tr>\n",
       "      <th>4</th>\n",
       "      <td>Antigua and Barbuda</td>\n",
       "      <td>75.05625</td>\n",
       "      <td>9759.305728</td>\n",
       "    </tr>\n",
       "  </tbody>\n",
       "</table>\n",
       "</div>"
      ],
      "text/plain": [
       "               Country  Life Expectancy          GDP\n",
       "0          Afghanistan         58.19375   340.015425\n",
       "1              Albania         75.15625  2119.726679\n",
       "2              Algeria         73.61875  2847.853392\n",
       "3               Angola         49.01875  1975.143045\n",
       "4  Antigua and Barbuda         75.05625  9759.305728"
      ]
     },
     "metadata": {},
     "output_type": "display_data"
    },
    {
     "data": {
      "image/png": "[encoded data removed]",
      "text/plain": [
       "<Figure size 864x576 with 2 Axes>"
      ]
     },
     "metadata": {
      "needs_background": "light"
     },
     "output_type": "display_data"
    },
    {
     "name": "stdout",
     "output_type": "stream",
     "text": [
      "[62.325     72.525     75.4421875]\n"
     ]
    }
   ],
   "source": [
    "# inspecting life expectancy data into datasets\n",
    "life_expectancy = data['Life Expectancy']\n",
    "life_expectancy_avg = np.mean(life_expectancy)\n",
    "life_expectancy_std = np.std(life_expectancy)\n",
    "std_plus1 = life_expectancy_avg + life_expectancy_std\n",
    "std_min1 = life_expectancy_avg-life_expectancy_std\n",
    "std_plus2 = life_expectancy_avg + (2*life_expectancy_std)\n",
    "std_min2 = life_expectancy_avg - (2*life_expectancy_std)\n",
    "\n",
    "# getting quartile to create equally 4 quarters\n",
    "life_expectancy_variance = np.var(life_expectancy)\n",
    "life_expectancy_q1 = np.quantile(life_expectancy, 0.25)\n",
    "life_expectancy_q2 = np.median(life_expectancy)\n",
    "life_expectancy_q3 = np.quantile(life_expectancy, 0.75)\n",
    "life_expectancy_quartile = np.quantile(life_expectancy, [0.25,0.5,0.75])\n",
    "\n",
    "                                       \n",
    "#creating figure and ploting data into histogram\n",
    "plt.figure(figsize=(12,8))\n",
    "ax = plt.subplot(2,1,1)\n",
    "plt.hist(life_expectancy, bins=25)\n",
    "plt.axvline(life_expectancy_q1, color= '#1dc217', label='Q1',linewidth=2)\n",
    "plt.axvline(life_expectancy_q2, color= '#e38929', label='Q2',linewidth=2)\n",
    "plt.axvline(life_expectancy_q3, color= '#de57ce', label='Q3',linewidth=2)\n",
    "plt.legend()\n",
    "# second datasets tobe compared\n",
    "ax2= plt.subplot(2,1,2)\n",
    "plt.hist(life_expectancy, bins=25)\n",
    "plt.axvline(std_plus1, color='#08fcec', label ='STD 1',alpha=0.5)\n",
    "plt.axvline(std_min1, color='#08fcec',alpha=0.5)\n",
    "plt.axvline(std_plus2, color='#e0b404', label ='STD 2',alpha=0.5)\n",
    "plt.axvline(std_min2, color='#e0b404',alpha=0.5)\n",
    "plt.axvline(life_expectancy_avg, color='#1f1a0a', label='Mean', alpha=0.5)\n",
    "plt.legend()\n",
    "plt.show()\n",
    "\n",
    "\n",
    "print(life_expectancy_quartile)"
   ]
  },
  {
   "cell_type": "code",
   "execution_count": 23,
   "metadata": {},
   "outputs": [
    {
     "data": {
      "image/png": "[encoded data removed]",
      "text/plain": [
       "<Figure size 864x576 with 1 Axes>"
      ]
     },
     "metadata": {
      "needs_background": "light"
     },
     "output_type": "display_data"
    }
   ],
   "source": [
    "# splitting data into two split to find country with low and high gdp\n",
    "gdp = data['GDP']\n",
    "gdp_median = np.median(gdp)\n",
    "#selecting low gdp country\n",
    "low_gdp = data[data['GDP'] <= gdp_median]\n",
    "#selecting high gdp country\n",
    "high_gdp = data[data['GDP'] > gdp_median]\n",
    "\n",
    "plt.figure(figsize=(12,8))\n",
    "ax1 = plt.subplot()\n",
    "plt.hist(gdp, bins=20)\n",
    "plt.axvline(gdp_median, color='yellow',linewidth=2, label='Median')\n",
    "plt.legend()\n",
    "plt.show()"
   ]
  },
  {
   "cell_type": "code",
   "execution_count": 35,
   "metadata": {},
   "outputs": [
    {
     "name": "stdout",
     "output_type": "stream",
     "text": [
      "[56.3375  64.34375 71.7375 ]\n",
      "[72.965625 75.15625  80.521875]\n"
     ]
    },
    {
     "data": {
      "image/png": "[encoded data removed]",
      "text/plain": [
       "<Figure size 864x576 with 1 Axes>"
      ]
     },
     "metadata": {
      "needs_background": "light"
     },
     "output_type": "display_data"
    }
   ],
   "source": [
    "low_gdp_quartile = np.quantile(low_gdp['Life Expectancy'], [0.25,0.5,0.75])\n",
    "high_gdp_quartile = np.quantile(high_gdp['Life Expectancy'], [0.25,0.5,0.75])\n",
    "print(low_gdp_quartile)\n",
    "print(high_gdp_quartile)\n",
    "\n",
    "plt.figure(figsize=(12,8))\n",
    "ax2 = plt.subplot()\n",
    "plt.hist(high_gdp['Life Expectancy'], alpha=0.5, label='High GDP')\n",
    "plt.hist(low_gdp['Life Expectancy'], alpha=0.5, label='Low GDP')\n",
    "plt.legend()\n",
    "plt.show()"
   ]
  },
  {
   "cell_type": "raw",
   "metadata": {},
   "source": [
    "conclussion, here we have two datasets. first one is low gdp country and high gdp country.\n",
    "what is it to life expectancy factor?\n",
    "\n",
    "1. low GDp country have more spread than high GDP.\n",
    "    means, lot of diversity in values.\n",
    "2. quartile perspective are different.\n",
    "    suppose we have a country with 70 years life expectancy. in low gdp dataset it is belong to \n",
    "    3rd quarter. on the other side, 70 yr life expectancy falls in 1st quarter in high gdp datasets\n",
    "3. with this two datasets combined, it can be comparison between each other.\n",
    "4. probability of life expectancy in high gdp country are much higher, and vice versa to low gdp country"
   ]
  }
 ],
 "metadata": {
  "kernelspec": {
   "display_name": "Python 3",
   "language": "python",
   "name": "python3"
  },
  "language_info": {
   "codemirror_mode": {
    "name": "ipython",
    "version": 3
   },
   "file_extension": ".py",
   "mimetype": "text/x-python",
   "name": "python",
   "nbconvert_exporter": "python",
   "pygments_lexer": "ipython3",
   "version": "3.8.3"
  }
 },
 "nbformat": 4,
 "nbformat_minor": 4
}
