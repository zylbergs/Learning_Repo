{
 "cells": [
  {
   "cell_type": "code",
   "execution_count": 52,
   "metadata": {},
   "outputs": [],
   "source": [
    "import pandas as pd\n",
    "import numpy as np\n",
    "from matplotlib import pyplot as plt\n",
    "from scipy.stats import chi2_contingency, binom_test"
   ]
  },
  {
   "cell_type": "raw",
   "metadata": {},
   "source": [
    "the problem is we define upgrade package  with 3 version A,B,C.\n",
    "with A =0.99,B=1.99,C=4.99\n",
    "after conducting test we have data from test result. is the difference sinificant? \n",
    "are we making profit from proven version? we should make 1000$ per week to justify\n",
    "which version to use that we charge the users for upgrade?"
   ]
  },
  {
   "cell_type": "code",
   "execution_count": 3,
   "metadata": {},
   "outputs": [
    {
     "data": {
      "text/html": [
       "<div>\n",
       "<style scoped>\n",
       "    .dataframe tbody tr th:only-of-type {\n",
       "        vertical-align: middle;\n",
       "    }\n",
       "\n",
       "    .dataframe tbody tr th {\n",
       "        vertical-align: top;\n",
       "    }\n",
       "\n",
       "    .dataframe thead th {\n",
       "        text-align: right;\n",
       "    }\n",
       "</style>\n",
       "<table border=\"1\" class=\"dataframe\">\n",
       "  <thead>\n",
       "    <tr style=\"text-align: right;\">\n",
       "      <th></th>\n",
       "      <th>user_id</th>\n",
       "      <th>group</th>\n",
       "      <th>click_day</th>\n",
       "      <th>is_purchase</th>\n",
       "    </tr>\n",
       "  </thead>\n",
       "  <tbody>\n",
       "    <tr>\n",
       "      <th>0</th>\n",
       "      <td>8e27bf9a-5b6e-41ed-801a-a59979c0ca98</td>\n",
       "      <td>A</td>\n",
       "      <td>NaN</td>\n",
       "      <td>No Purchase</td>\n",
       "    </tr>\n",
       "    <tr>\n",
       "      <th>1</th>\n",
       "      <td>eb89e6f0-e682-4f79-99b1-161cc1c096f1</td>\n",
       "      <td>A</td>\n",
       "      <td>NaN</td>\n",
       "      <td>No Purchase</td>\n",
       "    </tr>\n",
       "    <tr>\n",
       "      <th>2</th>\n",
       "      <td>7119106a-7a95-417b-8c4c-092c12ee5ef7</td>\n",
       "      <td>A</td>\n",
       "      <td>NaN</td>\n",
       "      <td>No Purchase</td>\n",
       "    </tr>\n",
       "    <tr>\n",
       "      <th>3</th>\n",
       "      <td>e53781ff-ff7a-4fcd-af1a-adba02b2b954</td>\n",
       "      <td>A</td>\n",
       "      <td>NaN</td>\n",
       "      <td>No Purchase</td>\n",
       "    </tr>\n",
       "    <tr>\n",
       "      <th>4</th>\n",
       "      <td>02d48cf1-1ae6-40b3-9d8b-8208884a0904</td>\n",
       "      <td>A</td>\n",
       "      <td>Saturday</td>\n",
       "      <td>Purchase</td>\n",
       "    </tr>\n",
       "  </tbody>\n",
       "</table>\n",
       "</div>"
      ],
      "text/plain": [
       "                                user_id group click_day  is_purchase\n",
       "0  8e27bf9a-5b6e-41ed-801a-a59979c0ca98     A       NaN  No Purchase\n",
       "1  eb89e6f0-e682-4f79-99b1-161cc1c096f1     A       NaN  No Purchase\n",
       "2  7119106a-7a95-417b-8c4c-092c12ee5ef7     A       NaN  No Purchase\n",
       "3  e53781ff-ff7a-4fcd-af1a-adba02b2b954     A       NaN  No Purchase\n",
       "4  02d48cf1-1ae6-40b3-9d8b-8208884a0904     A  Saturday     Purchase"
      ]
     },
     "metadata": {},
     "output_type": "display_data"
    }
   ],
   "source": [
    "#inspecting data\n",
    "df = pd.read_csv('clicks.csv')\n",
    "\n",
    "#creating new tabel from data (user who bought marked with value in click day) \n",
    "df['is_purchase'] = df.click_day.apply(lambda x: 'No Purchase' if pd.isnull(x) else 'Purchase')\n",
    "display(df.head())"
   ]
  },
  {
   "cell_type": "code",
   "execution_count": 42,
   "metadata": {},
   "outputs": [
    {
     "data": {
      "text/html": [
       "<div>\n",
       "<style scoped>\n",
       "    .dataframe tbody tr th:only-of-type {\n",
       "        vertical-align: middle;\n",
       "    }\n",
       "\n",
       "    .dataframe tbody tr th {\n",
       "        vertical-align: top;\n",
       "    }\n",
       "\n",
       "    .dataframe thead th {\n",
       "        text-align: right;\n",
       "    }\n",
       "</style>\n",
       "<table border=\"1\" class=\"dataframe\">\n",
       "  <thead>\n",
       "    <tr style=\"text-align: right;\">\n",
       "      <th></th>\n",
       "      <th>is_purchase</th>\n",
       "      <th>group</th>\n",
       "      <th>user_id</th>\n",
       "    </tr>\n",
       "  </thead>\n",
       "  <tbody>\n",
       "    <tr>\n",
       "      <th>0</th>\n",
       "      <td>No Purchase</td>\n",
       "      <td>A</td>\n",
       "      <td>1350</td>\n",
       "    </tr>\n",
       "    <tr>\n",
       "      <th>1</th>\n",
       "      <td>No Purchase</td>\n",
       "      <td>B</td>\n",
       "      <td>1483</td>\n",
       "    </tr>\n",
       "    <tr>\n",
       "      <th>2</th>\n",
       "      <td>No Purchase</td>\n",
       "      <td>C</td>\n",
       "      <td>1583</td>\n",
       "    </tr>\n",
       "    <tr>\n",
       "      <th>3</th>\n",
       "      <td>Purchase</td>\n",
       "      <td>A</td>\n",
       "      <td>316</td>\n",
       "    </tr>\n",
       "    <tr>\n",
       "      <th>4</th>\n",
       "      <td>Purchase</td>\n",
       "      <td>B</td>\n",
       "      <td>183</td>\n",
       "    </tr>\n",
       "    <tr>\n",
       "      <th>5</th>\n",
       "      <td>Purchase</td>\n",
       "      <td>C</td>\n",
       "      <td>83</td>\n",
       "    </tr>\n",
       "  </tbody>\n",
       "</table>\n",
       "</div>"
      ],
      "text/plain": [
       "   is_purchase group  user_id\n",
       "0  No Purchase     A     1350\n",
       "1  No Purchase     B     1483\n",
       "2  No Purchase     C     1583\n",
       "3     Purchase     A      316\n",
       "4     Purchase     B      183\n",
       "5     Purchase     C       83"
      ]
     },
     "metadata": {},
     "output_type": "display_data"
    }
   ],
   "source": [
    "#grouping data to each test group with purchase or not purchase data\n",
    "purchase_counts= df.groupby(['is_purchase','group']).user_id.count().reset_index()\n",
    "display(purchase_counts)"
   ]
  },
  {
   "cell_type": "raw",
   "metadata": {},
   "source": [
    "A_purchases = purchase_counts.loc[(purchase_counts.group == 'A') & (purchase_counts.is_purchase == 'Purchase')]\\\n",
    "['user_id'].values\n",
    "print(type(A_purchases))\n",
    "\n",
    "A_not_purchases = purchase_counts.loc[(purchase_counts.group == 'A') & (purchase_counts.is_purchase == 'No Purchase')]\\\n",
    "['user_id'].values\n",
    "print(A_not_purchases)\n",
    "\n",
    "#soon i realize this way is time consuming just like using tank to kill a chicken\n"
   ]
  },
  {
   "cell_type": "code",
   "execution_count": 45,
   "metadata": {},
   "outputs": [
    {
     "name": "stdout",
     "output_type": "stream",
     "text": [
      "2.4126213546684264e-35\n"
     ]
    }
   ],
   "source": [
    "# defining contingency tabel for hypo test with chi square\n",
    "# containging A,B,C purcahse and not purchase\n",
    "contingency = [[316,1350],[183,1483],[83,1583]]\n",
    "chi2, pval, dof, expected = chi2_contingency(contingency)\n",
    "print(pval)\n",
    "\n",
    "is_significant = True\n"
   ]
  },
  {
   "cell_type": "code",
   "execution_count": 55,
   "metadata": {},
   "outputs": [
    {
     "name": "stdout",
     "output_type": "stream",
     "text": [
      "4998\n",
      "0.2111287299402726\n",
      "0.20660209246555486\n",
      "0.045623672477172125\n"
     ]
    }
   ],
   "source": [
    "num_visits = df.user_id.count()\n",
    "print(num_visits)\n",
    "# code below to find each group customer needed to make 1000$ \n",
    "a = 1000/0.99 # +_ 1000 users\n",
    "b = 1000/1.99 # +_ 500 users\n",
    "c = 1000/4.99 # +_ 200 users\n",
    "\n",
    "# amount of customers needed to reach 1000$ from total customers\n",
    "p_clicks_099 = a / num_visits # 20% of total cust = 1000 cust\n",
    "p_clicks_199 = b / num_visits # 10% of total cust = 500 cust\n",
    "p_clicks_499 = c / num_visits # 4% of total cust =  200 cust\n",
    "\n",
    "#performing hypotest with binom test\n",
    "# x is users who upgrade from each group n is total users p is probability of user will choose this\n",
    "pvalueA = binom_test(x=316, n=(316+1350), p=p_clicks_099)\n",
    "pvalueB = binom_test(x=183, n=(1483+183), p=p_clicks_199)\n",
    "pvalueC = binom_test(x=83, n=(1583+83), p=p_clicks_499)\n",
    "print(pvalueA)\n",
    "print(pvalueB)\n",
    "print(pvalueC)\n"
   ]
  }
 ],
 "metadata": {
  "kernelspec": {
   "display_name": "Python 3",
   "language": "python",
   "name": "python3"
  },
  "language_info": {
   "codemirror_mode": {
    "name": "ipython",
    "version": 3
   },
   "file_extension": ".py",
   "mimetype": "text/x-python",
   "name": "python",
   "nbconvert_exporter": "python",
   "pygments_lexer": "ipython3",
   "version": "3.8.3"
  }
 },
 "nbformat": 4,
 "nbformat_minor": 4
}
