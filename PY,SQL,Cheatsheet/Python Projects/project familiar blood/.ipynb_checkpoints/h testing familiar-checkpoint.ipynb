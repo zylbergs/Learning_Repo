{
 "cells": [
  {
   "cell_type": "code",
   "execution_count": 6,
   "metadata": {},
   "outputs": [],
   "source": [
    "import scipy.stats as sp\n",
    "import familiar as fm"
   ]
  },
  {
   "cell_type": "markdown",
   "metadata": {},
   "source": [
    "##### calling data"
   ]
  },
  {
   "cell_type": "code",
   "execution_count": 8,
   "metadata": {},
   "outputs": [
    {
     "name": "stdout",
     "output_type": "stream",
     "text": [
      "2.7463117986584107e-10\n",
      "The Vein Pack Is Proven To Make You Live Longer!\n"
     ]
    }
   ],
   "source": [
    "vein_pack_lifespans = fm.lifespans(package='vein')\n",
    "\n",
    "#H0: avg lifespan is not different from 71\n",
    "#H1: average lifespan different from 71\n",
    "\n",
    "tsat,pval= sp.ttest_1samp(vein_pack_lifespans,71)\n",
    "print(pval)\n",
    "#result showing that is a huge significant so that we can reject H0\n",
    "if pval <= 0.05:\n",
    "  print('The Vein Pack Is Proven To Make You Live Longer!')\n",
    "else:\n",
    "  print('The Vein Pack Is Probably Good For You Somehow!')"
   ]
  },
  {
   "cell_type": "code",
   "execution_count": 9,
   "metadata": {},
   "outputs": [
    {
     "name": "stdout",
     "output_type": "stream",
     "text": [
      "0.05588883079070819\n",
      "the Artery Package is also a great product!\n",
      "[[140, 29], [40, 87], [20, 29]]\n",
      "2.9227133549883315e-19\n",
      "The Artery Package Is Proven To Make You Healthier!\n"
     ]
    }
   ],
   "source": [
    "artery_pack_lifespans = fm.lifespans(package='artery')\n",
    "\n",
    "#H0 there is no improvement\n",
    "#H1 there is improveent with artery pack than vein pack\n",
    "\n",
    "#hypotesting\n",
    "tsat,pval = sp.ttest_ind(vein_pack_lifespans, artery_pack_lifespans)\n",
    "print(pval)\n",
    "\n",
    "if pval < 0.05:\n",
    "  print('the Artery Package guarantees even stronger results!')\n",
    "else:\n",
    "  print('the Artery Package is also a great product!')\n",
    "\n",
    "#calling data showing iron count with category low,med,high. vein pack had sample 200 (70%hhigh,20%med,10%low)\n",
    "#artery pack had sample 145 (20% high, 60% med, 20%low)\n",
    "iron_contigency_table = fm.iron_counts_for_package()\n",
    "#H0 there is no different between artery and vein\n",
    "#H1, there is difference (means proven healthier package than vein) between artery and vein\n",
    "print(iron_contigency_table)\n",
    "\n",
    "chi2,iron_pval, dof, expected= sp.chi2_contingency(iron_contigency_table)\n",
    "\n",
    "print(iron_pval)\n",
    "\n",
    "if iron_pval <= 0.05:\n",
    "    print('The Artery Package Is Proven To Make You Healthier!')\n",
    "else:\n",
    "    print('While We Can’t Say The Artery Package Will Help You, I Bet It’s Nice!')"
   ]
  }
 ],
 "metadata": {
  "kernelspec": {
   "display_name": "Python 3",
   "language": "python",
   "name": "python3"
  },
  "language_info": {
   "codemirror_mode": {
    "name": "ipython",
    "version": 3
   },
   "file_extension": ".py",
   "mimetype": "text/x-python",
   "name": "python",
   "nbconvert_exporter": "python",
   "pygments_lexer": "ipython3",
   "version": "3.8.3"
  }
 },
 "nbformat": 4,
 "nbformat_minor": 4
}
