{
 "cells": [
  {
   "cell_type": "code",
   "execution_count": 21,
   "metadata": {},
   "outputs": [],
   "source": [
    "import pandas as pd\n",
    "import numpy as np\n",
    "from matplotlib import pyplot as plt"
   ]
  },
  {
   "cell_type": "code",
   "execution_count": 22,
   "metadata": {},
   "outputs": [],
   "source": [
    "inventory = pd.DataFrame([\n",
    "    ['Staten Island','seeds','daisy',4,6.99],\n",
    "    ['Staten Island','seeds','calla lily',46,19.99],\n",
    "    ['Staten Island','seeds','tomato',85,13.99],\n",
    "    ['Staten Island','garden tools','rake',4,13.99],\n",
    "    ['Staten Island','garden tools','wheelbarrow',0,89.99],\n",
    "    ['Staten Island','garden tools','spade',93,19.99],\n",
    "    ['Staten Island','pest_control','insect killer',74,12.99],\n",
    "    ['Staten Island','pest_control','weed killer',8,23.99],\n",
    "    ['Staten Island','planter','20 inch terracotta planter',0,17.99],\n",
    "    ['Staten Island','planter','8 inch plastic planter',53,3.99],\n",
    "    ['Brooklyn','seeds','daisy',50,6.99],\n",
    "    ['Brooklyn','seeds','calla lily',0,19.99],\n",
    "    ['Brooklyn','seeds','tomato',0,13.99],\n",
    "    ['Brooklyn','garden tools','rake',15,13.99],\n",
    "    ['Brooklyn','garden tools','wheelbarrow',82,89.99],\n",
    "    ['Brooklyn','garden tools','spade',36,19.99],\n",
    "    ['Brooklyn','pest_control','insect killer',80,12.99],\n",
    "    ['Brooklyn','pest_control','weed killer',76,23.99],\n",
    "    ['Brooklyn','planter','20 inch terracotta planter',5,17.99],\n",
    "    ['Brooklyn','planter','8 inch plastic planter',26,3.99],\n",
    "    ['Queens','seeds','daisy',57,6.99],\n",
    "    ['Queens','seeds','calla lily',95,19.99],\n",
    "    ['Queens','seeds','tomato',45,13.99],\n",
    "    ['Queens','garden tools','rake',21,13.99],\n",
    "    ['Queens','garden tools','wheelbarrow',98,89.99],\n",
    "    ['Queens','garden tools','spade',26,19.99],\n",
    "    ['Queens','pest_control','insect killer',0,12.99],\n",
    "    ['Queens','pest_control','weed killer',16,23.99],\n",
    "    ['Queens','planter','20 inch terracotta planter',87,17.99]],\n",
    "    columns=['location','product_type','product_description','quantity','price'])"
   ]
  },
  {
   "cell_type": "code",
   "execution_count": 23,
   "metadata": {},
   "outputs": [
    {
     "name": "stdout",
     "output_type": "stream",
     "text": [
      "        location  product_type product_description  quantity  price\n",
      "0  Staten Island         seeds               daisy         4   6.99\n",
      "1  Staten Island         seeds          calla lily        46  19.99\n",
      "2  Staten Island         seeds              tomato        85  13.99\n",
      "3  Staten Island  garden tools                rake         4  13.99\n",
      "4  Staten Island  garden tools         wheelbarrow         0  89.99\n"
     ]
    }
   ],
   "source": [
    "print(inventory.head())"
   ]
  },
  {
   "cell_type": "raw",
   "metadata": {},
   "source": [
    "inventory = pd.DataFrame('inventory.csv.')"
   ]
  },
  {
   "cell_type": "code",
   "execution_count": 24,
   "metadata": {},
   "outputs": [],
   "source": [
    "staten_island = inventory.loc[inventory['location'] == 'Staten Island']\n",
    "#print(staten_island)"
   ]
  },
  {
   "cell_type": "code",
   "execution_count": 25,
   "metadata": {},
   "outputs": [],
   "source": [
    "product_request = staten_island['product_description']\n",
    "#print(product_request)"
   ]
  },
  {
   "cell_type": "code",
   "execution_count": 26,
   "metadata": {},
   "outputs": [],
   "source": [
    "seed_request = inventory.loc[(inventory.location == 'Brooklyn') & (inventory.product_type == 'seeds')]\n",
    "#print(seed_request)"
   ]
  },
  {
   "cell_type": "code",
   "execution_count": 27,
   "metadata": {},
   "outputs": [],
   "source": [
    "inventory['in_stock'] = inventory.quantity.apply(lambda x: True if x >0 else False)\n",
    "inventory['total_value'] = inventory.quantity * inventory.price"
   ]
  },
  {
   "cell_type": "code",
   "execution_count": 34,
   "metadata": {},
   "outputs": [
    {
     "name": "stdout",
     "output_type": "stream",
     "text": [
      "         location  product_type         product_description  quantity  price  \\\n",
      "0   Staten Island         seeds                       daisy         4   6.99   \n",
      "1   Staten Island         seeds                  calla lily        46  19.99   \n",
      "2   Staten Island         seeds                      tomato        85  13.99   \n",
      "3   Staten Island  garden tools                        rake         4  13.99   \n",
      "4   Staten Island  garden tools                 wheelbarrow         0  89.99   \n",
      "5   Staten Island  garden tools                       spade        93  19.99   \n",
      "6   Staten Island  pest_control               insect killer        74  12.99   \n",
      "7   Staten Island  pest_control                 weed killer         8  23.99   \n",
      "8   Staten Island       planter  20 inch terracotta planter         0  17.99   \n",
      "9   Staten Island       planter      8 inch plastic planter        53   3.99   \n",
      "10       Brooklyn         seeds                       daisy        50   6.99   \n",
      "11       Brooklyn         seeds                  calla lily         0  19.99   \n",
      "12       Brooklyn         seeds                      tomato         0  13.99   \n",
      "13       Brooklyn  garden tools                        rake        15  13.99   \n",
      "14       Brooklyn  garden tools                 wheelbarrow        82  89.99   \n",
      "15       Brooklyn  garden tools                       spade        36  19.99   \n",
      "16       Brooklyn  pest_control               insect killer        80  12.99   \n",
      "17       Brooklyn  pest_control                 weed killer        76  23.99   \n",
      "18       Brooklyn       planter  20 inch terracotta planter         5  17.99   \n",
      "19       Brooklyn       planter      8 inch plastic planter        26   3.99   \n",
      "20         Queens         seeds                       daisy        57   6.99   \n",
      "21         Queens         seeds                  calla lily        95  19.99   \n",
      "22         Queens         seeds                      tomato        45  13.99   \n",
      "23         Queens  garden tools                        rake        21  13.99   \n",
      "24         Queens  garden tools                 wheelbarrow        98  89.99   \n",
      "25         Queens  garden tools                       spade        26  19.99   \n",
      "26         Queens  pest_control               insect killer         0  12.99   \n",
      "27         Queens  pest_control                 weed killer        16  23.99   \n",
      "28         Queens       planter  20 inch terracotta planter        87  17.99   \n",
      "\n",
      "    in_stock  total_value                      full_description  \n",
      "0       True        27.96                         seeds - daisy  \n",
      "1       True       919.54                    seeds - calla lily  \n",
      "2       True      1189.15                        seeds - tomato  \n",
      "3       True        55.96                   garden tools - rake  \n",
      "4      False         0.00            garden tools - wheelbarrow  \n",
      "5       True      1859.07                  garden tools - spade  \n",
      "6       True       961.26          pest_control - insect killer  \n",
      "7       True       191.92            pest_control - weed killer  \n",
      "8      False         0.00  planter - 20 inch terracotta planter  \n",
      "9       True       211.47      planter - 8 inch plastic planter  \n",
      "10      True       349.50                         seeds - daisy  \n",
      "11     False         0.00                    seeds - calla lily  \n",
      "12     False         0.00                        seeds - tomato  \n",
      "13      True       209.85                   garden tools - rake  \n",
      "14      True      7379.18            garden tools - wheelbarrow  \n",
      "15      True       719.64                  garden tools - spade  \n",
      "16      True      1039.20          pest_control - insect killer  \n",
      "17      True      1823.24            pest_control - weed killer  \n",
      "18      True        89.95  planter - 20 inch terracotta planter  \n",
      "19      True       103.74      planter - 8 inch plastic planter  \n",
      "20      True       398.43                         seeds - daisy  \n",
      "21      True      1899.05                    seeds - calla lily  \n",
      "22      True       629.55                        seeds - tomato  \n",
      "23      True       293.79                   garden tools - rake  \n",
      "24      True      8819.02            garden tools - wheelbarrow  \n",
      "25      True       519.74                  garden tools - spade  \n",
      "26     False         0.00          pest_control - insect killer  \n",
      "27      True       383.84            pest_control - weed killer  \n",
      "28      True      1565.13  planter - 20 inch terracotta planter  \n"
     ]
    }
   ],
   "source": [
    "combine_lambda = lambda x: '{} - {}'.format(x['product_type'], x['product_description'])\n",
    "inventory['full_description'] = inventory.apply(combine_lambda,axis=1)\n",
    "#ive been messed up by forgetting axis argument lmao\n",
    "print(inventory)"
   ]
  },
  {
   "cell_type": "code",
   "execution_count": null,
   "metadata": {},
   "outputs": [],
   "source": []
  }
 ],
 "metadata": {
  "kernelspec": {
   "display_name": "Python 3",
   "language": "python",
   "name": "python3"
  },
  "language_info": {
   "codemirror_mode": {
    "name": "ipython",
    "version": 3
   },
   "file_extension": ".py",
   "mimetype": "text/x-python",
   "name": "python",
   "nbconvert_exporter": "python",
   "pygments_lexer": "ipython3",
   "version": "3.8.3"
  }
 },
 "nbformat": 4,
 "nbformat_minor": 4
}
