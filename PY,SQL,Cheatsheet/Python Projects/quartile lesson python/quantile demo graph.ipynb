{
 "cells": [
  {
   "cell_type": "code",
   "execution_count": 5,
   "metadata": {},
   "outputs": [],
   "source": [
    "import numpy as np\n",
    "from matplotlib import pyplot as plt\n",
    "from song_data import songs"
   ]
  },
  {
   "cell_type": "code",
   "execution_count": 30,
   "metadata": {},
   "outputs": [
    {
     "name": "stdin",
     "output_type": "stream",
     "text": [
      "what number of datapoint will be checked? 442\n"
     ]
    },
    {
     "data": {
      "image/png": "[encoded data removed]",
      "text/plain": [
       "<Figure size 432x288 with 1 Axes>"
      ]
     },
     "metadata": {
      "needs_background": "light"
     },
     "output_type": "display_data"
    },
    {
     "name": "stdout",
     "output_type": "stream",
     "text": [
      "Songs dataset has :\n",
      "Q1 with 175.93424\n",
      "Q2 with 222.82404\n",
      "Q3 with 275.47383\n",
      "your datapoint is in the fourth slice of dataset\n"
     ]
    }
   ],
   "source": [
    "q1= np.quantile(songs, 0.25)\n",
    "q2= np.median(songs)\n",
    "q3= np.quantile(songs, 0.75)\n",
    "datapoint = int(input('what number of datapoint will be checked?'))\n",
    "\n",
    "def result(datapoint):\n",
    "    if datapoint < q1:\n",
    "        return 'your datapoint is in the first slice of dataset'\n",
    "    elif datapoint >q1 and datapoint <q2:\n",
    "        return 'your datapoint is in the second slice of dataset'\n",
    "    elif datapoint >q2 and datapoint <q3:\n",
    "        return 'your datapoint is in the third slice of dataset'\n",
    "    else:\n",
    "        return 'your datapoint is in the fourth slice of dataset'\n",
    "\n",
    "ax = plt.subplot()\n",
    "plt.hist(songs, bins=200)\n",
    "plt.axvline(q1,color= '#6400e4',label ='Q1')\n",
    "plt.axvline(q2, color='#fd4d3f',label='Q2')\n",
    "plt.axvline(q3, color='#4fe0b0',label='Q3')\n",
    "plt.axvline(datapoint, color='red', label='sample datapoint', alpha=0.75)\n",
    "plt.xlabel('Song Length in Second')\n",
    "plt.ylabel('Counts')\n",
    "plt.legend()\n",
    "plt.show()\n",
    "\n",
    "print(\"\"\"Songs dataset has :\n",
    "Q1 with {}\n",
    "Q2 with {}\n",
    "Q3 with {}\"\"\".format(q1,q2,q3))\n",
    "print(result(datapoint))"
   ]
  },
  {
   "cell_type": "code",
   "execution_count": null,
   "metadata": {},
   "outputs": [],
   "source": []
  }
 ],
 "metadata": {
  "kernelspec": {
   "display_name": "Python 3",
   "language": "python",
   "name": "python3"
  },
  "language_info": {
   "codemirror_mode": {
    "name": "ipython",
    "version": 3
   },
   "file_extension": ".py",
   "mimetype": "text/x-python",
   "name": "python",
   "nbconvert_exporter": "python",
   "pygments_lexer": "ipython3",
   "version": "3.8.3"
  }
 },
 "nbformat": 4,
 "nbformat_minor": 4
}
