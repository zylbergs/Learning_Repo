{
 "cells": [
  {
   "cell_type": "code",
   "execution_count": 174,
   "metadata": {},
   "outputs": [
    {
     "name": "stdout",
     "output_type": "stream",
     "text": [
      "33\n",
      "0.2148\n",
      "0.0\n"
     ]
    },
    {
     "data": {
      "image/png": "[encoded data removed]",
      "text/plain": [
       "<Figure size 432x288 with 1 Axes>"
      ]
     },
     "metadata": {
      "needs_background": "light"
     },
     "output_type": "display_data"
    }
   ],
   "source": [
    "### import numpy as np\n",
    "from matplotlib import pyplot as plt\n",
    "\n",
    "survey_responses = ['Ceballos', 'Kerrigan', 'Ceballos', 'Ceballos', 'Ceballos','Kerrigan', 'Kerrigan', 'Ceballos', 'Ceballos', 'Ceballos', \n",
    "'Kerrigan', 'Kerrigan', 'Ceballos', 'Ceballos', 'Kerrigan', 'Kerrigan', 'Ceballos', 'Ceballos', 'Kerrigan', 'Kerrigan', 'Kerrigan', 'Kerrigan', 'Kerrigan', 'Kerrigan', 'Ceballos', 'Ceballos', 'Ceballos', 'Ceballos', 'Ceballos', 'Ceballos',\n",
    "'Kerrigan', 'Kerrigan', 'Ceballos', 'Ceballos', 'Ceballos', 'Kerrigan', 'Kerrigan', 'Ceballos', 'Ceballos', 'Kerrigan', 'Kerrigan', 'Ceballos', 'Ceballos', 'Kerrigan', 'Kerrigan', 'Kerrigan', 'Kerrigan', 'Kerrigan', 'Kerrigan', 'Ceballos',\n",
    "'Kerrigan', 'Kerrigan', 'Ceballos', 'Ceballos', 'Ceballos', 'Kerrigan', 'Kerrigan', 'Ceballos', 'Ceballos', 'Kerrigan', 'Kerrigan', 'Ceballos', 'Ceballos', 'Kerrigan', 'Kerrigan', 'Kerrigan', 'Kerrigan', 'Kerrigan', 'Kerrigan', 'Ceballos']\n",
    "\n",
    "total_ceballos = sum([1 for n in survey_responses if n == \"Ceballos\"]) #this code will show how many respondent who choose ceballos\n",
    "print(total_ceballos)\n",
    "survey_responses_array = np.array(survey_responses) #this is creating array from python list\n",
    "\n",
    "total_ceb_easy = np.sum(survey_responses_array == \"Ceballos\")\n",
    "\n",
    "survey_length = float(len(survey_responses)) #this will show length of sample responded, to create accurate operation result, float given\n",
    "\n",
    "array_length = float(len(survey_responses_array))\n",
    "\n",
    "ceballos_percentage = round((total_ceballos/survey_length *100),2) #show percentage of ceballos voter from total voter\n",
    "ceb_percent_easy = round((np.mean(survey_responses_array == 'Ceballos') * 100),2)\n",
    "\n",
    "possible_survey = np.random.binomial(survey_length, .54, size = 10000)/ survey_length #deviding by survey_lenth to scale the result to sample size\n",
    "#in this case, ceballos win against kerrigan with 54 % in the city election.\n",
    "# so we were wondering why the reality and the survey prediction are different.\n",
    "\n",
    "plt.hist(possible_survey, range=(0, 1), bins=20 ) #this is the blue graph\n",
    "ceballos_loss_surveys= np.mean(possible_survey < 0.5) #this will calculate how many percent of incorrect probability. \n",
    "#algorithm given : 0.5 beacause the reality ceballos is the winner, so below that point will be incorrect probability\n",
    "print(ceballos_loss_surveys)\n",
    "\n",
    "large_survey_len = float(7000) # we will increase the sample of survey with 7k people to increase the accuracy\n",
    "large_survey= np.random.binomial(large_survey_len, 0.54, size=10000)/large_survey_len\n",
    "ceballos_loss_surveys_new = np.mean(large_survey < 0.5)\n",
    "#the result should be 0 percent, that means the more sample taken, the more accurate the data is\n",
    "print(ceballos_loss_surveys_new)\n",
    "plt.hist(large_survey, alpha =0.5, range=(0, 1), bins=20) # alpha is transparency argument\n",
    "\n",
    "\n",
    "plt.show()"
   ]
  },
  {
   "cell_type": "code",
   "execution_count": 159,
   "metadata": {},
   "outputs": [
    {
     "name": "stdout",
     "output_type": "stream",
     "text": [
      "[0.6 0.6 0.6 0.6 0.7 0.3 0.8 0.6 0.5 0.8]\n"
     ]
    },
    {
     "data": {
      "image/png": "[encoded data removed]",
      "text/plain": [
       "<Figure size 432x288 with 1 Axes>"
      ]
     },
     "metadata": {
      "needs_background": "light"
     },
     "output_type": "display_data"
    }
   ],
   "source": [
    "x = np.random.binomial(n = 10, p= 0.6, size=10) /10\n",
    "\n",
    "\n",
    "print(x)\n",
    "plt.hist(x, range=(0, 1), bins=10)\n",
    "plt.show()"
   ]
  }
 ],
 "metadata": {
  "kernelspec": {
   "display_name": "Python 3",
   "language": "python",
   "name": "python3"
  },
  "language_info": {
   "codemirror_mode": {
    "name": "ipython",
    "version": 3
   },
   "file_extension": ".py",
   "mimetype": "text/x-python",
   "name": "python",
   "nbconvert_exporter": "python",
   "pygments_lexer": "ipython3",
   "version": "3.8.3"
  }
 },
 "nbformat": 4,
 "nbformat_minor": 4
}
