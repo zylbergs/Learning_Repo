{
 "cells": [
  {
   "cell_type": "markdown",
   "metadata": {},
   "source": [
    "# Calculate health insurance"
   ]
  },
  {
   "cell_type": "raw",
   "metadata": {},
   "source": [
    "estimated_cost = 250*age - 128*sex + 370*bmi + 425*num_of_children + 24000*smoker - 12500"
   ]
  },
  {
   "cell_type": "code",
   "execution_count": 31,
   "metadata": {},
   "outputs": [
    {
     "name": "stdout",
     "output_type": "stream",
     "text": [
      "5117.0\n",
      "you are normal\n"
     ]
    }
   ],
   "source": [
    "class Customer:\n",
    "    def __init__(self, name, age, sex, bmi, num_children,smoker):\n",
    "        self.name = name\n",
    "        self.age = age\n",
    "        if sex == 'female':\n",
    "            self.sex = 0\n",
    "        elif sex == 'male':\n",
    "            self.sex = 1\n",
    "        else:\n",
    "            return 'input correct gender'\n",
    "        self.bmi = bmi\n",
    "        self.num_children = num_children\n",
    "        if smoker == False:\n",
    "            self.smoker = 0\n",
    "        elif smoker == True:\n",
    "            self.smoker = 1\n",
    "        else:\n",
    "            return 'input correct answer'\n",
    "    \n",
    "    def calculate(self):\n",
    "        estimated_cost = 250*self.age - 128*self.sex + 370*self.bmi + \\\n",
    "        425*self.num_children + 24000*self.smoker - 12500\n",
    "        return estimated_cost\n",
    "\n",
    "    def analyze_smoker(self):\n",
    "        if self.smoker == True:\n",
    "            return 'please consider quitting smoke if you want to lower the cost'\n",
    "        else:\n",
    "            return 'stay safe and avoid active or passive smoke'\n",
    "        \n",
    "    def analyze_bmi(self):\n",
    "        if self.bmi >=30:\n",
    "            return 'you are obese'\n",
    "        elif self.bmi >=25 and self.bmi <30:\n",
    "            return 'you are overweight'\n",
    "        elif self.bmi >= 18.5 and self.bmi <25:\n",
    "            return 'you are normal'\n",
    "        else:\n",
    "            return 'you are underweight'\n",
    "    \n",
    "maria = Customer('maria',26,'female',26.6,3,False)\n",
    "omar = Customer('omar', 35,'male',22.2,0,True)\n",
    "\n",
    "print(maria.calculate())\n",
    "print(omar.analyze_bmi())"
   ]
  }
 ],
 "metadata": {
  "kernelspec": {
   "display_name": "Python 3",
   "language": "python",
   "name": "python3"
  },
  "language_info": {
   "codemirror_mode": {
    "name": "ipython",
    "version": 3
   },
   "file_extension": ".py",
   "mimetype": "text/x-python",
   "name": "python",
   "nbconvert_exporter": "python",
   "pygments_lexer": "ipython3",
   "version": "3.8.3"
  }
 },
 "nbformat": 4,
 "nbformat_minor": 4
}
